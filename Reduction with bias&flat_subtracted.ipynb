{
 "cells": [
  {
   "cell_type": "code",
   "execution_count": null,
   "id": "30a6a641-a2a9-4d06-ae42-4f7f0e1a498d",
   "metadata": {},
   "outputs": [],
   "source": [
    "import importlib"
   ]
  },
  {
   "cell_type": "code",
   "execution_count": null,
   "id": "79310b21-fc5c-444b-ab7d-c85368d26d28",
   "metadata": {},
   "outputs": [],
   "source": [
    "from pyvista import imred, tv, spectra, stars, slitmask, image\n",
    "import numpy as np\n",
    "import pdb\n",
    "import copy\n",
    "import matplotlib.pyplot as plt\n",
    "import os\n",
    "from astropy.table import vstack\n",
    "import pandas as pd"
   ]
  },
  {
   "cell_type": "code",
   "execution_count": null,
   "id": "56890ca7-7242-40d5-9aa8-a6f04987d342",
   "metadata": {},
   "outputs": [],
   "source": [
    "# Use these lines if you are running the notebook yourself. Matplotlib\n",
    "# window will open outside the notebook, which is the desired behavior so\n",
    "# you can have a single display tool, which you should leave open. Other\n",
    "# plot windows will also appear outside the notebook, which you can close\n",
    "# as desired\n",
    "%matplotlib qt\n",
    "t=tv.TV()\n",
    "plotinter=True\n",
    "\n",
    "# following lines only for fully non-interactive demo of notebook\n",
    "#%matplotlib inline\n",
    "#plotinter=False\n",
    "#t=None"
   ]
  },
  {
   "cell_type": "code",
   "execution_count": null,
   "id": "a744b651-e50a-4ff4-b4fe-bf860766617e",
   "metadata": {},
   "outputs": [],
   "source": [
    "# put directory name with images here\n",
    "indir='UT230909'\n",
    "red=imred.Reducer('KOSMOS',dir=indir)"
   ]
  },
  {
   "cell_type": "code",
   "execution_count": null,
   "id": "ceb47f66-f058-40d4-9869-835988d184b7",
   "metadata": {
    "scrolled": true
   },
   "outputs": [],
   "source": [
    "red.log().show_in_notebook(display_length=10)"
   ]
  },
  {
   "cell_type": "code",
   "execution_count": null,
   "id": "3be5d7ad-02ac-4e6e-9837-a405b92c2f29",
   "metadata": {},
   "outputs": [],
   "source": [
    "flatims=[22]\n",
    "flat=red.mkflat(flatims,spec=True,display=None,littrow=False,)"
   ]
  },
  {
   "cell_type": "code",
   "execution_count": null,
   "id": "02603cec-0829-410e-af30-43e0adad91c6",
   "metadata": {},
   "outputs": [],
   "source": [
    "if t is not None:\n",
    "    t.tv(flat)"
   ]
  },
  {
   "cell_type": "code",
   "execution_count": null,
   "id": "406d2756-1981-4c69-8bf4-979e712f12f4",
   "metadata": {},
   "outputs": [],
   "source": [
    "biastims=[74,75,76,77,78]\n",
    "bias=red.mkbias(biastims,display=None)"
   ]
  },
  {
   "cell_type": "code",
   "execution_count": null,
   "id": "82472bbc-87e4-4d0d-999a-3cd13df90429",
   "metadata": {},
   "outputs": [],
   "source": [
    "if t is not None:\n",
    "    t.tv(bias)"
   ]
  },
  {
   "cell_type": "code",
   "execution_count": null,
   "id": "560c2a1b-f45b-4a32-9220-e2901e62e883",
   "metadata": {},
   "outputs": [],
   "source": [
    "darktims=[94,96,96]\n",
    "dark=red.mkdark(darktims,display=None)"
   ]
  },
  {
   "cell_type": "code",
   "execution_count": null,
   "id": "5e14bc0b-4c05-472f-91bf-6c8db7341c6c",
   "metadata": {},
   "outputs": [],
   "source": [
    "if t is not None:\n",
    "    t.tv(dark)"
   ]
  },
  {
   "cell_type": "code",
   "execution_count": null,
   "id": "f9f1c617-86fe-4c81-af98-468786feafe9",
   "metadata": {},
   "outputs": [],
   "source": [
    "star1=red.reduce(20, crbox='lacosmic', bias=bias, display=t)"
   ]
  },
  {
   "cell_type": "code",
   "execution_count": null,
   "id": "a02b70df-13ed-4c08-a580-1c5b6d8332db",
   "metadata": {},
   "outputs": [],
   "source": [
    "flat1 = red.reduce(22)"
   ]
  },
  {
   "cell_type": "code",
   "execution_count": null,
   "id": "825566f8-8645-4a73-b70b-75d619c49463",
   "metadata": {},
   "outputs": [],
   "source": [
    "# this does not take mkflat().\n",
    "trace=spectra.Trace(transpose=True)\n",
    "t.tvclear()\n",
    "bottom,top = trace.findslits(flat1,display=t,thresh=0.5,sn=True)"
   ]
  },
  {
   "cell_type": "code",
   "execution_count": null,
   "id": "50b9195b-ebcb-4987-9042-75a9ed83a64c",
   "metadata": {
    "scrolled": true
   },
   "outputs": [],
   "source": [
    "vars(trace)"
   ]
  },
  {
   "cell_type": "code",
   "execution_count": null,
   "id": "08f38474-79e0-4b97-9a5b-b120473f9c70",
   "metadata": {},
   "outputs": [],
   "source": [
    "trace.rows"
   ]
  },
  {
   "cell_type": "code",
   "execution_count": null,
   "id": "1cdba819-8ceb-4af3-9294-65403fb279e7",
   "metadata": {},
   "outputs": [],
   "source": [
    "kmsfile1='kms/kosmos.23.seg3g2Copy_2.kms'\n",
    "targets1 = slitmask.read_kms(kmsfile1, sort='YMM')# sort='YMM'"
   ]
  },
  {
   "cell_type": "code",
   "execution_count": null,
   "id": "14c7c8c4-8ace-47cb-9277-76aaf79f19ae",
   "metadata": {},
   "outputs": [],
   "source": [
    "df = targets1.to_pandas()"
   ]
  },
  {
   "cell_type": "code",
   "execution_count": null,
   "id": "654d79e2-06f6-49ac-b82d-79b16f313d4d",
   "metadata": {
    "scrolled": true
   },
   "outputs": [],
   "source": [
    "df # A look at your table in panda formate"
   ]
  },
  {
   "cell_type": "code",
   "execution_count": null,
   "id": "302d892a-fee4-4548-9278-aeaff07221d9",
   "metadata": {},
   "outputs": [],
   "source": [
    "# Specify the indices of the rows you want to remove\n",
    "rows_to_remove = [0,1,2,3,4,5,8,10,12,14,15]\n",
    "\n",
    "# Remove the specified rows\n",
    "df_cleaned = df.drop(rows_to_remove)"
   ]
  },
  {
   "cell_type": "code",
   "execution_count": null,
   "id": "9a598bd7-753d-4738-b2ed-ff1a269e7a31",
   "metadata": {},
   "outputs": [],
   "source": [
    "# Give your index value\n",
    "in_dex = [6, 7, 9, 11, 13]\n",
    "\n",
    "# Create a new list to store the filtered lines\n",
    "filtered_rows = []\n",
    "\n",
    "for index, line in enumerate(trace.rows):\n",
    "    if index in in_dex:\n",
    "        filtered_rows.append(line)\n",
    "\n",
    "# Replace the original trace.rows with the filtered list\n",
    "trace.rows = filtered_rows"
   ]
  },
  {
   "cell_type": "code",
   "execution_count": null,
   "id": "8b2ba4cd-f78e-435a-802a-79bbcaef2488",
   "metadata": {},
   "outputs": [],
   "source": [
    "# Create your own trace from scratch.\n",
    "trace1=spectra.Trace(sc0=2048,lags=range(-100,100),\n",
    "                    rows= trace.rows ,transpose=red.transpose, rad=5, degree= 3) #[1585,1545],# 1372 #1545-1585\n",
    "vars(trace1)"
   ]
  },
  {
   "cell_type": "code",
   "execution_count": null,
   "id": "9cb8e4c0-b437-4401-b61a-b190489accb4",
   "metadata": {
    "scrolled": true
   },
   "outputs": [],
   "source": [
    "#Trace\n",
    "srow= [1110, 1173, 1372,1564,1697]   #1173,746,954,1041, # list to allow for multiple spectra on an image, manually set\n",
    "#srow,ids=trace.findpeak(crstar, thresh=50)  # alternatively, find peak(s)\n",
    "# trace.find(star) will find the highest peak by cross-correlation\n",
    "# trace.find(star,inter=True,display=t)  will let you mark a trace location\n",
    "\n",
    "# rad is setting the width of your trace. It will take the center position to be the star position given taking from DS9.\n",
    "trace1.trace(star1,srow,skip=10,\n",
    "                    gaussian = True, display=t, rad= 5)\n",
    "vars(trace1)"
   ]
  },
  {
   "cell_type": "code",
   "execution_count": null,
   "id": "5d44e2f9-6fbf-4cce-ae28-b812907df889",
   "metadata": {},
   "outputs": [],
   "source": [
    "#Frame 15 is He, 16 is Ne, and 17 is Ar\n",
    "arcs=red.sum([23,])\n",
    "if t is not None:\n",
    "    t.clear()\n",
    "    t.tv(arcs)"
   ]
  },
  {
   "cell_type": "code",
   "execution_count": null,
   "id": "2f75d909-fa55-4f2b-a1bb-886d59552aaf",
   "metadata": {},
   "outputs": [],
   "source": [
    "arcec1=trace1.extract2d(arcs, display=t)"
   ]
  },
  {
   "cell_type": "code",
   "execution_count": null,
   "id": "46d126f3-2f5f-469e-9cba-97f314d9c2db",
   "metadata": {},
   "outputs": [],
   "source": [
    "if len(targets1) == len(bottom) : \n",
    "    for arc,target in zip(arcec1,targets1) :\n",
    "        arc.header['XMM'] = target['XMM']\n",
    "        arc.header['YMM'] = target['YMM']\n",
    "else :\n",
    "    print('ERROR, number of identified slits does not match number of targets')"
   ]
  },
  {
   "cell_type": "code",
   "execution_count": null,
   "id": "a81b5c29-3efe-467b-8227-d551576985d1",
   "metadata": {},
   "outputs": [],
   "source": [
    "for i,arc in enumerate(arcec1) :\n",
    "    \n",
    "    wav=spectra.WaveCal('KOSMOS/KOSMOS_red_waves.fits')\n",
    "    nrow=arc.shape[0] # this is referring to the slit width of each slit. \n",
    "    # get initial guess at shift from reference using XMM (KOSMOS red low!)\n",
    "    shift=int(arc.header['XMM'])#*-22.5) # 500 #-wav.pix0)\n",
    "    lags=np.arange(shift-400,shift+400)\n",
    "\n",
    "    iter = True\n",
    "    while iter :\n",
    "        iter = wav.identify(arc[nrow//2],plot=True,plotinter=True,\n",
    "                            lags=lags,thresh=10,file='new_wave_lamps/new_neon_red_center.dat')\n",
    "        lags=np.arange(-150,150)\n",
    "        plt.close()\n",
    "        \n",
    "    # Do the 2D wavelength solution, sampling 5 locations across slitlet\n",
    "    wav.identify(arc,plot=True,nskip=nrow//5,thresh=10)\n",
    "    plt.close()"
   ]
  },
  {
   "cell_type": "code",
   "execution_count": null,
   "id": "a94025da-4053-4ec5-ae7f-9663b87f78b3",
   "metadata": {
    "scrolled": true
   },
   "outputs": [],
   "source": [
    "# Sky window starts right on top of spectra window.\n",
    "starec2=trace1.extract2d(star1, display= t,) # rad = 3 back=[[9,3],[-9,-3]],\n",
    "\n",
    "#plt.figure()\n",
    "#plt.plot(starec2.data[0])\n",
    "#plt.plot(starec2.data[0])\n",
    "#vars(starec2)"
   ]
  },
  {
   "cell_type": "code",
   "execution_count": null,
   "id": "7705d2d7-d131-42a9-a2fd-991f33e093e0",
   "metadata": {
    "scrolled": true
   },
   "outputs": [],
   "source": [
    "t.clear()\n",
    "plt.figure()\n",
    "for i,(o,a) in enumerate(zip(starec2,arcec1)) :\n",
    "    print(o.shape)\n",
    "    print(a.wave)\n",
    "    o.add_wave(a.wave)\n",
    "    name = o.header[\"FILE\"].split(\".\")[0]\n",
    "    print(name)\n",
    "    #t.tv(o)\n",
    "    #t.tv(o.wave)\n",
    "    plt.plot(o.wave[10],o.data[10])\n",
    "    #o.write(name + \"_{:d}.fits\".format(i))"
   ]
  },
  {
   "cell_type": "code",
   "execution_count": null,
   "id": "59ea24e9-571e-4614-9bae-b4661eea88a3",
   "metadata": {},
   "outputs": [],
   "source": [
    "#trace2 = spectra.Trace(transpose=False)\n",
    "#trace2.rows = [0,starec2[i].data.shape[0]]\n",
    "#trace2.index = [0]"
   ]
  },
  {
   "cell_type": "code",
   "execution_count": null,
   "id": "457b8f84-d7fa-4449-9e82-da490c7a7619",
   "metadata": {},
   "outputs": [],
   "source": [
    "#vars(trace2)"
   ]
  },
  {
   "cell_type": "code",
   "execution_count": null,
   "id": "62ca70f9-f439-4df4-b26a-348776683612",
   "metadata": {},
   "outputs": [],
   "source": [
    "importlib.reload(spectra)\n",
    "def model(x) :\n",
    "    return x*0.\n",
    "\n",
    "fig=plt.figure()\n",
    "for i in range(len(starec2)) :\n",
    "    #fig = plt.figure() \n",
    "    trace1 = spectra.Trace(transpose=False)\n",
    "    trace1.rows = [0,starec2[i].data.shape[0]]\n",
    "    trace1.index = [0]\n",
    "    peak,ind = trace1.findpeak(starec2[i],thresh=10,sort=True)\n",
    "    if len(peak) > 0:\n",
    "        def model(x) :\n",
    "            return x*0. + peak[0]\n",
    "        trace1.model = [model]\n",
    "        spec=trace1.extract(starec2[i],rad=5,back=[[-10,-5],[10,5]], display=t) # This line is important because you are extracting sky here.\n",
    "        plt.figure(fig)\n",
    "        spec.wave = starec2[i].wave[peak]\n",
    "        print(spec.wave[0].shape,spec.data[0].shape)\n",
    "        plt.plot(spec.wave[0],spec.data[0])\n",
    "    else :\n",
    "        print('no peak found for slit: ',i)\n",
    "    #plt.draw()"
   ]
  },
  {
   "cell_type": "code",
   "execution_count": null,
   "id": "3e14332d-7ca1-4105-a409-308f94021572",
   "metadata": {},
   "outputs": [],
   "source": [
    "import copy\n",
    "importlib.reload(spectra)\n",
    "def model(x) :\n",
    "    return x*0.\n",
    "\n",
    "fig=plt.figure()\n",
    "for i in range(len(starec2)) :\n",
    "    trace3 = spectra.Trace(transpose=False)\n",
    "    trace3.rows = [0,starec2[i].data.shape[0]]\n",
    "    trace3.index = [0]\n",
    "    peak,ind = trace3.findpeak(starec2[i],thresh=10,sort=True)\n",
    "    if len(peak) > 0:\n",
    "        def model(x) :\n",
    "            return x*0. + peak[0]\n",
    "        trace3.model = [model]\n",
    "        spec=trace3.extract(starec2[i],rad=4, display=None) #,display=t) # back=[[-10,-5],[5,10]\n",
    "        plt.figure(fig)\n",
    "        spec.wave = starec2[i].wave[peak]\n",
    "        swav=copy.deepcopy(wav)\n",
    "        swav.skyline( spec, thresh=0.5 , linear= False, inter=plotinter, file='pyvista/data/sky/skyline.dat')\n",
    "        print(wav.model)\n",
    "        print(swav.model)\n",
    "        \n",
    "        #print(spec.model)\n",
    "        #print(spec.wave[0].shape,spec.data[0].shape)\n",
    "        #plt.plot(spec.wave[0],spec.data[0])\n",
    "    else :\n",
    "        print('no peak found for slit: ',i)\n",
    "    #plt.draw()"
   ]
  },
  {
   "cell_type": "code",
   "execution_count": null,
   "id": "4d45cb03-47d6-4a40-80c1-537ead8d1ece",
   "metadata": {},
   "outputs": [],
   "source": []
  }
 ],
 "metadata": {
  "kernelspec": {
   "display_name": "Python 3 (ipykernel)",
   "language": "python",
   "name": "python3"
  },
  "language_info": {
   "codemirror_mode": {
    "name": "ipython",
    "version": 3
   },
   "file_extension": ".py",
   "mimetype": "text/x-python",
   "name": "python",
   "nbconvert_exporter": "python",
   "pygments_lexer": "ipython3",
   "version": "3.11.9"
  }
 },
 "nbformat": 4,
 "nbformat_minor": 5
}
