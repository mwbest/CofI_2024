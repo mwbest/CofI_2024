{
 "cells": [
  {
   "cell_type": "markdown",
   "id": "e19b69fc-3ec8-4d51-8255-c239ff568074",
   "metadata": {
    "jp-MarkdownHeadingCollapsed": true
   },
   "source": [
    "# Comparison plots"
   ]
  },
  {
   "cell_type": "code",
   "execution_count": 1,
   "id": "858efb1f-a388-4b86-8542-20915ae2bbf1",
   "metadata": {},
   "outputs": [
    {
     "name": "stdout",
     "output_type": "stream",
     "text": [
      "Filename: spec_without_sky_20_004.fits\n",
      "No.    Name      Ver    Type      Cards   Dimensions   Format\n",
      "  0  PRIMARY       1 PrimaryHDU      68   ()      \n",
      "  1                1 ImageHDU         7   (4096, 1)   float64   \n",
      "  2  UNCERT        1 ImageHDU         9   (4096, 1)   float64   \n",
      "  3  BITMASK       1 ImageHDU        10   (4096, 1)   int32 (rescales to uint32)   \n",
      "  4  WAVE          1 ImageHDU         8   (4096, 2)   float64   \n"
     ]
    }
   ],
   "source": [
    "from astropy.io import fits\n",
    "f0 = fits.open('spec_without_sky_17_004.fits')\n",
    "f01 = fits.open('spec_without_sky_20_004.fits')\n",
    "f01.info()"
   ]
  },
  {
   "cell_type": "code",
   "execution_count": 2,
   "id": "e5c566e5-7c93-4cd3-b2a8-47970893491f",
   "metadata": {},
   "outputs": [],
   "source": [
    "%matplotlib qt\n",
    "import matplotlib.pyplot as plt\n",
    "fig, (ax1,ax2)= plt.subplots(2,1)\n",
    "ax1.plot(f0[4].data[0], f0[1].data[0])\n",
    "ax1.set_title('SEG3G2_17')\n",
    "ax1.grid(True)\n",
    "ax2.plot(f01[4].data[0],f01[1].data[0])\n",
    "ax2.set_xlabel('angstrom')\n",
    "#ax1.set_xlabel('angstrom')\n",
    "ax1.set_ylabel('Pixel count')\n",
    "ax2.set_ylabel('Pixel count')\n",
    "ax2.set_title('SEG3G2_20')\n",
    "ax2.grid(True)"
   ]
  },
  {
   "cell_type": "code",
   "execution_count": 3,
   "id": "ffc03e2f-bb93-4942-9a1f-56b292d37da2",
   "metadata": {
    "jupyter": {
     "source_hidden": true
    }
   },
   "outputs": [
    {
     "name": "stdout",
     "output_type": "stream",
     "text": [
      "Filename: spec_without_sky_17_001.fits\n",
      "No.    Name      Ver    Type      Cards   Dimensions   Format\n",
      "  0  PRIMARY       1 PrimaryHDU      67   ()      \n",
      "  1                1 ImageHDU         7   (4096, 1)   float64   \n",
      "  2  UNCERT        1 ImageHDU         9   (4096, 1)   float64   \n",
      "  3  BITMASK       1 ImageHDU        10   (4096, 1)   int32 (rescales to uint32)   \n",
      "  4  WAVE          1 ImageHDU         8   (4096, 2)   float64   \n"
     ]
    }
   ],
   "source": [
    "from astropy.io import fits\n",
    "f = fits.open('spec_without_sky_17_001.fits')\n",
    "f1 = fits.open('spec_without_sky_20_001.fits')\n",
    "f.info()"
   ]
  },
  {
   "cell_type": "code",
   "execution_count": 4,
   "id": "91117f6e-83ce-4b0e-8005-36bc762c8c5d",
   "metadata": {
    "jupyter": {
     "source_hidden": true
    }
   },
   "outputs": [
    {
     "data": {
      "text/plain": [
       "[<matplotlib.lines.Line2D at 0x1b9da641280>]"
      ]
     },
     "execution_count": 4,
     "metadata": {},
     "output_type": "execute_result"
    }
   ],
   "source": [
    "%matplotlib qt\n",
    "import matplotlib.pyplot as plt\n",
    "fig, (ax1,ax2)= plt.subplots(2,1)\n",
    "ax1.plot(f[4].data[0], f[1].data[0]/f[2].data[0])\n",
    "ax2.plot(f1[4].data[0],f1[1].data[0]/f1[2].data[0])"
   ]
  },
  {
   "cell_type": "code",
   "execution_count": 5,
   "id": "ac97c272-b5a5-4e0f-a936-b9af4a1fc32e",
   "metadata": {
    "scrolled": true
   },
   "outputs": [
    {
     "data": {
      "text/plain": [
       "{'_header_str': None,\n",
       " '_file': <astropy.io.fits.file._File <_io.BufferedReader name='spec_without_sky_17_001.fits'>>,\n",
       " '_buffer': None,\n",
       " '_header_offset': 43200,\n",
       " '_data_offset': 46080,\n",
       " '_data_size': 34560,\n",
       " '_data_replaced': False,\n",
       " '_data_needs_rescale': False,\n",
       " '_new': False,\n",
       " '_output_checksum': False,\n",
       " '_checksum': None,\n",
       " '_checksum_valid': None,\n",
       " '_datasum': None,\n",
       " '_datasum_valid': None,\n",
       " '_do_not_scale_image_data': False,\n",
       " '_uint': True,\n",
       " '_scale_back': None,\n",
       " '_bzero': 0,\n",
       " '_bscale': 1,\n",
       " '_axes': [4096, 1],\n",
       " '_bitpix': -64,\n",
       " '_gcount': 1,\n",
       " '_pcount': 0,\n",
       " '_blank': None,\n",
       " '_orig_bitpix': -64,\n",
       " '_orig_blank': None,\n",
       " '_orig_bzero': 0,\n",
       " '_orig_bscale': 1,\n",
       " '_modified': False,\n",
       " '_header': XTENSION= 'IMAGE   '           / Image extension                                \n",
       " BITPIX  =                  -64 / array data type                                \n",
       " NAXIS   =                    2 / number of array dimensions                     \n",
       " NAXIS1  =                 4096                                                  \n",
       " NAXIS2  =                    1                                                  \n",
       " PCOUNT  =                    0 / number of parameters                           \n",
       " GCOUNT  =                    1 / number of groups                               \n",
       " UTYPE   = 'StdDevUncertainty'                                                   \n",
       " EXTNAME = 'UNCERT  '           / extension name                                 ,\n",
       " 'data': array([[101.8012951 ,  57.20540848,  53.85148586, ...,  50.39449075,\n",
       "          51.4524226 ,  50.08926254]], dtype='>f8')}"
      ]
     },
     "execution_count": 5,
     "metadata": {},
     "output_type": "execute_result"
    }
   ],
   "source": [
    "vars(f[2])"
   ]
  },
  {
   "cell_type": "code",
   "execution_count": 6,
   "id": "1889dfe5-59f4-443d-af21-80b3006dd677",
   "metadata": {},
   "outputs": [
    {
     "name": "stdout",
     "output_type": "stream",
     "text": [
      "Filename: spec_without_sky_18_004.fits\n",
      "No.    Name      Ver    Type      Cards   Dimensions   Format\n",
      "  0  PRIMARY       1 PrimaryHDU      67   ()      \n",
      "  1                1 ImageHDU         7   (4096, 1)   float64   \n",
      "  2  UNCERT        1 ImageHDU         9   (4096, 1)   float64   \n",
      "  3  BITMASK       1 ImageHDU        10   (4096, 1)   int32 (rescales to uint32)   \n",
      "  4  WAVE          1 ImageHDU         8   (4096, 2)   float64   \n"
     ]
    }
   ],
   "source": [
    "from astropy.io import fits\n",
    "f02 = fits.open('spec_without_sky_17_004.fits')\n",
    "f03 = fits.open('spec_without_sky_18_004.fits')\n",
    "f03.info()"
   ]
  },
  {
   "cell_type": "code",
   "execution_count": 7,
   "id": "9c94987b-7560-49f0-a041-1b9d61d17bab",
   "metadata": {},
   "outputs": [],
   "source": [
    "import matplotlib.pyplot as plt\n",
    "fig, (ax1,ax2)= plt.subplots(2,1)\n",
    "ax1.plot(f02[4].data[0], f02[1].data[0]) #/f[2].data[0])\n",
    "ax1.grid(True)\n",
    "ax1.set_title('SEG3G2_17')\n",
    "ax2.plot(f03[4].data[0],f03[1].data[0])#/f1[2].data[0])\n",
    "ax2.set_title('SEG3G2_18')\n",
    "ax2.set_xlabel('angstrom')\n",
    "#ax1.set_xlabel('angstrom')\n",
    "ax1.set_ylabel('Pixel count')\n",
    "ax2.set_ylabel('Pixel count')\n",
    "ax2.set_title('SEG3G2_20')\n",
    "ax2.grid(True)"
   ]
  },
  {
   "cell_type": "code",
   "execution_count": 8,
   "id": "fd53a8c3-2b57-486c-a302-4f27223dcc67",
   "metadata": {},
   "outputs": [],
   "source": [
    "plt.figure()\n",
    "plt.plot(f02[4].data[0],f02[1].data[0])\n",
    "plt.title('SEG3G2_17_&_18, 17 in blue & 18 in yellow.')\n",
    "plt.plot(f03[4].data[0],f03[1].data[0])\n",
    "plt.grid(True)"
   ]
  },
  {
   "cell_type": "code",
   "execution_count": 9,
   "id": "9098739b-12cf-4bfa-898e-df0810bfb986",
   "metadata": {},
   "outputs": [
    {
     "name": "stdout",
     "output_type": "stream",
     "text": [
      "Filename: spec_without_sky_18_001.fits\n",
      "No.    Name      Ver    Type      Cards   Dimensions   Format\n",
      "  0  PRIMARY       1 PrimaryHDU      67   ()      \n",
      "  1                1 ImageHDU         7   (4096, 1)   float64   \n",
      "  2  UNCERT        1 ImageHDU         9   (4096, 1)   float64   \n",
      "  3  BITMASK       1 ImageHDU        10   (4096, 1)   int32 (rescales to uint32)   \n",
      "  4  WAVE          1 ImageHDU         8   (4096, 1)   float64   \n"
     ]
    }
   ],
   "source": [
    "from astropy.io import fits\n",
    "f_1 = fits.open('spec_without_sky_18_001.fits')\n",
    "f_2 = fits.open('spec_without_sky_18_01.fits')\n",
    "f_1.info()"
   ]
  },
  {
   "cell_type": "code",
   "execution_count": 10,
   "id": "5b412840-77d1-4229-90d6-47e8db8972fd",
   "metadata": {},
   "outputs": [],
   "source": [
    "import matplotlib.pyplot as plt\n",
    "fig, (ax1,ax2)= plt.subplots(2,1)\n",
    "ax1.plot(f_1[4].data[0], f_1[1].data[0]) #/f[2].data[0])\n",
    "ax1.grid(True)\n",
    "ax2.plot(f_2[4].data[0],f_2[1].data[0])#/f1[2].data[0])\n",
    "ax2.set_xlabel('angstrom')\n",
    "#ax1.set_xlabel('angstrom')\n",
    "ax1.set_ylabel('Pixel count')\n",
    "ax2.set_ylabel('Pixel count')\n",
    "ax2.set_title('SEG3G2_20')\n",
    "ax2.grid(True)"
   ]
  },
  {
   "cell_type": "code",
   "execution_count": 11,
   "id": "e0795239-124c-4c8c-a49d-79fc0d1fee65",
   "metadata": {},
   "outputs": [],
   "source": [
    "plt.figure()\n",
    "plt.plot(f_1[4].data[0],f_1[1].data[0])\n",
    "plt.plot(f_2[4].data[0],f_2[1].data[0])\n",
    "plt.grid(True)"
   ]
  },
  {
   "cell_type": "code",
   "execution_count": 12,
   "id": "322ce1ee-35bd-4011-b783-ec96f28d5487",
   "metadata": {},
   "outputs": [
    {
     "name": "stdout",
     "output_type": "stream",
     "text": [
      "Filename: spec_without_sky_20_004.fits\n",
      "No.    Name      Ver    Type      Cards   Dimensions   Format\n",
      "  0  PRIMARY       1 PrimaryHDU      68   ()      \n",
      "  1                1 ImageHDU         7   (4096, 1)   float64   \n",
      "  2  UNCERT        1 ImageHDU         9   (4096, 1)   float64   \n",
      "  3  BITMASK       1 ImageHDU        10   (4096, 1)   int32 (rescales to uint32)   \n",
      "  4  WAVE          1 ImageHDU         8   (4096, 2)   float64   \n"
     ]
    }
   ],
   "source": [
    "from astropy.io import fits\n",
    "f2 = fits.open('spec_without_sky_20_004.fits')\n",
    "f3 = fits.open('spec_with_sky_20_004.fits')\n",
    "f2.info()"
   ]
  },
  {
   "cell_type": "code",
   "execution_count": 13,
   "id": "233bab03-8543-4b41-b33e-c7618e921a57",
   "metadata": {},
   "outputs": [],
   "source": [
    "plt.figure()\n",
    "plt.plot(f2[4].data[0],f2[1].data[0])\n",
    "plt.plot(f3[4].data[0],f3[1].data[0])\n",
    "plt.grid(True)"
   ]
  },
  {
   "cell_type": "code",
   "execution_count": 14,
   "id": "83de5a24-aa5c-4a72-9a5c-123c9147ee3e",
   "metadata": {},
   "outputs": [],
   "source": [
    "import matplotlib.pyplot as plt\n",
    "fig, (ax1,ax2)= plt.subplots(2,1)\n",
    "ax1.plot(f3[4].data[0], f3[1].data[0]) #/f[2].data[0])\n",
    "ax2.set_title('SEG3G2_20_Spectrum with sky subtracted')\n",
    "ax1.grid(True)\n",
    "ax2.plot(f2[4].data[0],f2[1].data[0])#/f1[2].data[0])\n",
    "ax1.set_title('SEG3G2_20_spectrum with sky not subtracted')\n",
    "ax2.set_xlabel('angstrom')\n",
    "#ax1.set_xlabel('angstrom')\n",
    "ax1.set_ylabel('Pixel count')\n",
    "ax2.set_ylabel('Pixel count')\n",
    "#ax2.set_title('SEG3G2_20')\n",
    "ax2.grid(True)"
   ]
  },
  {
   "cell_type": "code",
   "execution_count": 15,
   "id": "0a4ce10b-96eb-4eb0-bae8-6716709f9d40",
   "metadata": {},
   "outputs": [],
   "source": [
    "import numpy as np\n",
    "skyline_file_path = 'new_wave_lamp/telluric_lines_test.dat'\n",
    "skyline_wavelengths = np.loadtxt(skyline_file_path)"
   ]
  },
  {
   "cell_type": "code",
   "execution_count": 16,
   "id": "0c6067fa-71ef-4ac0-8298-3109570646f1",
   "metadata": {},
   "outputs": [
    {
     "data": {
      "text/plain": [
       "<matplotlib.legend.Legend at 0x1b9da994740>"
      ]
     },
     "execution_count": 16,
     "metadata": {},
     "output_type": "execute_result"
    }
   ],
   "source": [
    "#fig, ax1 = plt.subplots()\n",
    "plt.figure()\n",
    "plt.plot(f3[4].data[0], f3[1].data[0], label='Original Spectrum')\n",
    "for wl in skyline_wavelengths:\n",
    "    plt.axvline(wl, color='red', linestyle='--', alpha=0.5)\n",
    "#plt.ylabel('Intensity')\n",
    "plt.title('Sky Spectra and telluric lines Correspondence')\n",
    "plt.grid(True)\n",
    "#plt.xlim(8400,8800)\n",
    "plt.legend()"
   ]
  },
  {
   "cell_type": "code",
   "execution_count": 17,
   "id": "ed2b92a6-f848-4890-8a18-9d19852363c4",
   "metadata": {},
   "outputs": [
    {
     "data": {
      "text/plain": [
       "<matplotlib.legend.Legend at 0x1b9da685dc0>"
      ]
     },
     "execution_count": 17,
     "metadata": {},
     "output_type": "execute_result"
    }
   ],
   "source": [
    "#fig, ax1 = plt.subplots()\n",
    "plt.figure()\n",
    "plt.plot(f2[4].data[0], f2[1].data[0], label='Original Spectrum')\n",
    "#for wl in skyline_wavelengths:\n",
    "#    plt.axvline(wl, color='red', linestyle='--', alpha=0.5)\n",
    "#plt.ylabel('Intensity')\n",
    "plt.title('Sky Spectra and telluric lines Correspondence')\n",
    "plt.grid(True)\n",
    "plt.xlim(8400,8800)\n",
    "plt.legend()"
   ]
  },
  {
   "cell_type": "code",
   "execution_count": 18,
   "id": "aad3ac43-c330-416c-902f-66756672bb79",
   "metadata": {},
   "outputs": [],
   "source": [
    "from astropy.nddata import CCDData\n",
    "from astropy.nddata import NDData"
   ]
  },
  {
   "cell_type": "code",
   "execution_count": 19,
   "id": "946ad191-2d7c-4a42-941b-ae16dded82c3",
   "metadata": {},
   "outputs": [
    {
     "data": {
      "text/plain": [
       "XTENSION= 'IMAGE   '           / Image extension                                \n",
       "BITPIX  =                  -64 / array data type                                \n",
       "NAXIS   =                    2 / number of array dimensions                     \n",
       "NAXIS1  =                 4096                                                  \n",
       "NAXIS2  =                    1                                                  \n",
       "PCOUNT  =                    0 / number of parameters                           \n",
       "GCOUNT  =                    1 / number of groups                               "
      ]
     },
     "execution_count": 19,
     "metadata": {},
     "output_type": "execute_result"
    }
   ],
   "source": [
    "f02[1].header"
   ]
  },
  {
   "cell_type": "code",
   "execution_count": 20,
   "id": "6dcf1da8-4097-443c-8745-09404778f263",
   "metadata": {
    "scrolled": true
   },
   "outputs": [
    {
     "name": "stdout",
     "output_type": "stream",
     "text": [
      "Header for HDU 0:\n",
      "SIMPLE  =                    T / conforms to FITS standard                      \n",
      "BITPIX  =                    8 / array data type                                \n",
      "NAXIS   =                    0 / number of array dimensions                     \n",
      "EXTEND  =                    T                                                  \n",
      "OBSERVAT= 'APO'                / Per the IRAF observatory list.                 \n",
      "TELESCOP= '3.5m'                                                                \n",
      "INSTRUME= 'kosmos'             / Instrument name                                \n",
      "LATITUDE= +3.2780361000000E+01 / Latitude of telescope base                     \n",
      "LONGITUD= -1.0582041700000E+02 / Longitude of telescope base                    \n",
      "UTC-TAI = -37.0                / UTC = TAI + UTC_TAI(seconds)                   \n",
      "UT1-TAI = -36.99               / UT1 = TAI + UT1_TAI(seconds)                   \n",
      "LST     = '19:17:02.674'       / Local Apparent Sidereal time                   \n",
      "OBJNAME = 'Seg3G2-Mask'        / Object name, per TCC ObjName                   \n",
      "RADECSYS= 'FK5'                / Coordinate system, per TCC ObjSys              \n",
      "OBJANGLE= +9.0002298970000E+01 / Angle from inst x,y to sky                     \n",
      "RA      = '21:21:33.79'        / RA hours, extrapolated from TCC ObjNetPos      \n",
      "DEC     = '19:09:08.51'        / Dec degrees, extrapolated from TCC ObjNetPos   \n",
      "ARCOFFX = +6.6199000000000E-03 / TCC arc offset X                               \n",
      "ARCOFFY = +2.5875000000000E-03 / TCC arc offset Y                               \n",
      "CALOFFX = +0.0000000000000E+00 / TCC calibration offset X                       \n",
      "CALOFFY = +0.0000000000000E+00 / TCC calibration offset Y                       \n",
      "BOREOFFX= +0.0000000000000E+00 / TCC boresight offset X                         \n",
      "BOREOFFY= +0.0000000000000E+00 / TCC boresight offset Y                         \n",
      "AIRPRESS= +7.3576000000000E+04 / Air pressure, Pascals                          \n",
      "HUMIDITY= +2.6000000000000E-01 / Humidity, fraction                             \n",
      "TELAZ   = +7.1901822000000E+01 / TCC AxePos azimuth                             \n",
      "TELALT  = +5.9030371000000E+01 / TCC AxePos altitude                            \n",
      "TELROT  = -1.5289477700000E+02 / TCC AxePos rotator                             \n",
      "TELFOCUS= +2.7500000000000E+02 / TCC SecFocus                                   \n",
      "ZD      = +3.0969629000000E+01 / Zenith distance                                \n",
      "AIRMASS = +1.1662621059461E+00 / 1/cos(ZD)                                      \n",
      "FILENAME= 'SEG3G2.0017.fits'   / original filename                              \n",
      "DATE-OBS= '2023-09-09T03:09:16.686771' / TAI time at the start of the exposure  \n",
      "BINX    =                    1 / column bin factor                              \n",
      "BINY    =                    1 / row bin factor                                 \n",
      "CCDBIN1 =                    1 / column bin factor                              \n",
      "CCDBIN2 =                    1 / row bin factor                                 \n",
      "IMAGETYP= 'Object  '           / exposure type                                  \n",
      "EXPTIME =               1200.0 / exposure time (sec)                            \n",
      "CCDTEMP =               157.75 / detector temp (K)                              \n",
      "CSEC11  = '[1:1024,1:4096]'    / data section of CCD (unbinned)                 \n",
      "CSEC12  = '[1025:2048,1:4096]' / data section of CCD (unbinned)                 \n",
      "DSEC11  = '[1:1024,1:4096]'    / data section of image (binned)                 \n",
      "BSEC11  = '[2049:2098,1:4096]' / bias section of image (binned)                 \n",
      "DSEC12  = '[1025:2048,1:4096]' / data section of image (binned)                 \n",
      "BSEC12  = '[2099:2148,1:4096]' / bias section of image (binned)                 \n",
      "DEWPRESS=            2.548E-05 / dewar pressure (Torr)                          \n",
      "KRYPTON = 'off     '                                                            \n",
      "HE-TR   = 'off     '                                                            \n",
      "DISPERSR= 'red     '                                                            \n",
      "QUARTZ  = 'off     '                                                            \n",
      "GFOC    =                 2090                                                  \n",
      "CALSTAGE=                  100                                                  \n",
      "CAMFOC  =                 2840                                                  \n",
      "BQTZ-TR = 'off     '                                                            \n",
      "NE-TR   = 'off     '                                                            \n",
      "NEON    = 'off     '                                                            \n",
      "DQTZ-TR = 'off     '                                                            \n",
      "SLIT    = 'Seg3G2  '                                                            \n",
      "COLFOC  =                 2000                                                  \n",
      "FILTER2 = 'empty1  '                                                            \n",
      "FILTER1 = 'empty1  '                                                            \n",
      "ARGON   = 'off     '                                                            \n",
      "AR-TR   = 'off     '                                                            \n",
      "FILE    = 'SEG3G2.0017.fits'                                                    \n",
      "OBJECT  = 'Seg3G2-Mask'                                                         \n",
      "CNPIX2  =                 1681                                                  \n",
      "\n",
      "\n",
      "Header for HDU 1:\n",
      "XTENSION= 'IMAGE   '           / Image extension                                \n",
      "BITPIX  =                  -64 / array data type                                \n",
      "NAXIS   =                    2 / number of array dimensions                     \n",
      "NAXIS1  =                 4096                                                  \n",
      "NAXIS2  =                    1                                                  \n",
      "PCOUNT  =                    0 / number of parameters                           \n",
      "GCOUNT  =                    1 / number of groups                               \n",
      "\n",
      "\n",
      "Header for HDU 2:\n",
      "XTENSION= 'IMAGE   '           / Image extension                                \n",
      "BITPIX  =                  -64 / array data type                                \n",
      "NAXIS   =                    2 / number of array dimensions                     \n",
      "NAXIS1  =                 4096                                                  \n",
      "NAXIS2  =                    1                                                  \n",
      "PCOUNT  =                    0 / number of parameters                           \n",
      "GCOUNT  =                    1 / number of groups                               \n",
      "UTYPE   = 'StdDevUncertainty'                                                   \n",
      "EXTNAME = 'UNCERT  '           / extension name                                 \n",
      "\n",
      "\n",
      "Header for HDU 3:\n",
      "XTENSION= 'IMAGE   '           / Image extension                                \n",
      "BITPIX  =                   32 / array data type                                \n",
      "NAXIS   =                    2 / number of array dimensions                     \n",
      "NAXIS1  =                 4096                                                  \n",
      "NAXIS2  =                    1                                                  \n",
      "PCOUNT  =                    0 / number of parameters                           \n",
      "GCOUNT  =                    1 / number of groups                               \n",
      "BSCALE  =                    1                                                  \n",
      "BZERO   =           2147483648                                                  \n",
      "EXTNAME = 'BITMASK '           / extension name                                 \n",
      "\n",
      "\n",
      "Header for HDU 4:\n",
      "XTENSION= 'IMAGE   '           / Image extension                                \n",
      "BITPIX  =                  -64 / array data type                                \n",
      "NAXIS   =                    2 / number of array dimensions                     \n",
      "NAXIS1  =                 4096                                                  \n",
      "NAXIS2  =                    1                                                  \n",
      "PCOUNT  =                    0 / number of parameters                           \n",
      "GCOUNT  =                    1 / number of groups                               \n",
      "EXTNAME = 'WAVE    '           / extension name                                 \n",
      "\n",
      "\n"
     ]
    }
   ],
   "source": [
    "from astropy.io import fits\n",
    "\n",
    "# Open the FITS file\n",
    "filename = 'spec_without_sky_17_004.fits'\n",
    "hdul = fits.open(filename)\n",
    "\n",
    "# Print the headers to inspect them\n",
    "for i, hdu in enumerate(hdul):\n",
    "    print(f\"Header for HDU {i}:\")\n",
    "    print(repr(hdu.header))\n",
    "    print(\"\\n\")\n",
    "\n",
    "# Close the FITS file\n",
    "hdul.close()"
   ]
  },
  {
   "cell_type": "code",
   "execution_count": 21,
   "id": "e48ec89b-cf94-4873-860d-f3d173d888ef",
   "metadata": {
    "scrolled": true
   },
   "outputs": [],
   "source": [
    "#pip install ccdproc"
   ]
  },
  {
   "cell_type": "code",
   "execution_count": 22,
   "id": "853e1b93-eb95-4d21-9cd1-ea47f0325f18",
   "metadata": {},
   "outputs": [],
   "source": [
    "from ccdproc import Combiner"
   ]
  },
  {
   "cell_type": "code",
   "execution_count": 72,
   "id": "78c985fb-aef8-4ce0-be17-460a2727b408",
   "metadata": {},
   "outputs": [
    {
     "name": "stdout",
     "output_type": "stream",
     "text": [
      "INFO: array provided for uncertainty; assuming it is a StdDevUncertainty. [astropy.nddata.ccddata]\n",
      "INFO: array provided for uncertainty; assuming it is a StdDevUncertainty. [astropy.nddata.ccddata]\n"
     ]
    },
    {
     "data": {
      "text/plain": [
       "Text(0.5, 1.0, 'Combined 17 & 18')"
      ]
     },
     "execution_count": 72,
     "metadata": {},
     "output_type": "execute_result"
    }
   ],
   "source": [
    "#make a ccddata object out of the flux and uncertainty of each spectra you want to combine\n",
    "ccd_67 = CCDData(data = f02[1].data[0], uncertainty = f02[2].data[0], unit = 'pixel')\n",
    "ccd_68 = CCDData(data = f03[1].data[0], uncertainty = f03[2].data[0], unit = 'pixel')\n",
    "#ccd_69 = CCDData(data = sci_fit_69.flux, uncertainty = sci_fit_69.uncertainty, unit = sci_fit_69.flux.unit)\n",
    "#put them all into Combiner (from ccdproc)\n",
    "spec_67_69 = Combiner([ccd_67, ccd_68])\n",
    "\n",
    "#then average combine (it is slightly better than median combining)\n",
    "avg_test_67_69 = spec_67_69.average_combine()\n",
    "\n",
    "#When you want to get the average flux into a plot, take out the avg_test.data\n",
    "fig, (ax1,ax2,ax3)= plt.subplots(3,1)\n",
    "\n",
    "ax1.plot(f02[4].data[0],f02[1].data[0])\n",
    "ax1.set_title('SEG3G2_17')\n",
    "ax2.plot(f03[4].data[0],f03[1].data[0])\n",
    "ax2.set_title('SEG3G2_18')\n",
    "ax3.plot(f02[4].data[0], avg_test_67_69.data)\n",
    "ax3.set_title('Combined 17 & 18')\n",
    "#plt.xlabel( avg_test_67_69.spectral_axis.unit, fontsize=14)\n",
    "#plt.ylabel(avg_test_67_69.flux.unit, fontsize=14)\n",
    "#plt.subplots_adjust(bottom=0.2)"
   ]
  },
  {
   "cell_type": "code",
   "execution_count": 73,
   "id": "8dd902bd-1bbf-4934-ac78-3f6b4f6f7307",
   "metadata": {},
   "outputs": [],
   "source": [
    "plt.figure()\n",
    "#plt.plot(f02[4].data[0],f02[1].data[0], label= 'SEG3G2_17')\n",
    "#plt.plot(f03[4].data[0],f03[1].data[0], label= 'SEG3G2_18')\n",
    "plt.plot(f02[4].data[0], avg_test_67_69.data, label= 'Stacked Spectrum')\n",
    "plt.title('Stacked spectra')\n",
    "plt.ylabel('Pixel count')\n",
    "plt.xlabel('Angstrom')\n",
    "plt.legend()\n",
    "plt.grid(True)"
   ]
  },
  {
   "cell_type": "code",
   "execution_count": 25,
   "id": "6559b7db-b9f2-4900-b009-d7474ef86af7",
   "metadata": {},
   "outputs": [],
   "source": [
    "h= fits.open(\"pyvista/python/pyvista/data/KOSMOS/KOSMOS_red_waves.fits\")"
   ]
  },
  {
   "cell_type": "code",
   "execution_count": 26,
   "id": "d65f38ec-d814-4f86-b9e8-ddfa29eed706",
   "metadata": {},
   "outputs": [
    {
     "name": "stdout",
     "output_type": "stream",
     "text": [
      "Filename: pyvista/python/pyvista/data/KOSMOS/KOSMOS_red_waves.fits\n",
      "No.    Name      Ver    Type      Cards   Dimensions   Format\n",
      "  0  PRIMARY       1 PrimaryHDU       4   ()      \n",
      "  1                1 BinTableHDU     40   1R x 12C   [9A, K, K, 50D, 50K, K, K, D, 50D, 50K, 50D, 4096D]   \n"
     ]
    }
   ],
   "source": [
    "h.info()"
   ]
  },
  {
   "cell_type": "code",
   "execution_count": 27,
   "id": "6cbad7c2-2f3d-4249-ac52-27194214bcbc",
   "metadata": {
    "scrolled": true
   },
   "outputs": [
    {
     "data": {
      "text/plain": [
       "XTENSION= 'BINTABLE'           / binary table extension                         \n",
       "BITPIX  =                    8 / array data type                                \n",
       "NAXIS   =                    2 / number of array dimensions                     \n",
       "NAXIS1  =                34817 / length of dimension 1                          \n",
       "NAXIS2  =                    1 / length of dimension 2                          \n",
       "PCOUNT  =                    0 / number of group parameters                     \n",
       "GCOUNT  =                    1 / number of groups                               \n",
       "TFIELDS =                   12 / number of table fields                         \n",
       "TTYPE1  = 'type    '                                                            \n",
       "TFORM1  = '9A      '                                                            \n",
       "TTYPE2  = 'degree  '                                                            \n",
       "TFORM2  = 'K       '                                                            \n",
       "TTYPE3  = 'ydegree '                                                            \n",
       "TFORM3  = 'K       '                                                            \n",
       "TTYPE4  = 'waves   '                                                            \n",
       "TFORM4  = '50D     '                                                            \n",
       "TDIM4   = '(50)    '                                                            \n",
       "TTYPE5  = 'waves_order'                                                         \n",
       "TFORM5  = '50K     '                                                            \n",
       "TDIM5   = '(50)    '                                                            \n",
       "TTYPE6  = 'orders  '                                                            \n",
       "TFORM6  = 'K       '                                                            \n",
       "TDIM6   = '(1)     '                                                            \n",
       "TTYPE7  = 'index   '                                                            \n",
       "TFORM7  = 'K       '                                                            \n",
       "TDIM7   = '(1)     '                                                            \n",
       "TTYPE8  = 'pix0    '                                                            \n",
       "TFORM8  = 'D       '                                                            \n",
       "TTYPE9  = 'pix     '                                                            \n",
       "TFORM9  = '50D     '                                                            \n",
       "TDIM9   = '(50)    '                                                            \n",
       "TTYPE10 = 'y       '                                                            \n",
       "TFORM10 = '50K     '                                                            \n",
       "TDIM10  = '(50)    '                                                            \n",
       "TTYPE11 = 'weights '                                                            \n",
       "TFORM11 = '50D     '                                                            \n",
       "TDIM11  = '(50)    '                                                            \n",
       "TTYPE12 = 'spectrum'                                                            \n",
       "TFORM12 = '4096D   '                                                            \n",
       "TDIM12  = '(4096,1)'                                                            "
      ]
     },
     "execution_count": 27,
     "metadata": {},
     "output_type": "execute_result"
    }
   ],
   "source": [
    "h[1].header"
   ]
  },
  {
   "cell_type": "code",
   "execution_count": 28,
   "id": "26ab3b4f-ea21-4b39-b547-dee97fea878e",
   "metadata": {
    "scrolled": true
   },
   "outputs": [
    {
     "data": {
      "text/plain": [
       "('chebyshev', 3, 2, array([5562.22534, 5570.28944, 5572.548  , 5764.418  , 5852.4878 ,\n",
       "       5866.75017, 5870.91599, 5875.618  , 5879.90035, 5944.8342 ,\n",
       "       5945.45239, 5977.64573, 6029.9971 , 6074.3377 , 6096.163  ,\n",
       "       6143.0623 , 6163.5939 , 6217.2813 , 6266.495  , 6304.7892 ,\n",
       "       6334.4279 , 6382.9914 , 6402.246  , 6506.5279 , 6532.8824 ,\n",
       "       6598.9529 , 6678.2    , 6717.0428 , 6965.43   , 7032.4127 ,\n",
       "       7065.188  , 7147.041  , 7173.939  , 7245.167  , 7383.98   ,\n",
       "       7438.899  , 7635.105  , 7723.8    , 7948.175  , 8082.458  ,\n",
       "       8264.521  , 8408.208  , 8424.647  , 8521.441  , 8634.647  ,\n",
       "       8654.3831 , 8667.9442 , 8697.94   , 8853.866  , 9122.97   ],\n",
       "      dtype='>f8'), array([1, 1, 1, 1, 1, 1, 1, 1, 1, 1, 1, 1, 1, 1, 1, 1, 1, 1, 1, 1, 1, 1,\n",
       "       1, 1, 1, 1, 1, 1, 1, 1, 1, 1, 1, 1, 1, 1, 1, 1, 1, 1, 1, 1, 1, 1,\n",
       "       1, 1, 1, 1, 1, 1], dtype='>i8'), array([1], dtype='>i8'), array([0], dtype='>i8'), -8.275940217572497e-07, array([4025.02109039, 4015.44396803, 4015.44396803, 3790.15880973,\n",
       "       3690.62678597, 3670.03204306, 3670.0257175 , 3669.89576055,\n",
       "       3657.79308923, 3588.09174509, 3588.09174509, 3554.14468514,\n",
       "       3494.62519944, 3446.51705219, 3422.84327351, 3372.68094864,\n",
       "       3350.73492   , 3293.50713686, 3241.48659741, 3201.19182028,\n",
       "       3170.16574558, 3119.63260077, 3099.65376626, 2992.18436045,\n",
       "       2965.10433232, 2897.68039674, 2817.54610879, 2778.5811682 ,\n",
       "       2531.32442792, 2464.8745742 , 2431.37787601, 2353.34305675,\n",
       "       2327.16382751, 2257.93438449, 2123.88558853, 2071.17799049,\n",
       "       1883.82626658, 1798.88935628, 1586.79551274, 1460.03856996,\n",
       "       1289.34862534, 1153.69128405, 1138.27839407, 1047.33413843,\n",
       "        940.94520902,  922.25059148,  909.50689512,  874.12741917,\n",
       "        734.39372427,  478.78462863], dtype='>f8'), array([0, 0, 0, 0, 0, 0, 0, 0, 0, 0, 0, 0, 0, 0, 0, 0, 0, 0, 0, 0, 0, 0,\n",
       "       0, 0, 0, 0, 0, 0, 0, 0, 0, 0, 0, 0, 0, 0, 0, 0, 0, 0, 0, 0, 0, 0,\n",
       "       0, 0, 0, 0, 0, 0], dtype='>i8'), array([1., 1., 0., 1., 1., 0., 1., 0., 0., 1., 0., 0., 1., 1., 1., 1., 1.,\n",
       "       1., 1., 1., 1., 1., 1., 1., 1., 1., 1., 1., 1., 1., 0., 1., 1., 1.,\n",
       "       1., 1., 1., 1., 1., 1., 1., 1., 1., 1., 1., 1., 1., 0., 1., 1.],\n",
       "      dtype='>f8'), array([[ 729.63845313, 1229.01439133, 1218.35342383, ...,  619.62523088,\n",
       "         721.33026726,  615.47703888]], dtype='>f8'))"
      ]
     },
     "execution_count": 28,
     "metadata": {},
     "output_type": "execute_result"
    }
   ],
   "source": [
    "h[1].data[0]\n"
   ]
  },
  {
   "cell_type": "markdown",
   "id": "0f6c5ea4-f271-4bbd-b6bc-f082a96fb646",
   "metadata": {},
   "source": [
    "# Flatten process"
   ]
  },
  {
   "cell_type": "code",
   "execution_count": 74,
   "id": "44f38da4-9359-45dc-8d41-f71d3006aa6f",
   "metadata": {},
   "outputs": [
    {
     "name": "stdout",
     "output_type": "stream",
     "text": [
      "Filename: spec_without_sky_20_004.fits\n",
      "No.    Name      Ver    Type      Cards   Dimensions   Format\n",
      "  0  PRIMARY       1 PrimaryHDU      68   ()      \n",
      "  1                1 ImageHDU         7   (4096, 1)   float64   \n",
      "  2  UNCERT        1 ImageHDU         9   (4096, 1)   float64   \n",
      "  3  BITMASK       1 ImageHDU        10   (4096, 1)   int32 (rescales to uint32)   \n",
      "  4  WAVE          1 ImageHDU         8   (4096, 2)   float64   \n"
     ]
    }
   ],
   "source": [
    "import numpy as np\n",
    "import matplotlib.pyplot as plt\n",
    "from astropy.io import fits\n",
    "from scipy.signal import medfilt\n",
    "\n",
    "# Load the FITS file\n",
    "file_path = 'spec_without_sky_20_004.fits'  # Replace with your actual FITS file path\n",
    "path1 = 'spec_without_sky_17_004.fits'\n",
    "path2 = 'spec_without_sky_18_004.fits'\n",
    "hdul = fits.open(file_path)\n",
    "hdul1 = fits.open(path1)\n",
    "hdul2 = fits.open(path2)\n",
    "hdul.info()\n",
    "\n",
    "# Extract the data\n",
    "flux = hdul[1].data.flatten()  # Extracting and flattening the flux data from the first ImageHDU\n",
    "wavelength = hdul[4].data[0]  # Extracting the wavelength data from the fourth ImageHDU\n",
    "\n",
    "flux1 = hdul1[1].data[0].flatten()\n",
    "wavelength1 = hdul1[4].data[0]\n",
    "\n",
    "flux2 = hdul2[1].data[0].flatten()\n",
    "wavelength2 = hdul2[4].data[0]\n",
    "\n",
    "\n",
    "# Estimate the continuum using a median filter\n",
    "continuum = medfilt(flux, kernel_size=17) #101\n",
    "continuum1 = medfilt(flux1, kernel_size=17)\n",
    "continuum2 = medfilt(flux2, kernel_size=17)\n",
    "\n",
    "# Flatten the spectrum to zero by subtracting the continuum\n",
    "flattened_flux = flux - continuum\n",
    "flattened_flux1 = flux1-continuum1\n",
    "flattened_flux2 = flux2-continuum2\n",
    "\n",
    "# Save the flattened spectrum to a new FITS file\n",
    "hdu = fits.BinTableHDU.from_columns([\n",
    "    fits.Column(name='wavelength', format='E', array=wavelength),\n",
    "    fits.Column(name='flux', format='E', array=flattened_flux)\n",
    "])\n",
    "\n",
    "hdu1 = fits.BinTableHDU.from_columns([fits.Column(name='wavelength', format='E',array=wavelength1),\n",
    "                                      fits.Column(name='flux', format='E', array= flattened_flux1)])\n",
    "\n",
    "hdu2 = fits.BinTableHDU.from_columns([fits.Column(name='wavelength', format='E',array=wavelength2),\n",
    "                                      fits.Column(name='flux', format='E', array= flattened_flux2)])\n",
    "\n",
    "#hdu.writeto('flattened_spectrum_20_.fits', overwrite=True)\n",
    "#hdu1.writeto('flattened_spectrum_17_.fits', overwrite=True)\n",
    "#hdu2.writeto('flattened_spectrum_18_.fits', overwrite=True)\n",
    "\n",
    "# Plot the original and flattened spectrum\n",
    "plt.figure(figsize=(14, 7))\n",
    "plt.plot(wavelength, flux, label='Original Spectrum 20')\n",
    "plt.plot(wavelength1, flux2, label='Original Spectrum 17')\n",
    "plt.plot(wavelength2, flux2, label='Original Spectrum 18')\n",
    "plt.plot(wavelength, flattened_flux, label='Flattened Spectrum to Zero 20')\n",
    "plt.plot(wavelength1, flattened_flux1, label='Flattened Spectrum to Zero 17')\n",
    "plt.plot(wavelength2, flattened_flux2, label='Flattened Spectrum to Zero 18')\n",
    "plt.xlabel('Wavelength (Angstrom)')\n",
    "plt.ylabel('Flux')\n",
    "plt.legend()\n",
    "plt.title('Original and Flattened Spectrum to Zero')\n",
    "plt.show()\n"
   ]
  },
  {
   "cell_type": "code",
   "execution_count": 35,
   "id": "b40e596e-e939-4e46-940d-0d41821f6d6d",
   "metadata": {},
   "outputs": [],
   "source": [
    "file_path = 'flattened_spectrum_20_.fits'  # Replace with your actual FITS file path\n",
    "path1 = 'flattened_spectrum_17_.fits'\n",
    "path2 = 'flattened_spectrum_18_.fits'\n",
    "\n",
    "hdul3 = fits.open(file_path)\n",
    "hdul4 = fits.open(path1)\n",
    "hdul5 = fits.open(path2)"
   ]
  },
  {
   "cell_type": "code",
   "execution_count": 36,
   "id": "8f102cc3-aaf0-407a-bd37-d23648168e1e",
   "metadata": {},
   "outputs": [
    {
     "data": {
      "text/plain": [
       "[<matplotlib.lines.Line2D at 0x1b9da78bce0>]"
      ]
     },
     "execution_count": 36,
     "metadata": {},
     "output_type": "execute_result"
    }
   ],
   "source": [
    "plt.figure()\n",
    "plt.plot(hdul4[1].data.wavelength,hdul4[1].data.flux)"
   ]
  },
  {
   "cell_type": "markdown",
   "id": "76797df5-1dab-4503-b758-c878bd2fad3c",
   "metadata": {},
   "source": [
    "**Flattened three spectra with stacked.**"
   ]
  },
  {
   "cell_type": "code",
   "execution_count": 76,
   "id": "e592e56e-ab10-4f83-8272-fe3ab8bf9a8d",
   "metadata": {},
   "outputs": [
    {
     "data": {
      "text/plain": [
       "<matplotlib.legend.Legend at 0x1b991ea28d0>"
      ]
     },
     "execution_count": 76,
     "metadata": {},
     "output_type": "execute_result"
    }
   ],
   "source": [
    "#make a ccddata object out of the flux and uncertainty of each spectra you want to combine\n",
    "ccd_67 = CCDData(data = hdul3[1].data.flux, unit = 'pixel') # uncertainty = hdul[2].data[0],\n",
    "ccd_68 = CCDData(data = hdul4[1].data.flux, unit = 'pixel') #  uncertainty = hdul1[2].data[0],\n",
    "ccd_69 = CCDData(data = hdul5[1].data.flux, unit = 'pixel') #  uncertainty = hdul2[2].data[0],\n",
    "#put them all into Combiner (from ccdproc)\n",
    "spec_67_69 = Combiner([ccd_67, ccd_68, ccd_69 ])\n",
    "\n",
    "#then average combine (it is slightly better than median combining)\n",
    "avg_test_67_69 = spec_67_69.average_combine()\n",
    "\n",
    "\n",
    "#plt.plot(f02[4].data[0],f02[1].data[0], label= 'SEG3G2_17')\n",
    "#plt.plot(f03[4].data[0],f03[1].data[0], label= 'SEG3G2_18')\n",
    "#When you want to get the average flux into a plot, take out the avg_test.data\n",
    "fig, (ax1,ax2,ax3)= plt.subplots(3,1)\n",
    "\n",
    "ax1.plot(hdul3[1].data.wavelength,hdul3[1].data.flux, label = 'SEG3G2 20 flattened')\n",
    "#ax1.set_title('SEG3G2_20')\n",
    "ax2.plot(hdul4[1].data.wavelength,hdul4[1].data.flux, label= 'SEG3G2 17 flattened')\n",
    "#ax2.set_title('SEG3G2_17')\n",
    "ax3.plot(hdul5[1].data.wavelength,hdul5[1].data.flux, label='SEG3G2 18 flattened')\n",
    "#ax4.plot(hdul3[1].data.wavelength, avg_test_67_69.data)\n",
    "#ax4.set_title('Combined 17 & 18')\n",
    "plt.legend()\n",
    "#plt.xlabel( avg_test_67_69.spectral_axis.unit, fontsize=14)\n",
    "#plt.ylabel(avg_test_67_69.flux.unit, fontsize=14)\n",
    "#plt.subplots_adjust(bottom=0.2)"
   ]
  },
  {
   "cell_type": "code",
   "execution_count": 45,
   "id": "4583e570-6230-4ccc-a4c7-d6fae820b198",
   "metadata": {},
   "outputs": [
    {
     "data": {
      "text/plain": [
       "[<matplotlib.lines.Line2D at 0x1b9fd049d30>]"
      ]
     },
     "execution_count": 45,
     "metadata": {},
     "output_type": "execute_result"
    }
   ],
   "source": [
    "plt.figure()\n",
    "plt.plot(hdul3[1].data.wavelength, avg_test_67_69.data)"
   ]
  },
  {
   "cell_type": "code",
   "execution_count": 70,
   "id": "8aa6d80e-97dc-4104-8a44-27d032bdefeb",
   "metadata": {},
   "outputs": [
    {
     "name": "stdout",
     "output_type": "stream",
     "text": [
      "Filename: spec_without_sky_20_004.fits\n",
      "No.    Name      Ver    Type      Cards   Dimensions   Format\n",
      "  0  PRIMARY       1 PrimaryHDU      68   ()      \n",
      "  1                1 ImageHDU         7   (4096, 1)   float64   \n",
      "  2  UNCERT        1 ImageHDU         9   (4096, 1)   float64   \n",
      "  3  BITMASK       1 ImageHDU        10   (4096, 1)   int32 (rescales to uint32)   \n",
      "  4  WAVE          1 ImageHDU         8   (4096, 2)   float64   \n"
     ]
    }
   ],
   "source": [
    "import numpy as np\n",
    "import matplotlib.pyplot as plt\n",
    "from astropy.io import fits\n",
    "from scipy.signal import medfilt\n",
    "\n",
    "# Load the FITS file\n",
    "file_path = 'spec_without_sky_20_004.fits'  # Replace with your actual FITS file path\n",
    "path1 = 'spec_without_sky_17_004.fits'\n",
    "path2 = 'spec_without_sky_18_004.fits'\n",
    "hdul = fits.open(file_path)\n",
    "hdul.info()\n",
    "\n",
    "# Extract the data\n",
    "flux = hdul[1].data[0].flatten()  # Extracting and flattening the flux data from the first ImageHDU\n",
    "wavelength = hdul[4].data[0]  # Extracting the wavelength data from the fourth ImageHDU\n",
    "\n",
    "\n",
    "\n",
    "flux1 = hdul1[1].data[0].flatten()\n",
    "wavelength1 = hdul1[4].data[0]\n",
    "\n",
    "flux2 = hdul2[1].data[0].flatten()\n",
    "wavelength2 = hdul2[4].data[0]\n",
    "\n",
    "\n",
    "\n",
    "\n",
    "# Define the range\n",
    "range_start = 8400\n",
    "range_end = 8800\n",
    "\n",
    "# Filter the data for the specified range\n",
    "mask = (wavelength >= range_start) & (wavelength <= range_end)\n",
    "\n",
    "wavelength_range = wavelength[mask]\n",
    "wavelength1_range = wavelength1[mask]\n",
    "wavelength2_range = wavelength2[mask]\n",
    "flux_range = flux[mask]\n",
    "\n",
    "flux1_range = flux1[mask]\n",
    "flux2_range = flux2[mask]\n",
    "# Estimate the continuum using a median filter\n",
    "continuum = medfilt(flux_range, kernel_size=17)\n",
    "\n",
    "continuum1 = medfilt(flux1_range, kernel_size=17)\n",
    "continuum2 = medfilt(flux2_range, kernel_size=17)\n",
    "\n",
    "\n",
    "# Flatten the spectrum to zero by subtracting the continuum\n",
    "flattened_flux = flux_range - continuum\n",
    "\n",
    "flattened_flux1 = flux1_range - continuum1\n",
    "flattened_flux2 = flux2_range - continuum2\n",
    "\n",
    "# Save the flattened spectrum to a new FITS file\n",
    "hdu = fits.BinTableHDU.from_columns([\n",
    "    fits.Column(name='wavelength', format='E', array=wavelength_range),\n",
    "    fits.Column(name='flux', format='E', array=flattened_flux)\n",
    "])\n",
    "\n",
    "hdu1 = fits.BinTableHDU.from_columns([fits.Column(name='wavelength', format='E',array=wavelength1_range),\n",
    "                                      fits.Column(name='flux', format='E', array= flattened_flux1)])\n",
    "\n",
    "hdu2 = fits.BinTableHDU.from_columns([fits.Column(name='wavelength', format='E',array=wavelength2_range),\n",
    "                                      fits.Column(name='flux', format='E', array= flattened_flux2)])\n",
    "\n",
    "#hdu.writeto('flattened_spectrum_range 20.fits', overwrite=True)\n",
    "\n",
    "#hdu1.writeto('flattened_spectrum_range 17_.fits', overwrite=True)\n",
    "#hdu2.writeto('flattened_spectrum_range 18_.fits', overwrite=True)\n",
    "\n",
    "# Plot the original and flattened spectrum for the specified range\n",
    "plt.figure(figsize=(14, 7))\n",
    "plt.plot(wavelength_range, flux_range, label='Original Spectrum 20 in Range')\n",
    "plt.plot(wavelength_range, flattened_flux, label='Flattened Spectrum to Zero in Range')\n",
    "\n",
    "#plt.plot(wavelength, flux, label='Original Spectrum 20'\n",
    "#plt.plot(wavelength1_range, flux1_range, label='Original Spectrum 17')\n",
    "#plt.plot(wavelength2_range, flux2_range, label='Original Spectrum 18')\n",
    "#plt.plot(wavelength1_range, flattened_flux1, label='Flattened Spectrum to Zero 17')\n",
    "#plt.plot(wavelength2_range, flattened_flux2, label='Flattened Spectrum to Zero 18')\n",
    "\n",
    "plt.xlabel('Wavelength (Angstrom)')\n",
    "plt.ylabel('Flux')\n",
    "plt.legend()\n",
    "plt.title('Original and Flattened Spectrum to Zero in Specified Range')\n",
    "plt.show()\n"
   ]
  },
  {
   "cell_type": "markdown",
   "id": "05e64d9b-b522-4c9e-835b-2a701c949e46",
   "metadata": {},
   "source": [
    "**Overliad plots**"
   ]
  },
  {
   "cell_type": "code",
   "execution_count": 79,
   "id": "078e8186-3395-43c1-bb70-93162473f700",
   "metadata": {},
   "outputs": [
    {
     "name": "stdout",
     "output_type": "stream",
     "text": [
      "Filename: spec_without_sky_20_004.fits\n",
      "No.    Name      Ver    Type      Cards   Dimensions   Format\n",
      "  0  PRIMARY       1 PrimaryHDU      68   ()      \n",
      "  1                1 ImageHDU         7   (4096, 1)   float64   \n",
      "  2  UNCERT        1 ImageHDU         9   (4096, 1)   float64   \n",
      "  3  BITMASK       1 ImageHDU        10   (4096, 1)   int32 (rescales to uint32)   \n",
      "  4  WAVE          1 ImageHDU         8   (4096, 2)   float64   \n"
     ]
    }
   ],
   "source": [
    "import numpy as np\n",
    "import matplotlib.pyplot as plt\n",
    "from astropy.io import fits\n",
    "from scipy.signal import medfilt\n",
    "\n",
    "# Load the FITS file\n",
    "file_path = 'spec_without_sky_20_004.fits'  # Replace with your actual FITS file path\n",
    "path1 = 'spec_without_sky_17_004.fits'\n",
    "path2 = 'spec_without_sky_18_004.fits'\n",
    "hdul = fits.open(file_path)\n",
    "hdul.info()\n",
    "\n",
    "# Extract the data\n",
    "flux = hdul[1].data[0].flatten()  # Extracting and flattening the flux data from the first ImageHDU\n",
    "wavelength = hdul[4].data[0]  # Extracting the wavelength data from the fourth ImageHDU\n",
    "\n",
    "\n",
    "\n",
    "flux1 = hdul1[1].data[0].flatten()\n",
    "wavelength1 = hdul1[4].data[0]\n",
    "\n",
    "flux2 = hdul2[1].data[0].flatten()\n",
    "wavelength2 = hdul2[4].data[0]\n",
    "\n",
    "\n",
    "\n",
    "\n",
    "# Define the range\n",
    "range_start = 8400\n",
    "range_end = 8800\n",
    "\n",
    "# Filter the data for the specified range\n",
    "mask = (wavelength >= range_start) & (wavelength <= range_end)\n",
    "\n",
    "wavelength_range = wavelength[mask]\n",
    "wavelength1_range = wavelength1[mask]\n",
    "wavelength2_range = wavelength2[mask]\n",
    "flux_range = flux[mask]\n",
    "\n",
    "flux1_range = flux1[mask]\n",
    "flux2_range = flux2[mask]\n",
    "# Estimate the continuum using a median filter\n",
    "continuum = medfilt(flux_range, kernel_size=17)\n",
    "\n",
    "continuum1 = medfilt(flux1_range, kernel_size=17)\n",
    "continuum2 = medfilt(flux2_range, kernel_size=17)\n",
    "\n",
    "\n",
    "# Flatten the spectrum to zero by subtracting the continuum\n",
    "flattened_flux = flux_range - continuum\n",
    "\n",
    "flattened_flux1 = flux1_range - continuum1\n",
    "flattened_flux2 = flux2_range - continuum2\n",
    "\n",
    "# Save the flattened spectrum to a new FITS file\n",
    "hdu = fits.BinTableHDU.from_columns([\n",
    "    fits.Column(name='wavelength', format='E', array=wavelength_range),\n",
    "    fits.Column(name='flux', format='E', array=flattened_flux)\n",
    "])\n",
    "\n",
    "hdu1 = fits.BinTableHDU.from_columns([fits.Column(name='wavelength', format='E',array=wavelength1_range),\n",
    "                                      fits.Column(name='flux', format='E', array= flattened_flux1)])\n",
    "\n",
    "hdu2 = fits.BinTableHDU.from_columns([fits.Column(name='wavelength', format='E',array=wavelength2_range),\n",
    "                                      fits.Column(name='flux', format='E', array= flattened_flux2)])\n",
    "\n",
    "#hdu.writeto('flattened_spectrum_range 20.fits', overwrite=True)\n",
    "\n",
    "h#du1.writeto('flattened_spectrum_range 17_.fits', overwrite=True)\n",
    "#hdu2.writeto('flattened_spectrum_range 18_.fits', overwrite=True)\n",
    "\n",
    "# Plot the original and flattened spectrum for the specified range\n",
    "plt.figure(figsize=(14, 7))\n",
    "plt.plot(wavelength_range, flux_range, label='Original Spectrum 20 in Range')\n",
    "plt.plot(wavelength_range, flattened_flux, label='Flattened Spectrum to Zero in Range')\n",
    "\n",
    "#plt.plot(wavelength, flux, label='Original Spectrum 20')\n",
    "plt.plot(wavelength1_range, flux1_range, label='Original Spectrum 17')\n",
    "plt.plot(wavelength2_range, flux2_range, label='Original Spectrum 18')\n",
    "plt.plot(wavelength1_range, flattened_flux1, label='Flattened Spectrum to Zero 17')\n",
    "plt.plot(wavelength2_range, flattened_flux2, label='Flattened Spectrum to Zero 18')\n",
    "\n",
    "plt.xlabel('Wavelength (Angstrom)')\n",
    "plt.ylabel('Flux')\n",
    "plt.legend()\n",
    "plt.title('Original and Flattened Spectrum to Zero in Specified Range')\n",
    "plt.show()\n"
   ]
  },
  {
   "cell_type": "code",
   "execution_count": 54,
   "id": "ea59e780-b7ca-465a-a3d5-4f07100c5357",
   "metadata": {},
   "outputs": [],
   "source": [
    "file_path = 'flattened_spectrum_range 20.fits'  # Replace with your actual FITS file path\n",
    "path1 = 'flattened_spectrum_range 17_.fits'\n",
    "path2 = 'flattened_spectrum_range 18_.fits'\n",
    "\n",
    "hdul6 = fits.open(file_path)\n",
    "hdul7 = fits.open(path1)\n",
    "hdul8 = fits.open(path2)"
   ]
  },
  {
   "cell_type": "markdown",
   "id": "31ed7b89-4e75-4cdd-a52d-9d68d6c6c7a7",
   "metadata": {},
   "source": [
    "**The range plots**"
   ]
  },
  {
   "cell_type": "code",
   "execution_count": 78,
   "id": "10f7a04d-e20c-438a-93b3-89e3cd088532",
   "metadata": {},
   "outputs": [
    {
     "data": {
      "text/plain": [
       "[<matplotlib.lines.Line2D at 0x1b98f6379b0>]"
      ]
     },
     "execution_count": 78,
     "metadata": {},
     "output_type": "execute_result"
    }
   ],
   "source": [
    "#make a ccddata object out of the flux and uncertainty of each spectra you want to combine\n",
    "ccd_67 = CCDData(data = hdul6[1].data.flux, unit = 'pixel') # uncertainty = hdul[2].data[0],\n",
    "ccd_68 = CCDData(data = hdul7[1].data.flux, unit = 'pixel') #  uncertainty = hdul1[2].data[0],\n",
    "ccd_69 = CCDData(data = hdul8[1].data.flux, unit = 'pixel') #  uncertainty = hdul2[2].data[0],\n",
    "#put them all into Combiner (from ccdproc)\n",
    "spec_67_69 = Combiner([ccd_67, ccd_68, ccd_69 ])\n",
    "\n",
    "#then average combine (it is slightly better than median combining)\n",
    "avg_test_67_69 = spec_67_69.average_combine()\n",
    "\n",
    "#When you want to get the average flux into a plot, take out the avg_test.data\n",
    "fig, (ax1,ax2,ax3, ax4)= plt.subplots(4,1)\n",
    "\n",
    "ax1.plot(hdul6[1].data.wavelength,hdul6[1].data.flux, label = 'SEG3G2 20 flattened')\n",
    "#ax1.set_title('SEG3G2_20')\n",
    "ax2.plot(hdul7[1].data.wavelength,hdul7[1].data.flux, label= 'SEG3G2 17 flattened')\n",
    "#ax2.set_title('SEG3G2_17')\n",
    "ax3.plot(hdul8[1].data.wavelength,hdul8[1].data.flux, label='SEG3G2 18 flattened')\n",
    "#ax4.plot(hdul6[1].data.wavelength, avg_test_67_69.data)\n",
    "#ax4.set_title('Combined 17 & 18')\n",
    "#plt.legend()\n",
    "#plt.xlabel( avg_test_67_69.spectral_axis.unit, fontsize=14)\n",
    "#plt.ylabel(avg_test_67_69.flux.unit, fontsize=14)\n",
    "#plt.subplots_adjust(bottom=0.2)"
   ]
  }
 ],
 "metadata": {
  "kernelspec": {
   "display_name": "Python 3 (ipykernel)",
   "language": "python",
   "name": "python3"
  },
  "language_info": {
   "codemirror_mode": {
    "name": "ipython",
    "version": 3
   },
   "file_extension": ".py",
   "mimetype": "text/x-python",
   "name": "python",
   "nbconvert_exporter": "python",
   "pygments_lexer": "ipython3",
   "version": "3.12.3"
  }
 },
 "nbformat": 4,
 "nbformat_minor": 5
}
