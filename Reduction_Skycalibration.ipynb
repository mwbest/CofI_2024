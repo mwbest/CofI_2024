{
 "cells": [
  {
   "cell_type": "markdown",
   "id": "7c763604-6d6f-47e9-b7eb-6daefef9a387",
   "metadata": {},
   "source": [
    "# Import several modules and perform initial setup:"
   ]
  },
  {
   "cell_type": "markdown",
   "id": "eea903da-ed89-4339-9e41-97c0f94667bf",
   "metadata": {},
   "source": [
    "This cell imports various modules necessary for data reduction, visualization, and data handling.\n",
    "\n",
    "-  If you want to subtract dar, bias, and flat, the only thing you have to do is to include them in the reduction section. Use the cell containing (star1=red.reduce(20, crbox='lacosmic', bias=bias, display=t)), and deactivate the cell containing (imcr=red.crrej(im,crbox='lacosmic',display=t,crsig=10)) and replace imcr with star1 in the coming cells.\n",
    "  - Note: Subtracting dark reduces the quality of your spectra. I don't if this is because I have a bad dark. To be Examined.\n",
    "  - This notebook vsky-calibration. However, the wave-cal method and the sky-cal method are still in progress."
   ]
  },
  {
   "cell_type": "code",
   "execution_count": 1,
   "id": "2cacef57-0d04-465f-85ba-6ccfbc8b0f0d",
   "metadata": {
    "scrolled": true
   },
   "outputs": [],
   "source": [
    "#!pip install scikit-image"
   ]
  },
  {
   "cell_type": "code",
   "execution_count": 2,
   "id": "02f3ae22-94d2-4101-8412-18973a62ad31",
   "metadata": {
    "scrolled": true
   },
   "outputs": [],
   "source": [
    "#!pip install scikit-learn"
   ]
  },
  {
   "cell_type": "code",
   "execution_count": 3,
   "id": "cc0cbbfb-fd58-43a2-99dc-ff13ff458231",
   "metadata": {},
   "outputs": [],
   "source": [
    "#!pip install PyQt6\n",
    "#!pip install PySide6\n",
    "#!pip install PyQt5\n",
    "#!pip install PySide2\n",
    "\n",
    "\n"
   ]
  },
  {
   "cell_type": "code",
   "execution_count": null,
   "id": "1f049311-40e3-4e9b-8a60-c7782ba6f0a9",
   "metadata": {},
   "outputs": [],
   "source": []
  },
  {
   "cell_type": "code",
   "execution_count": 4,
   "id": "b5f87091-f1ba-4b92-b9f5-3c9b132bc5bf",
   "metadata": {},
   "outputs": [],
   "source": [
    "from pyvista import imred, tv, spectra, stars, slitmask, image\n",
    "import numpy as np\n",
    "import pdb\n",
    "import copy\n",
    "import matplotlib.pyplot as plt\n",
    "import os\n",
    "from astropy.table import vstack\n",
    "import pandas as pd\n",
    "import importlib"
   ]
  },
  {
   "cell_type": "markdown",
   "id": "5532cddd-5507-4c88-9076-390d9e792c23",
   "metadata": {},
   "source": [
    "# Matplotlib configuration for notebook interaction:"
   ]
  },
  {
   "cell_type": "markdown",
   "id": "8c2140fa-945d-4057-a2fb-24aa00ed8f1d",
   "metadata": {},
   "source": [
    "Configures how matplotlib displays plots—either within the notebook or in a separate interactive window. The tv.TV() call appears to initialize a tool for displaying images interactively."
   ]
  },
  {
   "cell_type": "code",
   "execution_count": 5,
   "id": "8990e2b2-e7bc-4f4a-bbbe-bfdde26e61d6",
   "metadata": {},
   "outputs": [],
   "source": [
    "# Use these lines if you are running the notebook yourself. Matplotlib\n",
    "# window will open outside the notebook, which is the desired behavior so\n",
    "# you can have a single display tool, which you should leave open. Other\n",
    "# plot windows will also appear outside the notebook, which you can close\n",
    "# as desired\n",
    "%matplotlib qt\n",
    "t=tv.TV()\n",
    "plotinter=True\n",
    "\n",
    "# following lines only for fully non-interactive demo of notebook\n",
    "#%matplotlib inline\n",
    "#plotinter=False\n",
    "#t=None"
   ]
  },
  {
   "cell_type": "markdown",
   "id": "6ad3a5ab-b29f-4a4f-99ed-820afe48e4e4",
   "metadata": {},
   "source": [
    "# Setup for image reduction:"
   ]
  },
  {
   "cell_type": "markdown",
   "id": "bf81bf04-0085-4b33-93ce-6e1f35f41f37",
   "metadata": {},
   "source": [
    "Specifies the directory containing images and initializes an image reducer for the KOSMOS instrument."
   ]
  },
  {
   "cell_type": "code",
   "execution_count": 6,
   "id": "06883314-8908-4b9c-a01c-21b5b93ee6e2",
   "metadata": {},
   "outputs": [
    {
     "name": "stdout",
     "output_type": "stream",
     "text": [
      "INSTRUMENT: KOSMOS   config: \n",
      "  will use format:  UT230909/*{:04d}.f*.fits*\n",
      "         gain:  [0.6]    rn: [5.]\n",
      "         scale:  None   \n",
      "  Biastype : 1\n",
      "  Bias box: \n",
      "    SC    NC    SR    NR\n",
      "  2055    43    20  4056 \n",
      "  2105    43    20  4056 \n",
      "  Trim box: \n",
      "    SC    NC    SR    NR\n",
      "     0  2048     0  4096 \n",
      "     0  2048     0  4096 \n",
      "  Norm box: \n",
      "    SC    NC    SR    NR\n",
      "  1000    51  2000    51 \n"
     ]
    }
   ],
   "source": [
    "# put directory name with images here\n",
    "indir='UT230909'\n",
    "red=imred.Reducer('KOSMOS',dir=indir)"
   ]
  },
  {
   "cell_type": "markdown",
   "id": "670f9d00-a09d-4cd1-9862-0390900f2277",
   "metadata": {},
   "source": [
    "this cell show you the table of your file directory."
   ]
  },
  {
   "cell_type": "markdown",
   "id": "b12631fd-9517-4154-92b1-e0a5a74da324",
   "metadata": {},
   "source": [
    "Displays the log of the image reduction operations in the notebook, limited to the first 10 entries.\n"
   ]
  },
  {
   "cell_type": "code",
   "execution_count": 7,
   "id": "ed2e8166-9306-442a-a8cd-9c1315dc5224",
   "metadata": {
    "scrolled": true
   },
   "outputs": [
    {
     "data": {
      "text/html": [
       "<i>Table length=88</i>\n",
       "<table id=\"table2220858638704-946672\" class=\"table-striped table-bordered table-condensed\">\n",
       "<thead><tr><th>idx</th><th>FILE</th><th>DATE-OBS</th><th>OBJNAME</th><th>RA</th><th>DEC</th><th>EXPTIME</th></tr></thead>\n",
       "<tr><td>0</td><td>Flat_SEG3G2.0001.fits</td><td>2023-09-09T01:31:47.843412</td><td></td><td>6:56:00.00</td><td>75:00:00.00</td><td>2.0</td></tr>\n",
       "<tr><td>1</td><td>Flat_SEG3G2.0002.fits</td><td>2023-09-09T01:33:24.544267</td><td></td><td>6:56:00.00</td><td>75:00:00.00</td><td>1.0</td></tr>\n",
       "<tr><td>2</td><td>Flat_SEG3G2.0003.fits</td><td>2023-09-09T01:34:47.647398</td><td></td><td>6:56:00.00</td><td>75:00:00.00</td><td>0.5</td></tr>\n",
       "<tr><td>3</td><td>Flat_SEG3R2.0004.fits</td><td>2023-09-09T01:38:24.858222</td><td></td><td>6:56:00.00</td><td>75:00:00.00</td><td>0.5</td></tr>\n",
       "<tr><td>4</td><td>Flat_EMPTY_TEST.0005.fits</td><td>2023-09-09T01:40:21.135840</td><td></td><td>6:56:00.00</td><td>75:00:00.00</td><td>0.5</td></tr>\n",
       "<tr><td>5</td><td>Flat_SEG3R1.0006.fits</td><td>2023-09-09T01:43:41.792202</td><td></td><td>6:56:00.00</td><td>75:00:00.00</td><td>0.5</td></tr>\n",
       "<tr><td>6</td><td>Flat_SEG3R1.0008.fits</td><td>2023-09-09T01:47:35.037138</td><td></td><td>6:56:00.00</td><td>75:00:00.00</td><td>0.5</td></tr>\n",
       "<tr><td>7</td><td>SEG3G2.0010.fits</td><td>2023-09-09T02:19:53.351408</td><td>Seg3G2-Mask</td><td>21:21:32.11</td><td>19:08:59.20</td><td>20.0</td></tr>\n",
       "<tr><td>8</td><td>SEG3G2.0011.fits</td><td>2023-09-09T02:33:52.513049</td><td>Seg3G2-Mask</td><td>21:21:34.14</td><td>19:09:06.69</td><td>20.0</td></tr>\n",
       "<tr><td>9</td><td>SEG3G2.0012.fits</td><td>2023-09-09T02:36:34.405725</td><td>Seg3G2-Mask</td><td>21:21:34.14</td><td>19:09:06.69</td><td>11.2</td></tr>\n",
       "<tr><td>10</td><td>SEG3G2.0013.fits</td><td>2023-09-09T02:48:16.350442</td><td>Seg3G2-Mask</td><td>21:21:32.11</td><td>19:08:59.20</td><td>20.0</td></tr>\n",
       "<tr><td>11</td><td>SEG3G2.0014.fits</td><td>2023-09-09T02:54:50.847798</td><td>Seg3G2-Mask</td><td>21:21:32.11</td><td>19:08:59.20</td><td>20.0</td></tr>\n",
       "<tr><td>12</td><td>SEG3G2.0016.fits</td><td>2023-09-09T03:02:17.891705</td><td>Seg3G2-Mask</td><td>21:21:33.90</td><td>19:09:09.95</td><td>300.0</td></tr>\n",
       "<tr><td>13</td><td>SEG3G2.0017.fits</td><td>2023-09-09T03:09:16.686771</td><td>Seg3G2-Mask</td><td>21:21:33.79</td><td>19:09:08.51</td><td>1200.0</td></tr>\n",
       "<tr><td>14</td><td>SEG3G2.0018.fits</td><td>2023-09-09T03:30:15.624134</td><td>Seg3G2-Mask</td><td>21:21:33.79</td><td>19:09:08.51</td><td>1200.0</td></tr>\n",
       "<tr><td>15</td><td>SEG3G2.0019.fits</td><td>2023-09-09T03:51:09.009643</td><td>Seg3G2-Mask</td><td>21:21:33.79</td><td>19:09:08.51</td><td>151.6</td></tr>\n",
       "<tr><td>16</td><td>SEG3G2.0020.fits</td><td>2023-09-09T03:54:34.957512</td><td>Seg3G2-Mask</td><td>21:21:33.86</td><td>19:09:09.37</td><td>1200.0</td></tr>\n",
       "<tr><td>17</td><td>Flat_SEG3G2.0021.fits</td><td>2023-09-09T04:15:36.148095</td><td>Seg3G2-Mask</td><td>21:21:33.86</td><td>19:09:09.37</td><td>2.0</td></tr>\n",
       "<tr><td>18</td><td>Flat_SEG3G2.0022.fits</td><td>2023-09-09T04:17:04.730402</td><td>Seg3G2-Mask</td><td>21:21:33.86</td><td>19:09:09.37</td><td>2.0</td></tr>\n",
       "<tr><td>19</td><td>Ne_120s_SEG3G2.0023.fits</td><td>2023-09-09T04:21:30.471078</td><td>Seg3G2-Mask</td><td>21:21:33.86</td><td>19:09:09.37</td><td>120.0</td></tr>\n",
       "<tr><td>20</td><td>Ne_360s_SEG3G2.0024.fits</td><td>2023-09-09T04:24:34.639306</td><td>Seg3G2-Mask</td><td>21:21:33.86</td><td>19:09:09.37</td><td>360.0</td></tr>\n",
       "<tr><td>21</td><td>SEG3R1.0025.fits</td><td>2023-09-09T04:40:57.424800</td><td>Seg3R1-Mask</td><td>21:21:26.09</td><td>19:07:24.04</td><td>30.0</td></tr>\n",
       "<tr><td>22</td><td>SEG3R1.0026.fits</td><td>2023-09-09T04:58:57.117501</td><td>Seg3R1-Mask</td><td>21:21:28.17</td><td>19:07:38.68</td><td>30.0</td></tr>\n",
       "<tr><td>23</td><td>SEG3R1.0027.fits</td><td>2023-09-09T05:02:59.211744</td><td>Seg3R1-Mask</td><td>21:21:28.17</td><td>19:07:36.10</td><td>30.0</td></tr>\n",
       "<tr><td>24</td><td>SEG3R1.0028.fits</td><td>2023-09-09T05:05:17.397640</td><td>Seg3R1-Mask</td><td>21:21:28.17</td><td>19:07:37.40</td><td>30.0</td></tr>\n",
       "<tr><td>25</td><td>SEG3G2.0029.fits</td><td>2023-09-09T05:25:03.036840</td><td>Seg3R1-Mask</td><td>21:21:28.17</td><td>19:07:37.40</td><td>30.0</td></tr>\n",
       "<tr><td>26</td><td>SEG3G2.0030.fits</td><td>2023-09-09T05:27:51.087662</td><td>Seg3R1-Mask</td><td>21:21:28.17</td><td>19:07:37.40</td><td>300.0</td></tr>\n",
       "<tr><td>27</td><td>SEG3G2.0031.fits</td><td>2023-09-09T05:33:45.621193</td><td>Seg3R1-Mask</td><td>21:21:28.17</td><td>19:07:37.40</td><td>69.9</td></tr>\n",
       "<tr><td>28</td><td>SEG3G2.0032.fits</td><td>2023-09-09T05:35:58.008061</td><td>Seg3R1-Mask</td><td>21:21:28.17</td><td>19:07:37.40</td><td>20.0</td></tr>\n",
       "<tr><td>29</td><td>SEG3R1.0033.fits</td><td>2023-09-09T05:38:08.122150</td><td>Seg3R1-Mask</td><td>21:21:28.17</td><td>19:07:37.40</td><td>20.0</td></tr>\n",
       "<tr><td>30</td><td>SEG3R1.0034.fits</td><td>2023-09-09T05:40:13.124058</td><td>Seg3R1-Mask</td><td>21:21:26.09</td><td>19:07:24.04</td><td>20.0</td></tr>\n",
       "<tr><td>31</td><td>SEG3R1.0035.fits</td><td>2023-09-09T05:45:05.716779</td><td>Seg3R1-Mask</td><td>21:21:28.17</td><td>19:07:37.38</td><td>20.0</td></tr>\n",
       "<tr><td>32</td><td>SEG3R1.0036.fits</td><td>2023-09-09T05:47:03.218094</td><td>Seg3R1-Mask</td><td>21:21:28.17</td><td>19:07:37.38</td><td>20.0</td></tr>\n",
       "<tr><td>33</td><td>H17_47.0037.fits</td><td>2023-09-09T06:14:11.755521</td><td>H17-47</td><td>21:21:22.56</td><td>19:08:13.20</td><td>300.0</td></tr>\n",
       "<tr><td>34</td><td>H17_47.0038.fits</td><td>2023-09-09T06:20:05.992885</td><td>H17-47</td><td>21:21:22.56</td><td>19:08:13.20</td><td>300.0</td></tr>\n",
       "<tr><td>35</td><td>Flat_SEG3R1.0039.fits</td><td>2023-09-09T06:27:47.142995</td><td>H17-47</td><td>21:21:22.56</td><td>19:08:13.20</td><td>1.0</td></tr>\n",
       "<tr><td>36</td><td>Flat_SEG3R1.0040.fits</td><td>2023-09-09T06:28:50.627653</td><td>H17-47</td><td>21:21:22.56</td><td>19:08:13.20</td><td>0.5</td></tr>\n",
       "<tr><td>37</td><td>Ne_1s_SEG3R1.0041.fits</td><td>2023-09-09T06:29:46.141456</td><td>H17-47</td><td>21:21:22.56</td><td>19:08:13.20</td><td>1.0</td></tr>\n",
       "<tr><td>38</td><td>Ne_4s_SEG3R1.0042.fits</td><td>2023-09-09T06:30:41.942522</td><td>H17-47</td><td>21:21:22.56</td><td>19:08:13.20</td><td>4.0</td></tr>\n",
       "<tr><td>39</td><td>H17-165.0044.fits</td><td>2023-09-09T06:47:06.931555</td><td>H17-165</td><td>21:21:27.36</td><td>19:08:31.20</td><td>300.0</td></tr>\n",
       "<tr><td>40</td><td>Flat_H17-165.0045.fits</td><td>2023-09-09T06:53:11.573015</td><td>H17-165</td><td>21:21:27.36</td><td>19:08:31.20</td><td>0.5</td></tr>\n",
       "<tr><td>41</td><td>Flat_H17-165.0046.fits</td><td>2023-09-09T06:54:10.413847</td><td>H17-165</td><td>21:21:27.36</td><td>19:08:31.20</td><td>1.0</td></tr>\n",
       "<tr><td>42</td><td>Ne_1s_H17-165.0047.fits</td><td>2023-09-09T06:55:50.424309</td><td>H17-165</td><td>21:21:27.36</td><td>19:08:31.20</td><td>1.0</td></tr>\n",
       "<tr><td>43</td><td>Ne_1s_H17-165.0048.fits</td><td>2023-09-09T06:56:51.619329</td><td>H17-165</td><td>21:21:27.36</td><td>19:08:31.20</td><td>4.0</td></tr>\n",
       "<tr><td>44</td><td>LS-105.0050.fits</td><td>2023-09-09T07:06:11.417475</td><td>LS-105</td><td>21:21:38.64</td><td>19:06:39.60</td><td>300.0</td></tr>\n",
       "<tr><td>45</td><td>SATURN.0051.fits</td><td>2023-09-09T07:12:22.067312</td><td></td><td>22:20:38.46</td><td>-12:14:27.51</td><td>2.0</td></tr>\n",
       "<tr><td>46</td><td>SATURN.0052.fits</td><td>2023-09-09T07:13:48.558408</td><td></td><td>22:20:38.29</td><td>-12:14:28.47</td><td>0.5</td></tr>\n",
       "<tr><td>47</td><td>Bias.0053.fits</td><td>2023-09-09T12:52:44.176927</td><td></td><td>6:56:00.00</td><td>70:00:00.00</td><td>0</td></tr>\n",
       "<tr><td>48</td><td>Bias.0054.fits</td><td>2023-09-09T12:53:09.352341</td><td></td><td>6:56:00.00</td><td>70:00:00.00</td><td>0</td></tr>\n",
       "<tr><td>49</td><td>Bias.0055.fits</td><td>2023-09-09T12:53:34.248508</td><td></td><td>6:56:00.00</td><td>70:00:00.00</td><td>0</td></tr>\n",
       "<tr><td>50</td><td>Bias.0056.fits</td><td>2023-09-09T12:53:59.294849</td><td></td><td>6:56:00.00</td><td>70:00:00.00</td><td>0</td></tr>\n",
       "<tr><td>51</td><td>Bias.0057.fits</td><td>2023-09-09T12:54:24.363980</td><td></td><td>6:56:00.00</td><td>70:00:00.00</td><td>0</td></tr>\n",
       "<tr><td>52</td><td>dark.0058.fits</td><td>2023-09-09T12:54:49.547895</td><td></td><td>6:56:00.00</td><td>70:00:00.00</td><td>0.5</td></tr>\n",
       "<tr><td>53</td><td>dark.0059.fits</td><td>2023-09-09T12:55:15.056918</td><td></td><td>6:56:00.00</td><td>70:00:00.00</td><td>0.5</td></tr>\n",
       "<tr><td>54</td><td>dark.0060.fits</td><td>2023-09-09T12:55:40.545940</td><td></td><td>6:56:00.00</td><td>70:00:00.00</td><td>0.5</td></tr>\n",
       "<tr><td>55</td><td>dark.0061.fits</td><td>2023-09-09T12:56:06.192818</td><td></td><td>6:56:00.00</td><td>70:00:00.00</td><td>1.0</td></tr>\n",
       "<tr><td>56</td><td>dark.0062.fits</td><td>2023-09-09T12:56:32.144634</td><td></td><td>6:56:00.00</td><td>70:00:00.00</td><td>1.0</td></tr>\n",
       "<tr><td>57</td><td>dark.0063.fits</td><td>2023-09-09T12:56:58.240545</td><td></td><td>6:56:00.00</td><td>70:00:00.00</td><td>1.0</td></tr>\n",
       "<tr><td>58</td><td>dark.0064.fits</td><td>2023-09-09T12:57:24.375660</td><td></td><td>6:56:00.00</td><td>70:00:00.00</td><td>2.0</td></tr>\n",
       "<tr><td>59</td><td>dark.0065.fits</td><td>2023-09-09T12:57:51.345841</td><td></td><td>6:56:00.00</td><td>70:00:00.00</td><td>2.0</td></tr>\n",
       "<tr><td>60</td><td>dark.0066.fits</td><td>2023-09-09T12:58:18.348144</td><td></td><td>6:56:00.00</td><td>70:00:00.00</td><td>2.0</td></tr>\n",
       "<tr><td>61</td><td>dark.0067.fits</td><td>2023-09-09T12:58:45.362508</td><td></td><td>6:56:00.00</td><td>70:00:00.00</td><td>200.0</td></tr>\n",
       "<tr><td>62</td><td>dark.0068.fits</td><td>2023-09-09T13:02:30.530696</td><td></td><td>6:56:00.00</td><td>70:00:00.00</td><td>200.0</td></tr>\n",
       "<tr><td>63</td><td>dark.0069.fits</td><td>2023-09-09T13:06:15.788677</td><td></td><td>6:56:00.00</td><td>70:00:00.00</td><td>200.0</td></tr>\n",
       "<tr><td>64</td><td>dark.0070.fits</td><td>2023-09-09T13:10:00.936186</td><td></td><td>6:56:00.00</td><td>70:00:00.00</td><td>300.0</td></tr>\n",
       "<tr><td>65</td><td>dark.0071.fits</td><td>2023-09-09T13:15:26.025582</td><td></td><td>6:56:00.00</td><td>70:00:00.00</td><td>300.0</td></tr>\n",
       "<tr><td>66</td><td>dark.0072.fits</td><td>2023-09-09T13:20:51.481718</td><td></td><td>6:56:00.00</td><td>70:00:00.00</td><td>300.0</td></tr>\n",
       "<tr><td>67</td><td>dark.0073.fits</td><td>2023-09-09T13:26:16.772429</td><td></td><td>6:56:00.00</td><td>70:00:00.00</td><td>742.1</td></tr>\n",
       "<tr><td>68</td><td>Bias.0074.fits</td><td>2023-09-09T13:40:48.562773</td><td></td><td>6:56:00.00</td><td>70:00:00.00</td><td>0</td></tr>\n",
       "<tr><td>69</td><td>Bias.0075.fits</td><td>2023-09-09T13:41:42.621027</td><td></td><td>6:56:00.00</td><td>70:00:00.00</td><td>0</td></tr>\n",
       "<tr><td>70</td><td>Bias.0076.fits</td><td>2023-09-09T13:42:36.322122</td><td></td><td>6:56:00.00</td><td>70:00:00.00</td><td>0</td></tr>\n",
       "<tr><td>71</td><td>Bias.0077.fits</td><td>2023-09-09T13:43:31.221760</td><td></td><td>6:56:00.00</td><td>70:00:00.00</td><td>0</td></tr>\n",
       "<tr><td>72</td><td>Bias.0078.fits</td><td>2023-09-09T13:44:25.014680</td><td></td><td>6:56:00.00</td><td>70:00:00.00</td><td>0</td></tr>\n",
       "<tr><td>73</td><td>dark.0079.fits</td><td>2023-09-09T13:45:19.409440</td><td></td><td>6:56:00.00</td><td>70:00:00.00</td><td>0.5</td></tr>\n",
       "<tr><td>74</td><td>dark.0080.fits</td><td>2023-09-09T13:46:14.416529</td><td></td><td>6:56:00.00</td><td>70:00:00.00</td><td>0.5</td></tr>\n",
       "<tr><td>75</td><td>dark.0081.fits</td><td>2023-09-09T13:47:08.423462</td><td></td><td>6:56:00.00</td><td>70:00:00.00</td><td>0.5</td></tr>\n",
       "<tr><td>76</td><td>dark.0082.fits</td><td>2023-09-09T13:48:03.262934</td><td></td><td>6:56:00.00</td><td>70:00:00.00</td><td>1.0</td></tr>\n",
       "<tr><td>77</td><td>dark.0083.fits</td><td>2023-09-09T13:48:57.860025</td><td></td><td>6:56:00.00</td><td>70:00:00.00</td><td>1.0</td></tr>\n",
       "<tr><td>78</td><td>dark.0084.fits</td><td>2023-09-09T13:49:53.115032</td><td></td><td>6:56:00.00</td><td>70:00:00.00</td><td>1.0</td></tr>\n",
       "<tr><td>79</td><td>dark.0085.fits</td><td>2023-09-09T13:50:49.212021</td><td></td><td>6:56:00.00</td><td>70:00:00.00</td><td>2.0</td></tr>\n",
       "<tr><td>80</td><td>dark.0086.fits</td><td>2023-09-09T13:51:46.212787</td><td></td><td>6:56:00.00</td><td>70:00:00.00</td><td>2.0</td></tr>\n",
       "<tr><td>81</td><td>dark.0087.fits</td><td>2023-09-09T13:52:41.862643</td><td></td><td>6:56:00.00</td><td>70:00:00.00</td><td>2.0</td></tr>\n",
       "<tr><td>82</td><td>dark.0091.fits</td><td>2023-09-09T14:06:19.229533</td><td></td><td>6:56:00.00</td><td>70:00:00.00</td><td>300.0</td></tr>\n",
       "<tr><td>83</td><td>dark.0092.fits</td><td>2023-09-09T14:12:13.991426</td><td></td><td>6:56:00.00</td><td>70:00:00.00</td><td>300.0</td></tr>\n",
       "<tr><td>84</td><td>dark.0093.fits</td><td>2023-09-09T14:18:08.245106</td><td></td><td>6:56:00.00</td><td>70:00:00.00</td><td>300.0</td></tr>\n",
       "<tr><td>85</td><td>dark.0094.fits</td><td>2023-09-09T14:24:04.638995</td><td></td><td>6:56:00.00</td><td>70:00:00.00</td><td>1200.0</td></tr>\n",
       "<tr><td>86</td><td>dark.0095.fits</td><td>2023-09-09T14:44:58.171015</td><td></td><td>6:56:00.00</td><td>70:00:00.00</td><td>1200.0</td></tr>\n",
       "<tr><td>87</td><td>dark.0096.fits</td><td>2023-09-09T15:05:52.009990</td><td></td><td>6:56:00.00</td><td>70:00:00.00</td><td>1200.0</td></tr>\n",
       "</table><style>table.dataTable {clear: both; width: auto !important; margin: 0 !important;}\n",
       ".dataTables_info, .dataTables_length, .dataTables_filter, .dataTables_paginate{\n",
       "display: inline-block; margin-right: 1em; }\n",
       ".paginate_button { margin-right: 5px; }\n",
       "</style>\n",
       "<script>\n",
       "\n",
       "var astropy_sort_num = function(a, b) {\n",
       "    var a_num = parseFloat(a);\n",
       "    var b_num = parseFloat(b);\n",
       "\n",
       "    if (isNaN(a_num) && isNaN(b_num))\n",
       "        return ((a < b) ? -1 : ((a > b) ? 1 : 0));\n",
       "    else if (!isNaN(a_num) && !isNaN(b_num))\n",
       "        return ((a_num < b_num) ? -1 : ((a_num > b_num) ? 1 : 0));\n",
       "    else\n",
       "        return isNaN(a_num) ? -1 : 1;\n",
       "}\n",
       "\n",
       "require.config({paths: {\n",
       "    datatables: 'https://cdn.datatables.net/1.10.12/js/jquery.dataTables.min'\n",
       "}});\n",
       "require([\"datatables\"], function(){\n",
       "    console.log(\"$('#table2220858638704-946672').dataTable()\");\n",
       "    \n",
       "jQuery.extend( jQuery.fn.dataTableExt.oSort, {\n",
       "    \"optionalnum-asc\": astropy_sort_num,\n",
       "    \"optionalnum-desc\": function (a,b) { return -astropy_sort_num(a, b); }\n",
       "});\n",
       "\n",
       "    $('#table2220858638704-946672').dataTable({\n",
       "        order: [],\n",
       "        pageLength: 40,\n",
       "        lengthMenu: [[40, 10, 25, 50, 100, 500, 1000, -1], [40, 10, 25, 50, 100, 500, 1000, 'All']],\n",
       "        pagingType: \"full_numbers\",\n",
       "        columnDefs: [{targets: [0], type: \"optionalnum\"}]\n",
       "    });\n",
       "});\n",
       "</script>\n"
      ],
      "text/plain": [
       "<IPython.core.display.HTML object>"
      ]
     },
     "execution_count": 7,
     "metadata": {},
     "output_type": "execute_result"
    }
   ],
   "source": [
    "red.log().show_in_notebook(display_length=40)"
   ]
  },
  {
   "cell_type": "markdown",
   "id": "290e0614-9c74-41f2-8a7e-deb48ab8e726",
   "metadata": {},
   "source": [
    "Read in a single mask observation, along with calibration data"
   ]
  },
  {
   "cell_type": "markdown",
   "id": "c3ebbae3-b474-482f-8541-422e1e610934",
   "metadata": {},
   "source": [
    "# Reduce and display various astronomical images:"
   ]
  },
  {
   "cell_type": "markdown",
   "id": "b3e25b5f-8c6d-49d7-8b24-2d09334e0234",
   "metadata": {},
   "source": [
    "Performs reduction on different sets of data: a star image, a flat field image, and a lamp image."
   ]
  },
  {
   "cell_type": "code",
   "execution_count": 8,
   "id": "04203aa4-033a-4399-8c57-013bec7d7a5c",
   "metadata": {},
   "outputs": [
    {
     "name": "stdout",
     "output_type": "stream",
     "text": [
      "  Reading file: UT230909\\SEG3G2.0020.fits\n",
      "  subtracting overscan vector \n",
      "  subtracting overscan vector \n",
      "INFO: array provided for uncertainty; assuming it is a StdDevUncertainty. [astropy.nddata.ccddata]\n",
      "  Reading file: UT230909\\Flat_SEG3G2.0022.fits\n",
      "  subtracting overscan vector \n",
      "  subtracting overscan vector \n",
      "INFO: array provided for uncertainty; assuming it is a StdDevUncertainty. [astropy.nddata.ccddata]\n",
      "  Reading file: UT230909\\Ne_120s_SEG3G2.0023.fits\n",
      "  subtracting overscan vector \n",
      "  subtracting overscan vector \n",
      "INFO: array provided for uncertainty; assuming it is a StdDevUncertainty. [astropy.nddata.ccddata]\n",
      "  Reading file: UT230909\\Ne_360s_SEG3G2.0024.fits\n",
      "  subtracting overscan vector \n",
      "  subtracting overscan vector \n",
      "INFO: array provided for uncertainty; assuming it is a StdDevUncertainty. [astropy.nddata.ccddata]\n",
      "  combining data with sum....\n",
      "  calculating uncertainty....\n"
     ]
    }
   ],
   "source": [
    "im = red.reduce(20) # A simple reduction of your statr.\n",
    "flat1 = red.reduce(22) # reading the flat \n",
    "arcs=red.sum([23,24]) # Reading your lamp"
   ]
  },
  {
   "cell_type": "markdown",
   "id": "2ac1b3b9-4624-4da0-8593-b48b336a2c3a",
   "metadata": {},
   "source": [
    "# Display the science image using an interactive tool:"
   ]
  },
  {
   "cell_type": "markdown",
   "id": "3bf703e5-1c45-44c7-8bcb-82d2ce5f5781",
   "metadata": {},
   "source": [
    "Checks if the interactive display tool t is initialized and if so, clears the current view and displays the science image im."
   ]
  },
  {
   "cell_type": "code",
   "execution_count": 9,
   "id": "133664e2-1835-4782-a9da-dfc2e468a8db",
   "metadata": {},
   "outputs": [],
   "source": [
    "# Display the science image\n",
    "if t is not None:\n",
    "    t.clear()\n",
    "    t.tv(im)"
   ]
  },
  {
   "cell_type": "markdown",
   "id": "679ff76b-6e4e-4b33-a5b7-9492543bbe0a",
   "metadata": {},
   "source": [
    "Display the flat field image"
   ]
  },
  {
   "cell_type": "code",
   "execution_count": 10,
   "id": "ed83c53a-3711-4aca-9f1b-3fda89f4781e",
   "metadata": {},
   "outputs": [],
   "source": [
    "# Display the flat\n",
    "if t is not None:\n",
    "    t.clear()\n",
    "    t.tv(flat1)"
   ]
  },
  {
   "cell_type": "markdown",
   "id": "6a6a2db8-d386-42d0-8bde-fd37d6ba48bb",
   "metadata": {},
   "source": [
    "Display the lamp image.\n",
    "Displays the lamp image arcs, using the same method."
   ]
  },
  {
   "cell_type": "code",
   "execution_count": 11,
   "id": "84b91076-db2d-4a17-b0ce-142634056d3c",
   "metadata": {},
   "outputs": [],
   "source": [
    "# Display the lamp\n",
    "if t is not None:\n",
    "    t.clear()\n",
    "    t.tv(arcs)"
   ]
  },
  {
   "cell_type": "markdown",
   "id": "834df250-9856-430b-b85c-2b845f501730",
   "metadata": {},
   "source": [
    "# Cosmic ray rejection in the image:"
   ]
  },
  {
   "cell_type": "markdown",
   "id": "b364f823-7048-4ab2-8b30-cc70c135bbb1",
   "metadata": {},
   "source": [
    "The cell below ejects cosmic rays and does nothing eles.\n",
    "\n",
    "If crbox is given as a 2-element list, then a box of this shape is run over the image. At each location, the median in the box is determined. For each pixel in the box, if the value is larger than crsig*uncertainty (where uncertainty is taken from the input.uncertainty.array), the pixel is replaced by the median. If crsig is a list, then multiple passes are done with successive values of crsig (which should then be decreasing), but only neighbors of previously flagged CRs are tested. Affected pixels are flagged in input.bitmask \n",
    "\n",
    "If crbox=’lacosmic’, the LA Cosmic routine, as implemented in astroscrappy is run on the image, with default options, but objlim, fsmode, and inbkg can be specified.\n",
    "\n",
    "crsig (list/float, default 5, threshold for CR rejection if using spatial)"
   ]
  },
  {
   "cell_type": "code",
   "execution_count": 12,
   "id": "cec33b84-cdba-4966-a5b7-233066786084",
   "metadata": {},
   "outputs": [
    {
     "name": "stdout",
     "output_type": "stream",
     "text": [
      "  zapping CRs with astroscrappy detect_cosmics\n",
      "  See CRs and CR-zapped image and original using - key\n",
      "   To continue, hit space in display window (p for debug) \n"
     ]
    }
   ],
   "source": [
    "imcr=red.crrej(im,crbox='lacosmic',display=t,crsig=10)"
   ]
  },
  {
   "cell_type": "markdown",
   "id": "ff222527-5018-4013-8a18-1fd87a68960a",
   "metadata": {},
   "source": [
    "# Use the cells below if you are in need of subtracting flat, bias, or dark."
   ]
  },
  {
   "cell_type": "code",
   "execution_count": null,
   "id": "2cb388d9-8a5e-40e0-a8fc-6229b4046faa",
   "metadata": {},
   "outputs": [],
   "source": []
  },
  {
   "cell_type": "code",
   "execution_count": 13,
   "id": "64b439c7-ebab-4420-a2ef-30bad42c1d8e",
   "metadata": {},
   "outputs": [
    {
     "name": "stdout",
     "output_type": "stream",
     "text": [
      "  Reading file: UT230909\\Flat_SEG3G2.0021.fits\n",
      "  subtracting overscan vector \n",
      "  subtracting overscan vector \n",
      "  Reading file: UT230909\\Flat_SEG3G2.0022.fits\n",
      "  subtracting overscan vector \n",
      "  subtracting overscan vector \n",
      "  combining data with median....\n",
      "  calculating uncertainty....\n"
     ]
    }
   ],
   "source": [
    "flatims=[21,22]\n",
    "flat=red.mkflat(flatims,spec=True) #spec=Trues,display=None,littrow=False, trim= False,)"
   ]
  },
  {
   "cell_type": "code",
   "execution_count": 14,
   "id": "b6d461da-1310-442c-aea6-1acde9767f89",
   "metadata": {},
   "outputs": [],
   "source": [
    "if t is not None:\n",
    "    t.tv(flat)"
   ]
  },
  {
   "cell_type": "code",
   "execution_count": 15,
   "id": "d8c86fc4-3a3e-48e3-9499-e25b0b6e1097",
   "metadata": {},
   "outputs": [
    {
     "name": "stdout",
     "output_type": "stream",
     "text": [
      "  Reading file: UT230909\\Bias.0074.fits\n",
      "  subtracting overscan vector \n",
      "  subtracting overscan vector \n",
      "  Reading file: UT230909\\Bias.0075.fits\n",
      "  subtracting overscan vector \n",
      "  subtracting overscan vector \n",
      "  Reading file: UT230909\\Bias.0076.fits\n",
      "  subtracting overscan vector \n",
      "  subtracting overscan vector \n",
      "  Reading file: UT230909\\Bias.0077.fits\n",
      "  subtracting overscan vector \n",
      "  subtracting overscan vector \n",
      "  Reading file: UT230909\\Bias.0078.fits\n",
      "  subtracting overscan vector \n",
      "  subtracting overscan vector \n",
      "  combining data with median....\n",
      "  calculating uncertainty....\n"
     ]
    }
   ],
   "source": [
    "biastims=[74,75,76,77,78]\n",
    "bias=red.mkbias(biastims,display=None)"
   ]
  },
  {
   "cell_type": "code",
   "execution_count": 16,
   "id": "eeb47680-4fec-41d4-a976-2f212d4738bc",
   "metadata": {},
   "outputs": [],
   "source": [
    "if t is not None:\n",
    "    t.tv(bias)"
   ]
  },
  {
   "cell_type": "code",
   "execution_count": 17,
   "id": "669af929-db3d-434d-91f5-bbe85c2ff93e",
   "metadata": {},
   "outputs": [
    {
     "name": "stdout",
     "output_type": "stream",
     "text": [
      "  Reading file: UT230909\\dark.0094.fits\n",
      "  subtracting overscan vector \n",
      "  subtracting overscan vector \n",
      "  Reading file: UT230909\\dark.0095.fits\n",
      "  subtracting overscan vector \n",
      "  subtracting overscan vector \n",
      "  Reading file: UT230909\\dark.0096.fits\n",
      "  subtracting overscan vector \n",
      "  subtracting overscan vector \n",
      "  combining data with median....\n",
      "  calculating uncertainty....\n"
     ]
    }
   ],
   "source": [
    "darktims=[94,95,96]\n",
    "dark=red.mkdark(darktims,display=None)"
   ]
  },
  {
   "cell_type": "code",
   "execution_count": 18,
   "id": "a9562760-ea79-4118-a354-bae0fbd09bd0",
   "metadata": {},
   "outputs": [],
   "source": [
    "if t is not None:\n",
    "    t.tv(dark)"
   ]
  },
  {
   "cell_type": "markdown",
   "id": "d3bf442f-19d1-4194-bd25-a3b7f115662a",
   "metadata": {},
   "source": [
    "*Question*\n",
    "- Do you know what this flat error is about?"
   ]
  },
  {
   "cell_type": "code",
   "execution_count": 19,
   "id": "3386d037-4daf-4f0a-9f6b-50632711e685",
   "metadata": {},
   "outputs": [
    {
     "name": "stdout",
     "output_type": "stream",
     "text": [
      "  Reading file: UT230909\\SEG3G2.0020.fits\n",
      "  subtracting overscan vector \n",
      "  subtracting overscan vector \n",
      "  See bias box (solid outlines applied to dashed regions of the same color), and cross section. \n",
      "   To continue, hit space in display window (p for debug) \n",
      "  subtracting bias...\n",
      "  subtracting dark...\n",
      "  zapping CRs with astroscrappy detect_cosmics\n",
      "  See CRs and CR-zapped image and original using - key\n",
      "   To continue, hit space in display window (p for debug) \n",
      "  flat fielding...\n"
     ]
    },
    {
     "name": "stderr",
     "output_type": "stream",
     "text": [
      "C:\\Users\\abdul\\OneDrive\\Desktop\\Summer_24\\pyvista\\python\\pyvista\\imred.py:765: RuntimeWarning: divide by zero encountered in divide\n",
      "  corr.data /= flat.data\n",
      "C:\\Users\\abdul\\OneDrive\\Desktop\\Summer_24\\pyvista\\python\\pyvista\\imred.py:766: RuntimeWarning: divide by zero encountered in divide\n",
      "  corr.uncertainty.array /= flat.data\n",
      "C:\\Users\\abdul\\AppData\\Local\\Programs\\Python\\Python312\\Lib\\site-packages\\numpy\\core\\function_base.py:158: RuntimeWarning: invalid value encountered in multiply\n",
      "  y *= step\n",
      "C:\\Users\\abdul\\AppData\\Local\\Programs\\Python\\Python312\\Lib\\site-packages\\numpy\\core\\function_base.py:168: RuntimeWarning: invalid value encountered in add\n",
      "  y += start\n"
     ]
    },
    {
     "name": "stdout",
     "output_type": "stream",
     "text": [
      "  See flat-fielded image and original with - (minus) key.\n",
      "   To continue, hit space in display window (p for debug) \n",
      "INFO: array provided for uncertainty; assuming it is a StdDevUncertainty. [astropy.nddata.ccddata]\n"
     ]
    }
   ],
   "source": [
    "star1=red.reduce(20, crbox='lacosmic', bias=bias, flat=flat, dark=dark, display=t)"
   ]
  },
  {
   "cell_type": "markdown",
   "id": "6adf9ac5-b9a4-4744-a3e0-8390bfab12f0",
   "metadata": {},
   "source": [
    "Find slit edges from flat, and fit polynomials to locations"
   ]
  },
  {
   "cell_type": "markdown",
   "id": "d104f753-a47a-4fe3-baa8-4213810baf94",
   "metadata": {},
   "source": [
    "# Find and display slits on the flat field image:"
   ]
  },
  {
   "cell_type": "markdown",
   "id": "5a8081f1-c699-4eca-a5ec-5e2d11c6e996",
   "metadata": {},
   "source": [
    "Initializes a Trace object for tracing spectral lines, possibly transposing the image for better handling. It finds and displays slits on the flat field image flat1 with a threshold and signal-to-noise parameter."
   ]
  },
  {
   "cell_type": "code",
   "execution_count": 20,
   "id": "dcc72169-6162-4385-9b88-940101a5ef4a",
   "metadata": {},
   "outputs": [],
   "source": [
    "# this does not take mkflat().\n",
    "trace=spectra.Trace(transpose=True)\n",
    "t.tvclear()\n",
    "bottom,top = trace.findslits(flat1,display=t,thresh=0.5,sn=True)"
   ]
  },
  {
   "cell_type": "markdown",
   "id": "aa7ec611-178e-4d2f-a386-48e7ba3dcf16",
   "metadata": {},
   "source": [
    "An over view of your trace (the informations it contains). Outputs the internal variables of the trace object, useful for debugging or understanding the current state of the object."
   ]
  },
  {
   "cell_type": "code",
   "execution_count": 21,
   "id": "5e280e98-a273-48b2-a2ae-d25934573889",
   "metadata": {
    "scrolled": true
   },
   "outputs": [
    {
     "data": {
      "text/plain": [
       "{'type': 'Polynomial1D',\n",
       " 'degree': 2,\n",
       " 'sigdegree': 0,\n",
       " 'pix0': 0,\n",
       " 'spectrum': None,\n",
       " 'rad': 5,\n",
       " 'transpose': True,\n",
       " 'lags': range(-50, 50),\n",
       " 'model': [Polynomial([205.39570053,   6.70214955, -19.58890376], domain=[  98., 3998.], window=[-1.,  1.], symbol='x'),\n",
       "  Polynomial([353.47561566,   6.31656815, -13.19157469], domain=[  98., 3998.], window=[-1.,  1.], symbol='x'),\n",
       "  Polynomial([500.31128681,   6.02780702,  -9.3204817 ], domain=[  98., 3998.], window=[-1.,  1.], symbol='x'),\n",
       "  Polynomial([725.38596237,   6.39430102,  -3.60916434], domain=[  98., 3998.], window=[-1.,  1.], symbol='x'),\n",
       "  Polynomial([934.65809011,   6.48687832,   1.55820243], domain=[  98., 3998.], window=[-1.,  1.], symbol='x'),\n",
       "  Polynomial([1023.40503861,    6.46322524,    3.67504815], domain=[  98., 3998.], window=[-1.,  1.], symbol='x'),\n",
       "  Polynomial([1089.0796024,    6.4892661,    5.2677399], domain=[  98., 3998.], window=[-1.,  1.], symbol='x'),\n",
       "  Polynomial([1154.51935672,    6.50896277,    6.81061458], domain=[  98., 3998.], window=[-1.,  1.], symbol='x'),\n",
       "  Polynomial([1306.86362606,    6.52070882,   10.51528295], domain=[  98., 3998.], window=[-1.,  1.], symbol='x'),\n",
       "  Polynomial([1352.14721966,    6.535771  ,   11.59691278], domain=[  98., 3998.], window=[-1.,  1.], symbol='x'),\n",
       "  Polynomial([1436.11459056,    6.5270953 ,   13.56459144], domain=[  98., 3998.], window=[-1.,  1.], symbol='x'),\n",
       "  Polynomial([1542.13568052,    6.62636598,   16.0626453 ], domain=[  98., 3998.], window=[-1.,  1.], symbol='x'),\n",
       "  Polynomial([1615.05607331,    6.70268906,   17.7284391 ], domain=[  98., 3998.], window=[-1.,  1.], symbol='x'),\n",
       "  Polynomial([1680.83804491,    6.6137519 ,   19.38337333], domain=[  98., 3998.], window=[-1.,  1.], symbol='x'),\n",
       "  Polynomial([1734.39862667,    6.67009432,   20.67128777], domain=[  98., 3998.], window=[-1.,  1.], symbol='x'),\n",
       "  Polynomial([1763.30169646,    6.5789595 ,   21.38513275], domain=[  98., 3998.], window=[-1.,  1.], symbol='x')],\n",
       " 'sigmodel': None,\n",
       " 'sc0': None,\n",
       " 'rows': [[205, 221],\n",
       "  [353, 369],\n",
       "  [500, 516],\n",
       "  [725, 764],\n",
       "  [935, 973],\n",
       "  [1023, 1062],\n",
       "  [1089, 1128],\n",
       "  [1154, 1193],\n",
       "  [1307, 1323],\n",
       "  [1352, 1391],\n",
       "  [1436, 1475],\n",
       "  [1542, 1581],\n",
       "  [1615, 1654],\n",
       "  [1681, 1720],\n",
       "  [1735, 1751],\n",
       "  [1763, 1802]]}"
      ]
     },
     "execution_count": 21,
     "metadata": {},
     "output_type": "execute_result"
    }
   ],
   "source": [
    "vars(trace)"
   ]
  },
  {
   "cell_type": "markdown",
   "id": "b813a5af-c701-4ba3-b554-a828cec7d63c",
   "metadata": {},
   "source": [
    "# Read slit mask from a file and sort:"
   ]
  },
  {
   "cell_type": "markdown",
   "id": "1d894e0b-4583-4101-9169-c768230e7a46",
   "metadata": {},
   "source": [
    "Load and read your kmsfile. A kmsfile is a file containing the information used to make a mask-slit. \n",
    "Thus, it is important to load the right file. Sorting by 'YMM' is very important for the coming steps. \n",
    "It arrangement the table data from top to bottom to correspond to the slit arrangement from left to right.\n",
    "This allows us to match the slit position to its corresponding kmsfile very easily.\n",
    "Reads slit mask data from a specified file and sorts it, likely preparing it for further processing."
   ]
  },
  {
   "cell_type": "code",
   "execution_count": 22,
   "id": "4af6dd05-e110-423c-b308-ff5cafa7d3d7",
   "metadata": {},
   "outputs": [],
   "source": [
    "kmsfile='kms/Copy of kosmos.23.seg3g2.kms'\n",
    "targets = slitmask.read_kms(kmsfile,sort='YMM')"
   ]
  },
  {
   "cell_type": "markdown",
   "id": "052ddf76-7e5b-46d7-af6d-72e984033415",
   "metadata": {},
   "source": [
    "Outputs the table targets which was read from the .kms file, to examine its contents."
   ]
  },
  {
   "cell_type": "markdown",
   "id": "97769d0a-9d39-43b7-8a50-533e9cec1902",
   "metadata": {},
   "source": [
    "Transform your to panda table formate. This will allow you to easily modify the table. "
   ]
  },
  {
   "cell_type": "code",
   "execution_count": 23,
   "id": "bd163cec-a111-4bed-bfb6-222cb38e5c92",
   "metadata": {
    "scrolled": true
   },
   "outputs": [
    {
     "data": {
      "text/html": [
       "<div><i>Table length=16</i>\n",
       "<table id=\"table2220929421376\" class=\"table-striped table-bordered table-condensed\">\n",
       "<thead><tr><th>ID</th><th>NAME</th><th>SHAPE</th><th>WID</th><th>LEN</th><th>ROT</th><th>ALPHA</th><th>DELTA</th><th>WIDMM</th><th>LENMM</th><th>XMM</th><th>YMM</th></tr></thead>\n",
       "<thead><tr><th>str7</th><th>str2</th><th>str8</th><th>float64</th><th>float64</th><th>float64</th><th>float64</th><th>float64</th><th>float64</th><th>float64</th><th>float64</th><th>float64</th></tr></thead>\n",
       "<tr><td>TARG113</td><td>NN</td><td>STRAIGHT</td><td>4.0</td><td>4.0</td><td>0.0</td><td>212134.279</td><td>191220.25</td><td>0.683</td><td>0.683</td><td>-5.252</td><td>-34.315</td></tr>\n",
       "<tr><td>TARG112</td><td>NN</td><td>STRAIGHT</td><td>4.0</td><td>4.0</td><td>0.0</td><td>212140.986</td><td>191141.81</td><td>0.683</td><td>0.683</td><td>-21.469</td><td>-27.768</td></tr>\n",
       "<tr><td>TARG114</td><td>NN</td><td>STRAIGHT</td><td>4.0</td><td>4.0</td><td>0.0</td><td>212123.429</td><td>191104.21</td><td>0.683</td><td>0.683</td><td>20.979</td><td>-21.323</td></tr>\n",
       "<tr><td>TARG111</td><td>NN</td><td>STRAIGHT</td><td>0.9</td><td>10.0</td><td>0.0</td><td>212132.879</td><td>191002.48</td><td>0.154</td><td>1.707</td><td>-1.87</td><td>-10.801</td></tr>\n",
       "<tr><td>TARG110</td><td>NN</td><td>STRAIGHT</td><td>0.9</td><td>10.0</td><td>0.0</td><td>212127.784</td><td>190908.67</td><td>0.154</td><td>1.707</td><td>10.451</td><td>-1.61</td></tr>\n",
       "<tr><td>TARG109</td><td>NN</td><td>STRAIGHT</td><td>0.9</td><td>10.0</td><td>0.0</td><td>212128.763</td><td>190845.78</td><td>0.154</td><td>1.707</td><td>8.085</td><td>2.297</td></tr>\n",
       "<tr><td>TARG108</td><td>NN</td><td>STRAIGHT</td><td>0.9</td><td>10.0</td><td>0.0</td><td>212127.508</td><td>190828.88</td><td>0.154</td><td>1.707</td><td>11.119</td><td>5.182</td></tr>\n",
       "<tr><td>TARG107</td><td>NN</td><td>STRAIGHT</td><td>0.9</td><td>10.0</td><td>0.0</td><td>212133.847</td><td>190811.86</td><td>0.154</td><td>1.707</td><td>-4.212</td><td>8.077</td></tr>\n",
       "<tr><td>TARG115</td><td>NN</td><td>STRAIGHT</td><td>4.0</td><td>4.0</td><td>0.0</td><td>212132.347</td><td>190735.58</td><td>0.683</td><td>0.683</td><td>-0.582</td><td>14.272</td></tr>\n",
       "<tr><td>TARG106</td><td>NN</td><td>STRAIGHT</td><td>0.9</td><td>10.0</td><td>0.0</td><td>212133.934</td><td>190720.87</td><td>0.154</td><td>1.707</td><td>-4.422</td><td>16.78</td></tr>\n",
       "<tr><td>TARG105</td><td>NN</td><td>STRAIGHT</td><td>0.9</td><td>10.0</td><td>0.0</td><td>212130.054</td><td>190659.25</td><td>0.154</td><td>1.707</td><td>4.962</td><td>20.475</td></tr>\n",
       "<tr><td>TARG104</td><td>NN</td><td>STRAIGHT</td><td>0.9</td><td>10.0</td><td>0.0</td><td>212136.755</td><td>190631.54</td><td>0.154</td><td>1.707</td><td>-11.247</td><td>25.194</td></tr>\n",
       "<tr><td>TARG103</td><td>NN</td><td>STRAIGHT</td><td>0.9</td><td>10.0</td><td>0.0</td><td>212139.639</td><td>190612.3</td><td>0.154</td><td>1.707</td><td>-18.223</td><td>28.472</td></tr>\n",
       "<tr><td>TARG102</td><td>NN</td><td>STRAIGHT</td><td>0.9</td><td>10.0</td><td>0.0</td><td>212134.103</td><td>190555.71</td><td>0.154</td><td>1.707</td><td>-4.831</td><td>31.313</td></tr>\n",
       "<tr><td>TARG116</td><td>NN</td><td>STRAIGHT</td><td>4.0</td><td>4.0</td><td>0.0</td><td>212136.121</td><td>190544.59</td><td>0.683</td><td>0.683</td><td>-9.713</td><td>33.208</td></tr>\n",
       "<tr><td>TARG101</td><td>NN</td><td>STRAIGHT</td><td>0.9</td><td>10.0</td><td>0.0</td><td>212133.821</td><td>190534.28</td><td>0.154</td><td>1.707</td><td>-4.15</td><td>34.972</td></tr>\n",
       "</table></div>"
      ],
      "text/plain": [
       "<Table length=16>\n",
       "   ID   NAME  SHAPE     WID     LEN     ROT     ALPHA      DELTA    WIDMM   LENMM    XMM     YMM  \n",
       "  str7  str2   str8   float64 float64 float64  float64    float64  float64 float64 float64 float64\n",
       "------- ---- -------- ------- ------- ------- ---------- --------- ------- ------- ------- -------\n",
       "TARG113   NN STRAIGHT     4.0     4.0     0.0 212134.279 191220.25   0.683   0.683  -5.252 -34.315\n",
       "TARG112   NN STRAIGHT     4.0     4.0     0.0 212140.986 191141.81   0.683   0.683 -21.469 -27.768\n",
       "TARG114   NN STRAIGHT     4.0     4.0     0.0 212123.429 191104.21   0.683   0.683  20.979 -21.323\n",
       "TARG111   NN STRAIGHT     0.9    10.0     0.0 212132.879 191002.48   0.154   1.707   -1.87 -10.801\n",
       "TARG110   NN STRAIGHT     0.9    10.0     0.0 212127.784 190908.67   0.154   1.707  10.451   -1.61\n",
       "TARG109   NN STRAIGHT     0.9    10.0     0.0 212128.763 190845.78   0.154   1.707   8.085   2.297\n",
       "TARG108   NN STRAIGHT     0.9    10.0     0.0 212127.508 190828.88   0.154   1.707  11.119   5.182\n",
       "TARG107   NN STRAIGHT     0.9    10.0     0.0 212133.847 190811.86   0.154   1.707  -4.212   8.077\n",
       "TARG115   NN STRAIGHT     4.0     4.0     0.0 212132.347 190735.58   0.683   0.683  -0.582  14.272\n",
       "TARG106   NN STRAIGHT     0.9    10.0     0.0 212133.934 190720.87   0.154   1.707  -4.422   16.78\n",
       "TARG105   NN STRAIGHT     0.9    10.0     0.0 212130.054 190659.25   0.154   1.707   4.962  20.475\n",
       "TARG104   NN STRAIGHT     0.9    10.0     0.0 212136.755 190631.54   0.154   1.707 -11.247  25.194\n",
       "TARG103   NN STRAIGHT     0.9    10.0     0.0 212139.639  190612.3   0.154   1.707 -18.223  28.472\n",
       "TARG102   NN STRAIGHT     0.9    10.0     0.0 212134.103 190555.71   0.154   1.707  -4.831  31.313\n",
       "TARG116   NN STRAIGHT     4.0     4.0     0.0 212136.121 190544.59   0.683   0.683  -9.713  33.208\n",
       "TARG101   NN STRAIGHT     0.9    10.0     0.0 212133.821 190534.28   0.154   1.707   -4.15  34.972"
      ]
     },
     "execution_count": 23,
     "metadata": {},
     "output_type": "execute_result"
    }
   ],
   "source": [
    "targets # A look at your table"
   ]
  },
  {
   "cell_type": "markdown",
   "id": "0de56e3b-e88d-4b72-bc9d-44621ea63212",
   "metadata": {},
   "source": [
    "# Convert the targets table to a pandas DataFrame:"
   ]
  },
  {
   "cell_type": "markdown",
   "id": "28a1bdf9-c46e-48c2-8a5e-fe51651f6ae8",
   "metadata": {},
   "source": [
    "Converts the targets table to a pandas DataFrame and displays it, allowing for easier manipulation and visualization using pandas tools."
   ]
  },
  {
   "cell_type": "code",
   "execution_count": 24,
   "id": "0f409e63-1561-4c27-a6a1-d6afc150dbb0",
   "metadata": {},
   "outputs": [],
   "source": [
    "df = targets.to_pandas()"
   ]
  },
  {
   "cell_type": "code",
   "execution_count": 25,
   "id": "d57640a7-18e4-4c33-ad68-5afbdb6bb266",
   "metadata": {
    "scrolled": true
   },
   "outputs": [
    {
     "data": {
      "text/html": [
       "<div>\n",
       "<style scoped>\n",
       "    .dataframe tbody tr th:only-of-type {\n",
       "        vertical-align: middle;\n",
       "    }\n",
       "\n",
       "    .dataframe tbody tr th {\n",
       "        vertical-align: top;\n",
       "    }\n",
       "\n",
       "    .dataframe thead th {\n",
       "        text-align: right;\n",
       "    }\n",
       "</style>\n",
       "<table border=\"1\" class=\"dataframe\">\n",
       "  <thead>\n",
       "    <tr style=\"text-align: right;\">\n",
       "      <th></th>\n",
       "      <th>ID</th>\n",
       "      <th>NAME</th>\n",
       "      <th>SHAPE</th>\n",
       "      <th>WID</th>\n",
       "      <th>LEN</th>\n",
       "      <th>ROT</th>\n",
       "      <th>ALPHA</th>\n",
       "      <th>DELTA</th>\n",
       "      <th>WIDMM</th>\n",
       "      <th>LENMM</th>\n",
       "      <th>XMM</th>\n",
       "      <th>YMM</th>\n",
       "    </tr>\n",
       "  </thead>\n",
       "  <tbody>\n",
       "    <tr>\n",
       "      <th>0</th>\n",
       "      <td>TARG113</td>\n",
       "      <td>NN</td>\n",
       "      <td>STRAIGHT</td>\n",
       "      <td>4.0</td>\n",
       "      <td>4.0</td>\n",
       "      <td>0.0</td>\n",
       "      <td>212134.279</td>\n",
       "      <td>191220.25</td>\n",
       "      <td>0.683</td>\n",
       "      <td>0.683</td>\n",
       "      <td>-5.252</td>\n",
       "      <td>-34.315</td>\n",
       "    </tr>\n",
       "    <tr>\n",
       "      <th>1</th>\n",
       "      <td>TARG112</td>\n",
       "      <td>NN</td>\n",
       "      <td>STRAIGHT</td>\n",
       "      <td>4.0</td>\n",
       "      <td>4.0</td>\n",
       "      <td>0.0</td>\n",
       "      <td>212140.986</td>\n",
       "      <td>191141.81</td>\n",
       "      <td>0.683</td>\n",
       "      <td>0.683</td>\n",
       "      <td>-21.469</td>\n",
       "      <td>-27.768</td>\n",
       "    </tr>\n",
       "    <tr>\n",
       "      <th>2</th>\n",
       "      <td>TARG114</td>\n",
       "      <td>NN</td>\n",
       "      <td>STRAIGHT</td>\n",
       "      <td>4.0</td>\n",
       "      <td>4.0</td>\n",
       "      <td>0.0</td>\n",
       "      <td>212123.429</td>\n",
       "      <td>191104.21</td>\n",
       "      <td>0.683</td>\n",
       "      <td>0.683</td>\n",
       "      <td>20.979</td>\n",
       "      <td>-21.323</td>\n",
       "    </tr>\n",
       "    <tr>\n",
       "      <th>3</th>\n",
       "      <td>TARG111</td>\n",
       "      <td>NN</td>\n",
       "      <td>STRAIGHT</td>\n",
       "      <td>0.9</td>\n",
       "      <td>10.0</td>\n",
       "      <td>0.0</td>\n",
       "      <td>212132.879</td>\n",
       "      <td>191002.48</td>\n",
       "      <td>0.154</td>\n",
       "      <td>1.707</td>\n",
       "      <td>-1.870</td>\n",
       "      <td>-10.801</td>\n",
       "    </tr>\n",
       "    <tr>\n",
       "      <th>4</th>\n",
       "      <td>TARG110</td>\n",
       "      <td>NN</td>\n",
       "      <td>STRAIGHT</td>\n",
       "      <td>0.9</td>\n",
       "      <td>10.0</td>\n",
       "      <td>0.0</td>\n",
       "      <td>212127.784</td>\n",
       "      <td>190908.67</td>\n",
       "      <td>0.154</td>\n",
       "      <td>1.707</td>\n",
       "      <td>10.451</td>\n",
       "      <td>-1.610</td>\n",
       "    </tr>\n",
       "    <tr>\n",
       "      <th>5</th>\n",
       "      <td>TARG109</td>\n",
       "      <td>NN</td>\n",
       "      <td>STRAIGHT</td>\n",
       "      <td>0.9</td>\n",
       "      <td>10.0</td>\n",
       "      <td>0.0</td>\n",
       "      <td>212128.763</td>\n",
       "      <td>190845.78</td>\n",
       "      <td>0.154</td>\n",
       "      <td>1.707</td>\n",
       "      <td>8.085</td>\n",
       "      <td>2.297</td>\n",
       "    </tr>\n",
       "    <tr>\n",
       "      <th>6</th>\n",
       "      <td>TARG108</td>\n",
       "      <td>NN</td>\n",
       "      <td>STRAIGHT</td>\n",
       "      <td>0.9</td>\n",
       "      <td>10.0</td>\n",
       "      <td>0.0</td>\n",
       "      <td>212127.508</td>\n",
       "      <td>190828.88</td>\n",
       "      <td>0.154</td>\n",
       "      <td>1.707</td>\n",
       "      <td>11.119</td>\n",
       "      <td>5.182</td>\n",
       "    </tr>\n",
       "    <tr>\n",
       "      <th>7</th>\n",
       "      <td>TARG107</td>\n",
       "      <td>NN</td>\n",
       "      <td>STRAIGHT</td>\n",
       "      <td>0.9</td>\n",
       "      <td>10.0</td>\n",
       "      <td>0.0</td>\n",
       "      <td>212133.847</td>\n",
       "      <td>190811.86</td>\n",
       "      <td>0.154</td>\n",
       "      <td>1.707</td>\n",
       "      <td>-4.212</td>\n",
       "      <td>8.077</td>\n",
       "    </tr>\n",
       "    <tr>\n",
       "      <th>8</th>\n",
       "      <td>TARG115</td>\n",
       "      <td>NN</td>\n",
       "      <td>STRAIGHT</td>\n",
       "      <td>4.0</td>\n",
       "      <td>4.0</td>\n",
       "      <td>0.0</td>\n",
       "      <td>212132.347</td>\n",
       "      <td>190735.58</td>\n",
       "      <td>0.683</td>\n",
       "      <td>0.683</td>\n",
       "      <td>-0.582</td>\n",
       "      <td>14.272</td>\n",
       "    </tr>\n",
       "    <tr>\n",
       "      <th>9</th>\n",
       "      <td>TARG106</td>\n",
       "      <td>NN</td>\n",
       "      <td>STRAIGHT</td>\n",
       "      <td>0.9</td>\n",
       "      <td>10.0</td>\n",
       "      <td>0.0</td>\n",
       "      <td>212133.934</td>\n",
       "      <td>190720.87</td>\n",
       "      <td>0.154</td>\n",
       "      <td>1.707</td>\n",
       "      <td>-4.422</td>\n",
       "      <td>16.780</td>\n",
       "    </tr>\n",
       "    <tr>\n",
       "      <th>10</th>\n",
       "      <td>TARG105</td>\n",
       "      <td>NN</td>\n",
       "      <td>STRAIGHT</td>\n",
       "      <td>0.9</td>\n",
       "      <td>10.0</td>\n",
       "      <td>0.0</td>\n",
       "      <td>212130.054</td>\n",
       "      <td>190659.25</td>\n",
       "      <td>0.154</td>\n",
       "      <td>1.707</td>\n",
       "      <td>4.962</td>\n",
       "      <td>20.475</td>\n",
       "    </tr>\n",
       "    <tr>\n",
       "      <th>11</th>\n",
       "      <td>TARG104</td>\n",
       "      <td>NN</td>\n",
       "      <td>STRAIGHT</td>\n",
       "      <td>0.9</td>\n",
       "      <td>10.0</td>\n",
       "      <td>0.0</td>\n",
       "      <td>212136.755</td>\n",
       "      <td>190631.54</td>\n",
       "      <td>0.154</td>\n",
       "      <td>1.707</td>\n",
       "      <td>-11.247</td>\n",
       "      <td>25.194</td>\n",
       "    </tr>\n",
       "    <tr>\n",
       "      <th>12</th>\n",
       "      <td>TARG103</td>\n",
       "      <td>NN</td>\n",
       "      <td>STRAIGHT</td>\n",
       "      <td>0.9</td>\n",
       "      <td>10.0</td>\n",
       "      <td>0.0</td>\n",
       "      <td>212139.639</td>\n",
       "      <td>190612.30</td>\n",
       "      <td>0.154</td>\n",
       "      <td>1.707</td>\n",
       "      <td>-18.223</td>\n",
       "      <td>28.472</td>\n",
       "    </tr>\n",
       "    <tr>\n",
       "      <th>13</th>\n",
       "      <td>TARG102</td>\n",
       "      <td>NN</td>\n",
       "      <td>STRAIGHT</td>\n",
       "      <td>0.9</td>\n",
       "      <td>10.0</td>\n",
       "      <td>0.0</td>\n",
       "      <td>212134.103</td>\n",
       "      <td>190555.71</td>\n",
       "      <td>0.154</td>\n",
       "      <td>1.707</td>\n",
       "      <td>-4.831</td>\n",
       "      <td>31.313</td>\n",
       "    </tr>\n",
       "    <tr>\n",
       "      <th>14</th>\n",
       "      <td>TARG116</td>\n",
       "      <td>NN</td>\n",
       "      <td>STRAIGHT</td>\n",
       "      <td>4.0</td>\n",
       "      <td>4.0</td>\n",
       "      <td>0.0</td>\n",
       "      <td>212136.121</td>\n",
       "      <td>190544.59</td>\n",
       "      <td>0.683</td>\n",
       "      <td>0.683</td>\n",
       "      <td>-9.713</td>\n",
       "      <td>33.208</td>\n",
       "    </tr>\n",
       "    <tr>\n",
       "      <th>15</th>\n",
       "      <td>TARG101</td>\n",
       "      <td>NN</td>\n",
       "      <td>STRAIGHT</td>\n",
       "      <td>0.9</td>\n",
       "      <td>10.0</td>\n",
       "      <td>0.0</td>\n",
       "      <td>212133.821</td>\n",
       "      <td>190534.28</td>\n",
       "      <td>0.154</td>\n",
       "      <td>1.707</td>\n",
       "      <td>-4.150</td>\n",
       "      <td>34.972</td>\n",
       "    </tr>\n",
       "  </tbody>\n",
       "</table>\n",
       "</div>"
      ],
      "text/plain": [
       "         ID NAME     SHAPE  WID   LEN  ROT       ALPHA      DELTA  WIDMM  \\\n",
       "0   TARG113   NN  STRAIGHT  4.0   4.0  0.0  212134.279  191220.25  0.683   \n",
       "1   TARG112   NN  STRAIGHT  4.0   4.0  0.0  212140.986  191141.81  0.683   \n",
       "2   TARG114   NN  STRAIGHT  4.0   4.0  0.0  212123.429  191104.21  0.683   \n",
       "3   TARG111   NN  STRAIGHT  0.9  10.0  0.0  212132.879  191002.48  0.154   \n",
       "4   TARG110   NN  STRAIGHT  0.9  10.0  0.0  212127.784  190908.67  0.154   \n",
       "5   TARG109   NN  STRAIGHT  0.9  10.0  0.0  212128.763  190845.78  0.154   \n",
       "6   TARG108   NN  STRAIGHT  0.9  10.0  0.0  212127.508  190828.88  0.154   \n",
       "7   TARG107   NN  STRAIGHT  0.9  10.0  0.0  212133.847  190811.86  0.154   \n",
       "8   TARG115   NN  STRAIGHT  4.0   4.0  0.0  212132.347  190735.58  0.683   \n",
       "9   TARG106   NN  STRAIGHT  0.9  10.0  0.0  212133.934  190720.87  0.154   \n",
       "10  TARG105   NN  STRAIGHT  0.9  10.0  0.0  212130.054  190659.25  0.154   \n",
       "11  TARG104   NN  STRAIGHT  0.9  10.0  0.0  212136.755  190631.54  0.154   \n",
       "12  TARG103   NN  STRAIGHT  0.9  10.0  0.0  212139.639  190612.30  0.154   \n",
       "13  TARG102   NN  STRAIGHT  0.9  10.0  0.0  212134.103  190555.71  0.154   \n",
       "14  TARG116   NN  STRAIGHT  4.0   4.0  0.0  212136.121  190544.59  0.683   \n",
       "15  TARG101   NN  STRAIGHT  0.9  10.0  0.0  212133.821  190534.28  0.154   \n",
       "\n",
       "    LENMM     XMM     YMM  \n",
       "0   0.683  -5.252 -34.315  \n",
       "1   0.683 -21.469 -27.768  \n",
       "2   0.683  20.979 -21.323  \n",
       "3   1.707  -1.870 -10.801  \n",
       "4   1.707  10.451  -1.610  \n",
       "5   1.707   8.085   2.297  \n",
       "6   1.707  11.119   5.182  \n",
       "7   1.707  -4.212   8.077  \n",
       "8   0.683  -0.582  14.272  \n",
       "9   1.707  -4.422  16.780  \n",
       "10  1.707   4.962  20.475  \n",
       "11  1.707 -11.247  25.194  \n",
       "12  1.707 -18.223  28.472  \n",
       "13  1.707  -4.831  31.313  \n",
       "14  0.683  -9.713  33.208  \n",
       "15  1.707  -4.150  34.972  "
      ]
     },
     "execution_count": 25,
     "metadata": {},
     "output_type": "execute_result"
    }
   ],
   "source": [
    "df # A look at your table in panda formate"
   ]
  },
  {
   "cell_type": "markdown",
   "id": "d8eb4808-a5e0-48de-bf23-c4cd0e53481c",
   "metadata": {},
   "source": [
    "# Remove specified rows from DataFrame:"
   ]
  },
  {
   "cell_type": "markdown",
   "id": "6cffcce3-2cc1-4e31-9d71-de3f7552ab22",
   "metadata": {},
   "source": [
    "If all of your slits don't have a light source or you want only to extract a portion of science images. \n",
    "Look at your science image and see what positional index it responds to; is it slit number 1, 2, 3, etc.\n",
    "This position will be the same as in the table above. Note that in Python, index counting starts at zero (0).\n",
    "In the cell below you can remove the slits you are not interested in. This will not affect your original kmsfile."
   ]
  },
  {
   "cell_type": "code",
   "execution_count": 26,
   "id": "7aca5b67-92bb-4fe2-a35e-031f8b921aec",
   "metadata": {},
   "outputs": [],
   "source": [
    "# Specify the indices of the rows you want to remove\n",
    "rows_to_remove = [0,1,2,3,4,5,8,10,12,14,15]\n",
    "\n",
    "# Remove the specified rows\n",
    "df_cleaned = df.drop(rows_to_remove)"
   ]
  },
  {
   "cell_type": "markdown",
   "id": "c4c8e01b-96b6-4b3d-ad50-a94542ed4a6a",
   "metadata": {},
   "source": [
    "Outputs the cleaned DataFrame df_cleaned to verify the rows have been removed correctly."
   ]
  },
  {
   "cell_type": "code",
   "execution_count": 27,
   "id": "9534b06a-7b44-4b0f-92f0-100618a31269",
   "metadata": {},
   "outputs": [
    {
     "data": {
      "text/html": [
       "<div>\n",
       "<style scoped>\n",
       "    .dataframe tbody tr th:only-of-type {\n",
       "        vertical-align: middle;\n",
       "    }\n",
       "\n",
       "    .dataframe tbody tr th {\n",
       "        vertical-align: top;\n",
       "    }\n",
       "\n",
       "    .dataframe thead th {\n",
       "        text-align: right;\n",
       "    }\n",
       "</style>\n",
       "<table border=\"1\" class=\"dataframe\">\n",
       "  <thead>\n",
       "    <tr style=\"text-align: right;\">\n",
       "      <th></th>\n",
       "      <th>ID</th>\n",
       "      <th>NAME</th>\n",
       "      <th>SHAPE</th>\n",
       "      <th>WID</th>\n",
       "      <th>LEN</th>\n",
       "      <th>ROT</th>\n",
       "      <th>ALPHA</th>\n",
       "      <th>DELTA</th>\n",
       "      <th>WIDMM</th>\n",
       "      <th>LENMM</th>\n",
       "      <th>XMM</th>\n",
       "      <th>YMM</th>\n",
       "    </tr>\n",
       "  </thead>\n",
       "  <tbody>\n",
       "    <tr>\n",
       "      <th>6</th>\n",
       "      <td>TARG108</td>\n",
       "      <td>NN</td>\n",
       "      <td>STRAIGHT</td>\n",
       "      <td>0.9</td>\n",
       "      <td>10.0</td>\n",
       "      <td>0.0</td>\n",
       "      <td>212127.508</td>\n",
       "      <td>190828.88</td>\n",
       "      <td>0.154</td>\n",
       "      <td>1.707</td>\n",
       "      <td>11.119</td>\n",
       "      <td>5.182</td>\n",
       "    </tr>\n",
       "    <tr>\n",
       "      <th>7</th>\n",
       "      <td>TARG107</td>\n",
       "      <td>NN</td>\n",
       "      <td>STRAIGHT</td>\n",
       "      <td>0.9</td>\n",
       "      <td>10.0</td>\n",
       "      <td>0.0</td>\n",
       "      <td>212133.847</td>\n",
       "      <td>190811.86</td>\n",
       "      <td>0.154</td>\n",
       "      <td>1.707</td>\n",
       "      <td>-4.212</td>\n",
       "      <td>8.077</td>\n",
       "    </tr>\n",
       "    <tr>\n",
       "      <th>9</th>\n",
       "      <td>TARG106</td>\n",
       "      <td>NN</td>\n",
       "      <td>STRAIGHT</td>\n",
       "      <td>0.9</td>\n",
       "      <td>10.0</td>\n",
       "      <td>0.0</td>\n",
       "      <td>212133.934</td>\n",
       "      <td>190720.87</td>\n",
       "      <td>0.154</td>\n",
       "      <td>1.707</td>\n",
       "      <td>-4.422</td>\n",
       "      <td>16.780</td>\n",
       "    </tr>\n",
       "    <tr>\n",
       "      <th>11</th>\n",
       "      <td>TARG104</td>\n",
       "      <td>NN</td>\n",
       "      <td>STRAIGHT</td>\n",
       "      <td>0.9</td>\n",
       "      <td>10.0</td>\n",
       "      <td>0.0</td>\n",
       "      <td>212136.755</td>\n",
       "      <td>190631.54</td>\n",
       "      <td>0.154</td>\n",
       "      <td>1.707</td>\n",
       "      <td>-11.247</td>\n",
       "      <td>25.194</td>\n",
       "    </tr>\n",
       "    <tr>\n",
       "      <th>13</th>\n",
       "      <td>TARG102</td>\n",
       "      <td>NN</td>\n",
       "      <td>STRAIGHT</td>\n",
       "      <td>0.9</td>\n",
       "      <td>10.0</td>\n",
       "      <td>0.0</td>\n",
       "      <td>212134.103</td>\n",
       "      <td>190555.71</td>\n",
       "      <td>0.154</td>\n",
       "      <td>1.707</td>\n",
       "      <td>-4.831</td>\n",
       "      <td>31.313</td>\n",
       "    </tr>\n",
       "  </tbody>\n",
       "</table>\n",
       "</div>"
      ],
      "text/plain": [
       "         ID NAME     SHAPE  WID   LEN  ROT       ALPHA      DELTA  WIDMM  \\\n",
       "6   TARG108   NN  STRAIGHT  0.9  10.0  0.0  212127.508  190828.88  0.154   \n",
       "7   TARG107   NN  STRAIGHT  0.9  10.0  0.0  212133.847  190811.86  0.154   \n",
       "9   TARG106   NN  STRAIGHT  0.9  10.0  0.0  212133.934  190720.87  0.154   \n",
       "11  TARG104   NN  STRAIGHT  0.9  10.0  0.0  212136.755  190631.54  0.154   \n",
       "13  TARG102   NN  STRAIGHT  0.9  10.0  0.0  212134.103  190555.71  0.154   \n",
       "\n",
       "    LENMM     XMM     YMM  \n",
       "6   1.707  11.119   5.182  \n",
       "7   1.707  -4.212   8.077  \n",
       "9   1.707  -4.422  16.780  \n",
       "11  1.707 -11.247  25.194  \n",
       "13  1.707  -4.831  31.313  "
      ]
     },
     "execution_count": 27,
     "metadata": {},
     "output_type": "execute_result"
    }
   ],
   "source": [
    "df_cleaned"
   ]
  },
  {
   "cell_type": "markdown",
   "id": "d673f504-7b5c-415a-987f-ef00b00d9e70",
   "metadata": {},
   "source": [
    "# Filter and process data based on index values:"
   ]
  },
  {
   "cell_type": "markdown",
   "id": "9e77248b-0780-4633-834a-0cdb2aeaff1f",
   "metadata": {},
   "source": [
    "Now you only have your slits of interest. Take the index value of each slit and create a list containing their slit width from the trace."
   ]
  },
  {
   "cell_type": "code",
   "execution_count": 28,
   "id": "2ca846d1-3b4c-47a1-a595-97056b032055",
   "metadata": {},
   "outputs": [],
   "source": [
    "# Give your index value\n",
    "in_dex = [6, 7, 9, 11, 13]\n",
    "\n",
    "# Create a new list to store the filtered lines\n",
    "filtered_rows = []\n",
    "\n",
    "for index, line in enumerate(trace.rows):\n",
    "    if index in in_dex:\n",
    "        filtered_rows.append(line)\n",
    "\n",
    "# Replace the original trace.rows with the filtered list\n",
    "trace.rows = filtered_rows\n"
   ]
  },
  {
   "cell_type": "code",
   "execution_count": 29,
   "id": "02b3ad0c-34ba-4e16-81ae-d7504d656cea",
   "metadata": {},
   "outputs": [
    {
     "data": {
      "text/plain": [
       "[[1089, 1128], [1154, 1193], [1352, 1391], [1542, 1581], [1681, 1720]]"
      ]
     },
     "execution_count": 29,
     "metadata": {},
     "output_type": "execute_result"
    }
   ],
   "source": [
    "trace.rows"
   ]
  },
  {
   "cell_type": "markdown",
   "id": "cda6f676-acbb-4380-844e-b9b90dd5a1cc",
   "metadata": {},
   "source": [
    "If you needed to create Trace from scratch, instantiate one with rows=, lags=, sc= (transpose= determines whether input image needs to be transposed to get wavelength changing along columns).\n",
    "\n",
    "Note the skip= keyword, which can be used when tracing to speed things up by only computing centroids for every skip pixel, taking a median around these pixels of width to skip pixels. The default is skip=10\n",
    "\n",
    "sc0 is your center reference point. sc0 = 2028 is the center of KOSMOS TESCOPE MIRRO.\n",
    "\n",
    "Set rows = trace.rows, it specifies the boundaries of the slits you will be tracing.\n"
   ]
  },
  {
   "cell_type": "markdown",
   "id": "d40d5ac4-5d02-4520-bb55-7b156aa10dc3",
   "metadata": {},
   "source": [
    "#  This cell initializes a new Trace object using various parameters:"
   ]
  },
  {
   "cell_type": "code",
   "execution_count": 30,
   "id": "c8632e69-46e7-48df-93c7-c354abc274f2",
   "metadata": {},
   "outputs": [
    {
     "data": {
      "text/plain": [
       "{'type': 'Polynomial1D',\n",
       " 'degree': 3,\n",
       " 'sigdegree': 0,\n",
       " 'pix0': 0,\n",
       " 'spectrum': None,\n",
       " 'rad': 5,\n",
       " 'transpose': True,\n",
       " 'lags': range(-50, 50),\n",
       " 'rows': [[1089, 1128],\n",
       "  [1154, 1193],\n",
       "  [1352, 1391],\n",
       "  [1542, 1581],\n",
       "  [1681, 1720]],\n",
       " 'model': None,\n",
       " 'sigmodel': None,\n",
       " 'sc0': None}"
      ]
     },
     "execution_count": 30,
     "metadata": {},
     "output_type": "execute_result"
    }
   ],
   "source": [
    "# Create your own trace from scratch.\n",
    "trace1=spectra.Trace(lags=range(-50,50),\n",
    "                    rows= trace.rows ,transpose=red.transpose, rad=5, degree= 3) #[1585,1545],# 1372 #1545-1585\n",
    "vars(trace1)"
   ]
  },
  {
   "cell_type": "markdown",
   "id": "c71302b1-8dcc-4ff5-a380-5c95c13d3f39",
   "metadata": {},
   "source": [
    "# This cell configures and performs a trace operation on an image using predefined rows and parameters:"
   ]
  },
  {
   "cell_type": "markdown",
   "id": "26192b1e-5c06-4343-a4f9-32bd9d88c0ce",
   "metadata": {},
   "source": [
    " - `srow`: Specifies the rows (1110, 1173, 1372, 1564, 1697) where the spectra are located on the image. These rows are manually set and correspond to positions of interest, likely stars or other astronomical objects, observed in the imaging software DS9.\n",
    "- `trace1.trace()`: Calls the trace method on the `trace1` object. The parameters used are:\n",
    "  - `imcr`: The image data on which the trace will be applied.\n",
    "  - `srow`: The list of starting rows for the trace, indicating where each trace should begin.\n",
    "   - `skip=10`: This parameter likely skips some data points to reduce computational load or noise effects, improving the trace accuracy or performance.\n",
    "  - `gaussian = True`: Applies a Gaussian fit to the trace data, which helps in accurately capturing the profile of spectral lines.\n",
    "  - `display=t`: Displays the tracing process, possibly in an interactive viewer or output log, for visualization and verification.\n",
    "  - `rad= 5`: Sets the radius of the trace to 5, defining the thickness of the area around each row from `srow` to be included in the trace. `vars(trace1)`: Outputs the attributes of `trace1` after the tracing operation, which is useful for debugging and understanding the changes made to the object during the trace.\n"
   ]
  },
  {
   "cell_type": "markdown",
   "id": "cfe5c150-7e8e-40e2-81c3-f20d075074bb",
   "metadata": {},
   "source": [
    "*Future developments*\n",
    "- There may be a need for developing a code that automate the \"srow\" process.\n",
    "\n",
    "*Question*\n",
    "- Why reduce refrence stars?"
   ]
  },
  {
   "cell_type": "code",
   "execution_count": 31,
   "id": "dd45eea4-5202-4f37-8e04-80dbbf8c868c",
   "metadata": {
    "scrolled": true
   },
   "outputs": [
    {
     "name": "stderr",
     "output_type": "stream",
     "text": [
      "C:\\Users\\abdul\\AppData\\Local\\Programs\\Python\\Python312\\Lib\\site-packages\\numpy\\core\\function_base.py:158: RuntimeWarning: invalid value encountered in multiply\n",
      "  y *= step\n",
      "C:\\Users\\abdul\\AppData\\Local\\Programs\\Python\\Python312\\Lib\\site-packages\\numpy\\core\\function_base.py:168: RuntimeWarning: invalid value encountered in add\n",
      "  y += start\n"
     ]
    },
    {
     "name": "stdout",
     "output_type": "stream",
     "text": [
      "  Tracing row: 1110\r"
     ]
    },
    {
     "name": "stderr",
     "output_type": "stream",
     "text": [
      "C:\\Users\\abdul\\OneDrive\\Desktop\\Summer_24\\pyvista\\python\\pyvista\\spectra.py:1200: RuntimeWarning: invalid value encountered in divide\n",
      "  gd = np.where((~ymask) & (ysum/np.sqrt(yvar)>thresh) )[0]\n",
      "C:\\Users\\abdul\\OneDrive\\Desktop\\Summer_24\\pyvista\\python\\pyvista\\spectra.py:1205: RuntimeWarning: invalid value encountered in divide\n",
      "  gd = np.where((~ymask) & (ysum/np.sqrt(yvar)>thresh) & (np.abs(res)<rad))[0]\n"
     ]
    },
    {
     "name": "stdout",
     "output_type": "stream",
     "text": [
      "  Tracing row: 1697\n",
      "  See trace. Hit space bar to continue....\n"
     ]
    },
    {
     "data": {
      "text/plain": [
       "{'type': 'Polynomial1D',\n",
       " 'degree': 3,\n",
       " 'sigdegree': 0,\n",
       " 'pix0': 0,\n",
       " 'spectrum': array([    0.        , 27576.87109375,  1537.84667969, ...,\n",
       "          445.91418457,  1486.26672363,   346.99194336]),\n",
       " 'rad': 5,\n",
       " 'transpose': True,\n",
       " 'lags': range(-50, 50),\n",
       " 'rows': [[1089, 1128],\n",
       "  [1154, 1193],\n",
       "  [1352, 1391],\n",
       "  [1542, 1581],\n",
       "  [1681, 1720]],\n",
       " 'model': [<Polynomial1D(3, c0=1106.39992401, c1=-0.00063082, c2=0.00000091, c3=0.)>,\n",
       "  <Polynomial1D(3, c0=1170.40821951, c1=-0.00160366, c2=0.00000094, c3=0.)>,\n",
       "  <Polynomial1D(3, c0=1374.538692, c1=-0.00677196, c2=0.00000225, c3=0.)>,\n",
       "  <Polynomial1D(3, c0=1572.01613279, c1=-0.01187518, c2=0.00000343, c3=0.)>,\n",
       "  <Polynomial1D(3, c0=1709.72144687, c1=-0.0155685, c2=0.00000433, c3=0.)>],\n",
       " 'sigmodel': [<Polynomial1D(0, c0=2.2762518)>,\n",
       "  <Polynomial1D(0, c0=2.22416597)>,\n",
       "  <Polynomial1D(0, c0=2.20712878)>,\n",
       "  <Polynomial1D(0, c0=2.19791857)>,\n",
       "  <Polynomial1D(0, c0=2.12723503)>],\n",
       " 'sc0': 2048,\n",
       " 'spectrum2d': array([[-4.14153174e+03, -5.01747559e+03, -5.28314746e+03, ...,\n",
       "         -1.17563110e+03, -1.06095251e+03, -1.00411038e+03],\n",
       "        [ 3.14592725e+03, -6.41323303e+02,  1.88992932e+03, ...,\n",
       "         -2.15242157e+02, -4.17466919e+02, -1.91716457e+02],\n",
       "        [-1.83933130e+03,  4.04157056e+03, -1.57800732e+03, ...,\n",
       "          2.99597382e+02,  4.72203033e+02,  3.30848885e+01],\n",
       "        ...,\n",
       "        [-9.07421814e+02, -1.71057098e+02, -9.21736450e+02, ...,\n",
       "          8.62532959e+01, -2.94235115e+01, -1.93757469e+02],\n",
       "        [-2.18928101e+03, -4.24412793e+03, -2.13978516e+03, ...,\n",
       "         -1.44461768e+03, -3.96212738e+02, -6.22636047e+02],\n",
       "        [ 7.40983496e+03,  3.53989038e+03, -3.36081274e+03, ...,\n",
       "          2.30470578e+05,  1.52221094e+05,  4.11043115e+04]]),\n",
       " 'skip': 50,\n",
       " 'cols2d': array([  25,   75,  125,  175,  225,  275,  325,  375,  425,  475,  525,\n",
       "         575,  625,  675,  725,  775,  825,  875,  925,  975, 1025, 1075,\n",
       "        1125, 1175, 1225, 1275, 1325, 1375, 1425, 1475, 1525, 1575, 1625,\n",
       "        1675, 1725, 1775, 1825, 1875, 1925, 1975, 2025, 2075, 2125, 2175,\n",
       "        2225, 2275, 2325, 2375, 2425, 2475, 2525, 2575, 2625, 2675, 2725,\n",
       "        2775, 2825, 2875, 2925, 2975, 3025, 3075, 3125, 3175, 3225, 3275,\n",
       "        3325, 3375, 3425, 3475, 3525, 3575, 3625, 3675, 3725, 3775, 3825,\n",
       "        3875, 3925, 3975, 4025, 4075]),\n",
       " 'cols': [array([  48,   98,  148,  198,  248,  298,  348,  398,  448,  498,  548,\n",
       "          598,  648,  698,  748,  798,  848,  898,  948,  998, 1048, 1098,\n",
       "         1148, 1198, 1248, 1298, 1348, 1398, 1448, 1498, 1548, 1598, 1648,\n",
       "         1698, 1748, 1798, 1848, 1898, 1948, 1998, 2048, 2098, 2148, 2198,\n",
       "         2248, 2298, 2348, 2398, 2448, 2498, 2548, 2598, 2648, 2698, 2748,\n",
       "         2798, 2848, 2898, 2948, 2998, 3048, 3098, 3148, 3198, 3248, 3298,\n",
       "         3348, 3398, 3448, 3498, 3548, 3598, 3648, 3698, 3748, 3798, 3848,\n",
       "         3898, 3948, 3998, 4048]),\n",
       "  array([  48,   98,  148,  198,  248,  298,  348,  398,  448,  498,  548,\n",
       "          598,  648,  698,  748,  798,  848,  898,  948,  998, 1048, 1098,\n",
       "         1148, 1198, 1248, 1298, 1348, 1398, 1448, 1498, 1548, 1598, 1648,\n",
       "         1698, 1748, 1798, 1848, 1898, 1948, 1998, 2048, 2098, 2148, 2198,\n",
       "         2248, 2298, 2348, 2398, 2448, 2498, 2548, 2598, 2648, 2698, 2748,\n",
       "         2798, 2848, 2898, 2948, 2998, 3048, 3098, 3148, 3198, 3248, 3298,\n",
       "         3348, 3398, 3448, 3498, 3548, 3598, 3648, 3698, 3748, 3798, 3848,\n",
       "         3898, 3948, 3998, 4048]),\n",
       "  array([  48,   98,  148,  198,  248,  298,  348,  398,  448,  498,  548,\n",
       "          598,  648,  698,  748,  798,  848,  898,  948,  998, 1048, 1098,\n",
       "         1148, 1198, 1248, 1298, 1348, 1398, 1448, 1498, 1548, 1598, 1648,\n",
       "         1698, 1748, 1798, 1848, 1898, 1948, 1998, 2048, 2098, 2148, 2198,\n",
       "         2248, 2298, 2348, 2398, 2448, 2498, 2548, 2598, 2648, 2698, 2748,\n",
       "         2798, 2848, 2898, 2948, 2998, 3048, 3098, 3148, 3198, 3248, 3298,\n",
       "         3348, 3398, 3448, 3498, 3548, 3598, 3648, 3698, 3748, 3798, 3848,\n",
       "         3898, 3948, 3998, 4048]),\n",
       "  array([  48,   98,  148,  198,  248,  298,  348,  398,  448,  498,  548,\n",
       "          598,  648,  698,  748,  798,  848,  898,  948,  998, 1048, 1098,\n",
       "         1148, 1198, 1248, 1298, 1348, 1398, 1448, 1498, 1548, 1598, 1648,\n",
       "         1698, 1748, 1798, 1848, 1898, 1948, 1998, 2048, 2098, 2148, 2198,\n",
       "         2248, 2298, 2348, 2398, 2448, 2498, 2548, 2598, 2648, 2698, 2748,\n",
       "         2798, 2848, 2898, 2948, 2998, 3048, 3098, 3148, 3198, 3248, 3298,\n",
       "         3348, 3398, 3448, 3498, 3548, 3598, 3648, 3698, 3748, 3798, 3848,\n",
       "         3898, 3948, 3998, 4048]),\n",
       "  array([  48,   98,  148,  198,  248,  298,  348,  398,  448,  498,  548,\n",
       "          598,  648,  698,  748,  798,  848,  898,  948,  998, 1048, 1098,\n",
       "         1148, 1198, 1248, 1298, 1348, 1398, 1448, 1498, 1548, 1598, 1648,\n",
       "         1698, 1748, 1798, 1848, 1898, 1948, 1998, 2048, 2098, 2148, 2198,\n",
       "         2248, 2298, 2348, 2398, 2448, 2498, 2548, 2598, 2648, 2698, 2748,\n",
       "         2798, 2848, 2898, 2948, 2998, 3048, 3098, 3148, 3198, 3248, 3298,\n",
       "         3348, 3398, 3448, 3498, 3548, 3598, 3648, 3698, 3748, 3798, 3848,\n",
       "         3898, 3948, 3998, 4048])],\n",
       " 'ypos': [array([1106.24956958, 1106.23601561, 1106.43369324, 1106.28845426,\n",
       "         1106.39885026, 1106.40344801, 1106.39817277, 1106.35760935,\n",
       "         1106.35100951, 1106.34782668, 1106.2681333 , 1106.36020385,\n",
       "         1106.37565567, 1106.37554618, 1106.38942399, 1106.44711165,\n",
       "         1106.48320862, 1106.52347584, 1106.56668471, 1106.64156448,\n",
       "         1106.69553644, 1106.79137431, 1106.89564825, 1106.95955475,\n",
       "         1107.04276429, 1107.14869845, 1107.24752435, 1107.30619778,\n",
       "         1107.45265852, 1107.5573312 , 1107.65708147, 1107.7705656 ,\n",
       "         1107.86712545, 1108.05506228, 1108.16922123, 1108.30940587,\n",
       "         1108.45344735, 1108.60374738, 1108.74730642, 1108.92672066,\n",
       "         1109.09692738, 1109.26621401, 1109.41257162, 1109.60576135,\n",
       "         1109.7874464 , 1109.95783025, 1110.1665208 , 1110.36555419,\n",
       "         1110.5588364 , 1110.76754338, 1111.0208409 , 1111.20924736,\n",
       "         1111.42518576, 1111.66783716, 1111.85293952, 1112.10566955,\n",
       "         1112.35376608, 1112.55684973, 1112.84412007, 1113.054606  ,\n",
       "         1113.34603934, 1113.61911436, 1113.85396665, 1114.09460068,\n",
       "         1114.4025706 , 1114.72553949, 1115.01322214, 1115.35111716,\n",
       "         1115.73674705, 1115.9435708 , 1116.26121051, 1116.67286184,\n",
       "         1117.0410181 , 1117.27649186, 1117.67348133, 1118.05493656,\n",
       "         1118.45087107, 1118.67580311, 1119.04871295, 1119.30240541,\n",
       "         1119.88694538]),\n",
       "  array([1170.59197033, 1170.15084389, 1170.29711104, 1170.10603707,\n",
       "         1170.25774993, 1170.1029928 , 1169.59734604, 1169.75227983,\n",
       "         1169.93241228, 1169.82041761, 1169.8532161 , 1169.81799227,\n",
       "         1169.74059794, 1169.7348374 , 1169.78436092, 1169.73092756,\n",
       "         1169.71600491, 1169.68994843, 1169.76233038, 1169.87377966,\n",
       "         1169.81488569, 1169.85351991, 1169.91230775, 1169.99024757,\n",
       "         1170.03249096, 1170.09442468, 1170.22106616, 1170.22097494,\n",
       "         1170.30192734, 1170.38738028, 1170.46613196, 1170.571619  ,\n",
       "         1170.67101376, 1170.78423802, 1170.95188876, 1171.03547984,\n",
       "         1171.17823425, 1171.31257049, 1171.45547708, 1171.54159055,\n",
       "         1171.78894858, 1171.94942725, 1172.10046626, 1172.2933327 ,\n",
       "         1172.51815522, 1172.66642682, 1172.86678102, 1173.09450873,\n",
       "         1173.34218928, 1173.47042989, 1173.73809804, 1173.9665421 ,\n",
       "         1174.1875818 , 1174.42199639, 1174.72844392, 1174.99624562,\n",
       "         1175.25171209, 1175.51520304, 1175.83743366, 1176.14316043,\n",
       "         1176.42674742, 1176.71762937, 1177.10541797, 1177.42252176,\n",
       "         1177.81197117, 1178.06593021, 1178.4179687 , 1178.87753583,\n",
       "         1179.22329574, 1179.57556793, 1179.96411387, 1180.29004247,\n",
       "         1180.8007581 , 1181.30935054, 1181.6291585 , 1182.03666629,\n",
       "         1182.77298198, 1183.14014286, 1183.63319589, 1184.11524723,\n",
       "         1184.36976629]),\n",
       "  array([1374.27926241, 1374.10765063, 1373.60886165, 1373.31014382,\n",
       "         1372.94349546, 1372.85807132, 1372.29208536, 1372.27035785,\n",
       "         1371.96949656, 1371.73992345, 1371.47776561, 1371.18082431,\n",
       "         1371.08125428, 1370.83383626, 1370.69105609, 1370.55655367,\n",
       "         1370.43014152, 1370.30186942, 1370.12715026, 1370.09363197,\n",
       "         1369.96615487, 1369.88973456, 1369.77530124, 1369.71952924,\n",
       "         1369.71908921, 1369.65089834, 1369.65232712, 1369.66151733,\n",
       "         1369.69361451, 1369.68731707, 1369.74755946, 1369.78924668,\n",
       "         1369.81730862, 1369.88831237, 1369.98825426, 1370.11642866,\n",
       "         1370.19737669, 1370.31448204, 1370.41532283, 1370.61018264,\n",
       "         1370.76493401, 1370.95624487, 1371.13155293, 1371.32795738,\n",
       "         1371.54052426, 1371.74437759, 1371.97697679, 1372.24668007,\n",
       "         1372.52571426, 1372.81342897, 1373.09395017, 1373.38481256,\n",
       "         1373.7242859 , 1374.05844151, 1374.41200559, 1374.75943347,\n",
       "         1375.10700416, 1375.52782856, 1375.9195635 , 1376.31884518,\n",
       "         1376.78671616, 1377.22194826, 1377.64422875, 1378.11689199,\n",
       "         1378.58034559, 1379.04882487, 1379.63468215, 1380.2154328 ,\n",
       "         1380.64781641, 1381.29682915, 1381.86175936, 1382.49928379,\n",
       "         1383.09968495, 1383.71127286, 1384.46021515, 1384.9842511 ,\n",
       "         1385.69891012, 1386.44489578, 1387.25036731, 1388.06630068,\n",
       "         1388.83123334]),\n",
       "  array([1571.82988869, 1571.25503481, 1570.36764277, 1570.03703697,\n",
       "         1569.27437048, 1568.66464517, 1568.24444569, 1567.75967586,\n",
       "         1567.31642164, 1566.72058575, 1566.24062633, 1566.05233835,\n",
       "         1565.68927766, 1565.32025531, 1565.01750097, 1564.67511888,\n",
       "         1564.33607443, 1564.06513365, 1563.81975947, 1563.61610094,\n",
       "         1563.39494149, 1563.13787486, 1563.01706007, 1562.82647389,\n",
       "         1562.7011854 , 1562.58425419, 1562.46872338, 1562.39823449,\n",
       "         1562.34010672, 1562.27772042, 1562.26241236, 1562.25329436,\n",
       "         1562.25387496, 1562.27563883, 1562.32575416, 1562.3600959 ,\n",
       "         1562.45257817, 1562.57587698, 1562.68976871, 1562.82595636,\n",
       "         1562.98335247, 1563.16541334, 1563.34259039, 1563.61562555,\n",
       "         1563.76809842, 1564.02914913, 1564.28497615, 1564.60186911,\n",
       "         1564.90572855, 1565.29284765, 1565.62867217, 1566.01445674,\n",
       "         1566.37749679, 1566.75844184, 1567.25832385, 1567.62398434,\n",
       "         1568.1077038 , 1568.66187827, 1569.16411254, 1569.64265225,\n",
       "         1570.22694656, 1570.79907985, 1571.38922935, 1571.97601174,\n",
       "         1572.64104535, 1573.28141083, 1574.00536302, 1574.67014201,\n",
       "         1575.48352278, 1576.15675559, 1577.00172497, 1577.78718041,\n",
       "         1578.59064806, 1579.53569681, 1580.42725635, 1581.31521937,\n",
       "         1582.31853922, 1583.45032296, 1584.40818114, 1585.44864147,\n",
       "         1586.59836598]),\n",
       "  array([1709.54603079, 1708.59428174, 1707.6935159 , 1706.82774099,\n",
       "         1706.0533211 , 1705.30871845, 1704.75832923, 1703.94381974,\n",
       "         1703.53134436, 1702.94200773, 1702.35332822, 1701.8466489 ,\n",
       "         1701.36638971, 1700.88576552, 1700.42562094, 1699.95764594,\n",
       "         1699.55766107, 1699.20168721, 1698.7383827 , 1698.5157129 ,\n",
       "         1698.15741104, 1697.92137428, 1697.68274629, 1697.43005251,\n",
       "         1697.22175604, 1697.04996636, 1696.84047673, 1696.68012937,\n",
       "         1696.59677734, 1696.47017087, 1696.40830948, 1696.36917951,\n",
       "         1696.30367139, 1696.32533207, 1696.34248871, 1696.38554708,\n",
       "         1696.43772895, 1696.51730948, 1696.63702781, 1696.74047234,\n",
       "         1696.94457191, 1697.09390679, 1697.30629594, 1697.53242871,\n",
       "         1697.78726499, 1698.05652288, 1698.35245209, 1698.67598165,\n",
       "         1699.01980714, 1699.38331156, 1699.7851024 , 1700.16906373,\n",
       "         1700.62103598, 1701.07263974, 1701.53403324, 1702.11892985,\n",
       "         1702.58855477, 1703.19456388, 1703.77026307, 1704.42609736,\n",
       "         1705.02674705, 1705.70297512, 1706.39885065, 1707.13503333,\n",
       "         1707.88762477, 1708.68780549, 1709.50842305, 1710.2972542 ,\n",
       "         1711.16095353, 1712.07280863, 1713.0081192 , 1714.00766777,\n",
       "         1714.97138788, 1716.02867732, 1717.07219507, 1718.15292033,\n",
       "         1719.32105602, 1720.44125402, 1721.63661278, 1722.86032112,\n",
       "         1724.16223261])],\n",
       " 'index': array([0, 1, 2, 3, 4])}"
      ]
     },
     "execution_count": 31,
     "metadata": {},
     "output_type": "execute_result"
    }
   ],
   "source": [
    "#Trace\n",
    "srow= [1110, 1173, 1372,1564,1697] #1173,746,954,1041, # list to allow for multiple spectra on an image, manually set\n",
    "#[[1110, 1121],[1173,1184],[1372,1384], [1564,1575],[1697,1711]]\n",
    "#srow= [1121, 1184, 1384,1575,1711]\n",
    "# rad is setting the width of your trace. It will take the center position to be the star position given taking from DS9.\n",
    "trace1.trace(star1,srow,skip=50,\n",
    "                    gaussian = True, display=t, rad= 5)\n",
    "vars(trace1)"
   ]
  },
  {
   "cell_type": "markdown",
   "id": "784b9c27-e752-4d42-8cba-ef22a96b9e04",
   "metadata": {},
   "source": [
    "Using the derived traces, extract the slitless for arcs.\n",
    "This cell performs a 2D extraction from the image of the lamp."
   ]
  },
  {
   "cell_type": "code",
   "execution_count": 32,
   "id": "7c5e0367-08cc-4e8b-a9b1-2e68ffe3448e",
   "metadata": {},
   "outputs": [
    {
     "name": "stdout",
     "output_type": "stream",
     "text": [
      "extracting: \n",
      " 1089-1128\n",
      " 1154-1193\n",
      " 1352-1391\n",
      " 1542-1581\n",
      " 1681-1720\n",
      "  See extraction window(s). Hit space bar to continue....\n"
     ]
    }
   ],
   "source": [
    "arcec1=trace1.extract2d(arcs, display=t)"
   ]
  },
  {
   "cell_type": "markdown",
   "id": "e0ddb970-5b0a-4c3d-bded-3b793036469c",
   "metadata": {},
   "source": [
    "# This cell checks if the number of target objects matches the number of slits and updates FITS headers:"
   ]
  },
  {
   "cell_type": "markdown",
   "id": "a9c6f5e6-2874-44ee-b307-a2e54962777b",
   "metadata": {},
   "source": [
    "Load the targets file, and add XMM and YMM for each slit to headers of each extracted image. REQUIRES A PERFECT MATCH BETWEEN INPUT TARGETS AND IDENTIFIED SLITS!"
   ]
  },
  {
   "cell_type": "markdown",
   "id": "395b5000-1752-4064-abb8-4dd76e541608",
   "metadata": {},
   "source": [
    " - The condition `if len(targets) == len(bottom):` checks whether the list of targets and the list of bottom positions have the same length.\n",
    "   This is crucial because each target needs to correspond to a slit for proper data association and header updates.\n",
    " - Inside the loop `for arc, target in zip(arcec1, targets):`, it iterates over pairs of extracted arc data (`arc`) and target data (`target`) simultaneously.\n",
    "   `zip(arcec1, targets)` creates these pairs, ensuring that each arc is associated with its corresponding target.\n",
    " - For each pair, `arc.header['XMM'] = target['XMM']` and `arc.header['YMM'] = target['YMM']` updates the FITS header of the arc data with the X and Y coordinates from the target data.\n",
    "   These headers ('XMM' and 'YMM') represent physical positions or moment measurements that are essential for further analysis or cataloging.\n",
    " - If the lengths do not match, it executes the `else:` block where it prints an error message:\n",
    "  `print('ERROR, number of identified slits does not match number of targets')`.\n",
    "   This error handling is important to avoid mismatches that could lead to incorrect data processing or analysis.\n"
   ]
  },
  {
   "cell_type": "code",
   "execution_count": 33,
   "id": "ec925305-d8f8-41b3-aac9-a7471685c4c1",
   "metadata": {},
   "outputs": [],
   "source": [
    "if len(targets) == len(bottom) : \n",
    "    for arc,target in zip(arcec1,targets) :\n",
    "        arc.header['XMM'] = target['XMM']\n",
    "        arc.header['YMM'] = target['YMM']\n",
    "else :\n",
    "    print('ERROR, number of identified slits does not match number of targets')"
   ]
  },
  {
   "cell_type": "markdown",
   "id": "2c7fc77f-d9e4-4f25-b39d-6cc20a33c64a",
   "metadata": {},
   "source": [
    "Now loop through each extracted arc to do wavelength calibration. This requires a little effort because the change in the location of the slit relative to the default saved wavelength calibration is significant enough that it can be a challenge to automatically find the lines, since the change in spectrum is more than a simple shift (and, in fact, more than a shift + dispersion change).\n",
    "\n",
    "However, a simple shift is usually enough to identify some of the lines, and these can be used to bootstrap the wavelength solution; the initial identification is easier given an estimate of the shift from the mask design.\n",
    "\n",
    "You can use identify() to do the iteration. On the first pass, only central lines may be correctly identified. Use 'l' and 'r' to remove lines to the left and right of the identified lines. Then use 'i' to iterate, i.e., allow it to re-identify lines (i just returns True to allow you to iterate). When happy with solution, use ' ' to move onto the final 2D wavelength calibration."
   ]
  },
  {
   "cell_type": "code",
   "execution_count": 34,
   "id": "08b53361-53c2-4cc5-91b1-2c6831449b7b",
   "metadata": {
    "scrolled": true
   },
   "outputs": [],
   "source": [
    "#from astropy.io import ascii, fits\n",
    "#lamp_template = ascii.read('kosmos-arc/templates/NeRed1.18-ctr.spec')  \n",
    "#lamp_template['wave']\n",
    "#plt.close()\n",
    "#print(lamp_template['flux'])"
   ]
  },
  {
   "cell_type": "code",
   "execution_count": 35,
   "id": "ed51028d-7601-4c53-8233-6d5f86946a80",
   "metadata": {},
   "outputs": [],
   "source": [
    "# Extract the wavelength column\n",
    "#wavelength = lamp_template['wave']\n",
    "\n",
    "# Save the wavelength data to a new file\n",
    "#with open('new_wave_lamps/wavelength_data.dat', 'w') as file:\n",
    "    #for wave in wavelength:\n",
    "       # file.write(f'{wave}  NeI \\n')\n"
   ]
  },
  {
   "cell_type": "markdown",
   "id": "87ce107e-c8e5-4f83-bcf6-8ab4b4c73899",
   "metadata": {},
   "source": [
    "# This cell performs wavelength calibration for each arc spectrum in 'arcec1' using a predefined wavelength solution file:"
   ]
  },
  {
   "cell_type": "markdown",
   "id": "3ea29691-14b8-4c36-bb7c-896c8f35d6a0",
   "metadata": {},
   "source": [
    " - `for i, arc in enumerate(arcec1):` iterates through each arc spectrum in 'arcec1', with `i` as the index and `arc` as the spectrum.\n",
    " - `wav=spectra.WaveCal('KOSMOS/KOSMOS_red_waves.fits')`: Initializes a wavelength calibration object `wav` using a FITS file that likely contains reference wavelength data.\n",
    " - `nrow=arc.shape[0]`: Retrieves the number of rows in the `arc` data, which represents the slit width of each slit in the spectral data.\n",
    " - `shift=int(arc.header['XMM'])`: Extracts a shift value from the FITS header 'XMM'. This shift is used as an initial guess for aligning the observed spectrum with the reference.\n",
    " - `lags=np.arange(shift-400, shift+400)`: Defines a range of lags around the initial shift for more refined wavelength calibration, adjusting the position to better align with reference features.\n",
    " - The `while` loop (`while iter:`) continues until no further identification improvements are made:\n",
    "   - `iter = wav.identify(...)`: Calls the identify method on `wav` to align the spectrum. It adjusts the calibration based on the central row of the spectrum (`arc[nrow//2]`) and updates the `iter` flag based on whether further adjustments are needed.\n",
    "   - Parameters like `plot=True` and `plotinter=True` enable visualizations of the calibration process to manually inspect and adjust the fit.\n",
    "   - After the first iteration, `lags` is reset to a standard range (`np.arange(-150, 150)`), which likely focuses on fine-tuning around a new estimated center.\n",
    "   - `plt.close()`: Closes the plot to clear memory and avoid overlapping plots.\n",
    " - After exiting the loop, `wav.identify(...)` is called again on the whole `arc` to perform a 2D wavelength solution across the slit by sampling at 5 locations (determined by `nrow//5`).\n",
    " - The final `plt.close()` again ensures that all plots are closed, maintaining clean output without residual figures.\n"
   ]
  },
  {
   "cell_type": "markdown",
   "id": "6d40f3f4-1563-4801-9539-45ad304b0bb6",
   "metadata": {},
   "source": [
    "*Questions:*\n",
    "- Where did the shift values come from?\n",
    "- nrow is 39 or 40 the max range of slit width. nrow//2 is fiting wave at the center of the slits right?\n",
    "- Why does the lags range comefrom?\n",
    "- Why don't we use center line for center, highline for high, and lowline for low? inteated of all in one file."
   ]
  },
  {
   "cell_type": "code",
   "execution_count": 36,
   "id": "c62f2d50-840b-4815-b19f-53470b417290",
   "metadata": {
    "scrolled": true
   },
   "outputs": [
    {
     "name": "stdout",
     "output_type": "stream",
     "text": [
      "  rms:    0.177 Angstroms (50 lines)\n",
      "  cross correlating with reference spectrum using lags between:  -405 394\n",
      "  Derived pixel shift from input wcal:  [-255.75776017]\n"
     ]
    },
    {
     "name": "stderr",
     "output_type": "stream",
     "text": [
      "C:\\Users\\abdul\\OneDrive\\Desktop\\Summer_24\\pyvista\\python\\pyvista\\spectra.py:695: OptimizeWarning: Covariance of the parameters could not be estimated\n",
      "  coeff, var_matrix = curve_fit(gauss, xx, yy, p0=p0)\n"
     ]
    },
    {
     "name": "stdout",
     "output_type": "stream",
     "text": [
      "  See identified lines.\n",
      "  rms:    2.099 Angstroms (25 lines)\n",
      "  Input in plot window: \n",
      "       l : to remove all lines to left of cursor\n",
      "       r : to remove all lines to right of cursor\n",
      "       n : to remove line nearest cursor x position\n",
      "       i : return with True value (to allow iteration)\n",
      "       anything else : finish and return\n",
      "  rms:    2.099 Anstroms\n",
      "  input from plot window...\n",
      "\n",
      "  cross correlating with reference spectrum using lags between:  -300 299\n",
      "  Derived pixel shift from input wcal for row: 38 0\n",
      "  See identified lines.\n",
      "  rms:  109.620\n",
      "rejecting 3 points from 150 total: \n",
      "  rms:    2.394\n",
      "rejecting 3 points from 150 total: \n",
      "  See 2D wavecal fit. Enter space in plot window to continue\n",
      "\n",
      "  rms:    0.177 Angstroms (50 lines)\n",
      "  cross correlating with reference spectrum using lags between:  -421 378\n",
      "  Derived pixel shift from input wcal:  [98.92497207]\n",
      "  See identified lines.\n",
      "  rms:    1.067 Angstroms (27 lines)\n",
      "  Input in plot window: \n",
      "       l : to remove all lines to left of cursor\n",
      "       r : to remove all lines to right of cursor\n",
      "       n : to remove line nearest cursor x position\n",
      "       i : return with True value (to allow iteration)\n",
      "       anything else : finish and return\n",
      "  rms:    1.067 Anstroms\n",
      "  input from plot window...\n",
      "\n",
      "  cross correlating with reference spectrum using lags between:  -300 299\n",
      "  Derived pixel shift from input wcal for row: 38 0\n",
      "  See identified lines.\n",
      "  rms:    0.184\n",
      "rejecting 6 points from 162 total: \n",
      "  rms:    0.106\n",
      "rejecting 6 points from 162 total: \n",
      "  See 2D wavecal fit. Enter space in plot window to continue\n",
      "\n",
      "  rms:    0.177 Angstroms (50 lines)\n",
      "  cross correlating with reference spectrum using lags between:  -380 419\n",
      "  Derived pixel shift from input wcal:  [105.69675702]\n",
      "  See identified lines.\n",
      "  rms:    1.792 Angstroms (26 lines)\n",
      "  Input in plot window: \n",
      "       l : to remove all lines to left of cursor\n",
      "       r : to remove all lines to right of cursor\n",
      "       n : to remove line nearest cursor x position\n",
      "       i : return with True value (to allow iteration)\n",
      "       anything else : finish and return\n",
      "  rms:    1.792 Anstroms\n",
      "  input from plot window...\n",
      "\n",
      "  cross correlating with reference spectrum using lags between:  -300 299\n",
      "  Derived pixel shift from input wcal for row: 38 0\n",
      "  See identified lines.\n",
      "  rms:    0.977\n",
      "rejecting 5 points from 154 total: \n",
      "  rms:    0.558\n",
      "rejecting 7 points from 154 total: \n",
      "  rms:    0.169\n",
      "rejecting 7 points from 154 total: \n",
      "  See 2D wavecal fit. Enter space in plot window to continue\n",
      "\n",
      "  rms:    0.177 Angstroms (50 lines)\n",
      "  cross correlating with reference spectrum using lags between:  -401 398\n",
      "  Derived pixel shift from input wcal:  [266.65850899]\n",
      "  See identified lines.\n",
      "  rms:    3.218 Angstroms (27 lines)\n",
      "  Input in plot window: \n",
      "       l : to remove all lines to left of cursor\n",
      "       r : to remove all lines to right of cursor\n",
      "       n : to remove line nearest cursor x position\n",
      "       i : return with True value (to allow iteration)\n",
      "       anything else : finish and return\n",
      "  rms:    3.218 Anstroms\n",
      "  input from plot window...\n",
      "\n",
      "  cross correlating with reference spectrum using lags between:  -300 299\n",
      "  Derived pixel shift from input wcal for row: 38 1\n",
      "  See identified lines.\n",
      "  rms:   18.203\n",
      "rejecting 1 points from 159 total: \n",
      "  rms:    4.000\n",
      "rejecting 1 points from 159 total: \n",
      "  See 2D wavecal fit. Enter space in plot window to continue\n",
      "\n",
      "  rms:    0.177 Angstroms (50 lines)\n",
      "  cross correlating with reference spectrum using lags between:  -390 409\n",
      "  Derived pixel shift from input wcal:  [122.28495008]\n",
      "  See identified lines.\n",
      "  rms:   86.534 Angstroms (27 lines)\n",
      "  Input in plot window: \n",
      "       l : to remove all lines to left of cursor\n",
      "       r : to remove all lines to right of cursor\n",
      "       n : to remove line nearest cursor x position\n",
      "       i : return with True value (to allow iteration)\n",
      "       anything else : finish and return\n",
      "  rms:   86.534 Anstroms\n",
      "  input from plot window...\n",
      "\n",
      "  cross correlating with reference spectrum using lags between:  -300 299\n",
      "  Derived pixel shift from input wcal for row: 38 1\n",
      "  See identified lines.\n",
      "  rms:   56.508\n",
      "rejecting 2 points from 155 total: \n",
      "  rms:    4.148\n",
      "rejecting 2 points from 155 total: \n",
      "  See 2D wavecal fit. Enter space in plot window to continue\n",
      "\n"
     ]
    }
   ],
   "source": [
    "for i,arc in enumerate(arcec1) :\n",
    "    \n",
    "    wav=spectra.WaveCal('KOSMOS/KOSMOS_red_waves.fits')\n",
    "    nrow=arc.shape[0] # this is referring to the slit width of each slit. \n",
    "    # get initial guess at shift from reference using XMM (KOSMOS red low!)\n",
    "    shift=int(arc.header['XMM'])#*-22.5) # 500 #-wav.pix0)\n",
    "    lags=np.arange(shift-400,shift+400)\n",
    "\n",
    "    iter = True\n",
    "    while iter :\n",
    "        iter = wav.identify(arc[nrow//2],plot=True,plotinter=True,\n",
    "                            lags=lags,thresh=5,file='new_wave_lamp/new_neon_red_center.dat', rad = 5) # new_neon_red_center.dat, I created this file from KOSMO'S lamp plot.\n",
    "        lags=np.arange(-300,300) #'new_wave_lamps/new_neon_red_center.dat'\n",
    "        plt.close()\n",
    "        \n",
    "    # Do the 2D wavelength solution, sampling 5 locations across slitlet\n",
    "    wav.identify(arc,plot=True,nskip=nrow//5,thresh=5)\n",
    "    plt.close()"
   ]
  },
  {
   "cell_type": "markdown",
   "id": "1f2538b4-7a79-4458-8945-f5190a9cab58",
   "metadata": {},
   "source": [
    "Now extract the science frame."
   ]
  },
  {
   "cell_type": "markdown",
   "id": "b9a2bafc-27f4-4099-8e3a-8d2707c9689d",
   "metadata": {},
   "source": [
    "This cell performs a two-dimensional spectral extraction from an image:\n",
    " - `t.clear()`: Clears any existing data or settings in the object `t`, which might be a graphical or plotting interface used to display outputs. This ensures a fresh start for new operations.\n",
    " - `out1 = trace1.extract2d(imcr, display=t)`: Executes a 2D extraction method on the image `imcr` using the `trace1` object. \n",
    "   - `imcr`: The image from which the spectra are being extracted. This could be a pre-processed image ready for spectral analysis.\n",
    "   - `display=t`: This parameter likely enables the visualization of the extraction process. If `t` is linked to a display or graphical interface, this would allow real-time observation of the extraction, which is useful for ensuring it is proceeding as expected or for debugging purposes.\n",
    "The output of this extraction is stored in the variable `out1`, which will contain the extracted spectral data. This data can then be used for further analysis or processing.\n"
   ]
  },
  {
   "cell_type": "code",
   "execution_count": 37,
   "id": "deb95197-711b-45d4-864b-851d226a409d",
   "metadata": {},
   "outputs": [
    {
     "name": "stdout",
     "output_type": "stream",
     "text": [
      "extracting: \n",
      " 1116-1128\n",
      " 1177-1193\n",
      " 1377-1391\n",
      " 1569-1581\n",
      " 1704-1720\n",
      "  See extraction window(s). Hit space bar to continue....\n"
     ]
    }
   ],
   "source": [
    "t.clear()\n",
    "out1=trace1.extract2d(star1, rows= [[1116, 1128],[1177,1193],[1377,1391], [1569,1581],[1704,1720]], display=t)"
   ]
  },
  {
   "cell_type": "code",
   "execution_count": 38,
   "id": "c2f91447-de1d-456d-8f54-4a71da1140f5",
   "metadata": {
    "scrolled": true
   },
   "outputs": [],
   "source": [
    "#t.clear()\n",
    "#out1=trace1.extract2d(star1,display=t)"
   ]
  },
  {
   "cell_type": "markdown",
   "id": "3abffe86-ab74-4c1e-918f-bb21f73b5dbf",
   "metadata": {},
   "source": [
    "# This cell visualizes and processes spectral data after extraction, involving both plotting and adding wavelength information:"
   ]
  },
  {
   "cell_type": "markdown",
   "id": "05cc9b91-01ef-4733-a22f-b13d47dcfb4e",
   "metadata": {},
   "source": [
    " - `t.clear()`: Clears any previous data or settings in the visualization tool `t`, ensuring a fresh start for new operations.\n",
    " - `plt.figure()`: Opens a new figure window for plotting, setting up a visualization space for the upcoming plots.\n",
    " - The loop `for i, (o, a) in enumerate(zip(out1, arcec1)):` iterates over paired spectral data from `out1` and `arcec1`:\n",
    "   - `out1` and `arcec1` are iterated concurrently using `zip`, pairing each spectrum `o` from `out1` with its corresponding calibration data `a` from `arcec1`.\n",
    "   - `print(o.shape)`: Prints the shape of the spectrum `o`, which gives an insight into the dimensions of the spectral data (e.g., number of spectral lines, width of the spectrum).\n",
    "   - `print(a.wave)`: Prints the wavelength data from the object `a`, which is essential for understanding the spectral range covered.\n",
    "   - `o.add_wave(a.wave)`: Adds the wavelength information from `a` to the spectral data `o`, enabling calibrated spectral analysis.\n",
    "   - `name = o.header[\"FILE\"].split(\".\")[0]`: Extracts a base file name from the 'FILE' header of the spectrum `o`, typically used for output naming.\n",
    "   - `print(name)`: Outputs the extracted name for verification or tracking purposes.\n",
    "   - `plt.plot(o.wave[10], o.data[10])`: Plots a specific line (the 10th line) of the spectrum `o`, visualizing the intensity data against its wavelength. This can help visually assess the quality or characteristics of the spectrum.\n",
    "   - The commented out lines `#t.tv(o)` and `#t.tv(o.wave)` suggest that there was an option to visualize the spectrum directly using the `t` tool, but this is not currently active.\n",
    "   - The commented out line `#o.write(name + \"_{:d}.fits\".format(i))` indicates that saving the processed data to FITS files was considered but is not currently executed, perhaps for debugging or development purposes."
   ]
  },
  {
   "cell_type": "code",
   "execution_count": 39,
   "id": "b0345027-a46c-4f95-945e-b4ba639fbd2a",
   "metadata": {
    "scrolled": true
   },
   "outputs": [
    {
     "name": "stdout",
     "output_type": "stream",
     "text": [
      "(12, 4096)\n",
      "[[9343.72002644 9342.71092047 9341.70172914 ... 5297.21615478\n",
      "  5296.44326697 5295.67058001]\n",
      " [9343.86490987 9342.85545286 9341.84591097 ... 5297.01746994\n",
      "  5296.24410036 5295.4709311 ]\n",
      " [9344.00306656 9342.99327626 9341.98340151 ... 5296.83781618\n",
      "  5296.06399801 5295.29037967]\n",
      " ...\n",
      " [9344.6979886  9343.68741905 9342.67676521 ... 5302.0530755\n",
      "  5301.28375554 5300.51463781]\n",
      " [9344.60070968 9343.59042757 9342.58006077 ... 5302.53950922\n",
      "  5301.77090245 5301.00249853]\n",
      " [9344.49670402 9343.48672711 9342.47666505 ... 5303.04497402\n",
      "  5302.27711362 5301.50945674]]\n",
      "SEG3G2\n",
      "appending uncertainty\n",
      "appending bitmask\n",
      "appending wave\n",
      "(16, 4096)\n",
      "[[9721.08332916 9720.0548775  9719.02636439 ... 5601.29261036\n",
      "  5600.45575233 5599.61904941]\n",
      " [9721.04186038 9720.01345839 9718.98499495 ... 5601.25466287\n",
      "  5600.41771798 5599.58092814]\n",
      " [9721.00217645 9719.97382248 9718.94540705 ... 5601.21913532\n",
      "  5600.38210774 5599.54523516]\n",
      " ...\n",
      " [9720.71491021 9719.68720386 9718.65943576 ... 5601.45106255\n",
      "  5600.61370828 5599.77650882]\n",
      " [9720.73769612 9719.70997985 9718.68220182 ... 5601.50023288\n",
      "  5600.66294208 5599.82580613]\n",
      " [9720.76226689 9719.73453904 9718.70674942 ... 5601.55182315\n",
      "  5600.71459999 5599.87753174]]\n",
      "SEG3G2\n",
      "appending uncertainty\n",
      "appending bitmask\n",
      "appending wave\n",
      "(14, 4096)\n",
      "[[9726.07299291 9725.04610199 9724.01914915 ... 5609.41999961\n",
      "  5608.58327578 5607.74670684]\n",
      " [9726.11463979 9725.08769433 9724.06068705 ... 5609.37934404\n",
      "  5608.54249719 5607.70580511]\n",
      " [9726.15444831 9725.1274514  9724.10039274 ... 5609.34199394\n",
      "  5608.50503034 5607.6682214 ]\n",
      " ...\n",
      " [9726.41411003 9725.38720099 9724.36023038 ... 5610.03884658\n",
      "  5609.20164537 5608.36459848]\n",
      " [9726.38957573 9725.36272331 9724.33580925 ... 5610.11718801\n",
      "  5609.28008957 5608.44314554]\n",
      " [9726.36320307 9725.33641035 9724.30955593 ... 5610.19883492\n",
      "  5609.36184552 5608.52501063]]\n",
      "SEG3G2\n",
      "appending uncertainty\n",
      "appending bitmask\n",
      "appending wave\n",
      "(12, 4096)\n",
      "[[9888.30761312 9887.28586308 9886.26405679 ... 5729.29889269\n",
      "  5728.40921393 5727.519656  ]\n",
      " [9888.71067304 9887.68816745 9886.66560627 ... 5729.3924666\n",
      "  5728.50273379 5727.61312149]\n",
      " [9889.12034303 9888.09707134 9887.07374472 ... 5729.4788644\n",
      "  5728.58905909 5727.69937397]\n",
      " ...\n",
      " [9906.98211328 9905.92651039 9904.87088387 ... 5728.14660343\n",
      "  5727.24336297 5726.34022063]\n",
      " [9907.62313566 9906.56639704 9905.50963596 ... 5727.98183733\n",
      "  5727.07787906 5726.17401795]\n",
      " [9908.2707681  9907.2128832  9906.15497701 ... 5727.80989513\n",
      "  5726.90520061 5726.00060226]]\n",
      "SEG3G2\n",
      "appending uncertainty\n",
      "appending bitmask\n",
      "appending wave\n",
      "(16, 4096)\n",
      "[[9199.19613036 9198.99208903 9198.78725515 ... 5768.18156308\n",
      "  5767.69707191 5767.21323661]\n",
      " [9197.54528057 9197.3449152  9197.14375366 ... 5768.73911806\n",
      "  5768.2563083  5767.77415705]\n",
      " [9195.96089249 9195.76405193 9195.56641172 ... 5769.27462974\n",
      "  5768.7934327  5768.31289673]\n",
      " ...\n",
      " [9181.63642613 9181.46948835 9181.30172183 ... 5774.36626761\n",
      "  5773.89903961 5773.43249399]\n",
      " [9182.37819853 9182.20949493 9182.03996436 ... 5774.13026404\n",
      "  5773.66224502 5773.19490709]\n",
      " [9183.18643266 9183.01581208 9182.84436644 ... 5773.87221717\n",
      "  5773.40333846 5772.93513943]]\n",
      "SEG3G2\n",
      "appending uncertainty\n",
      "appending bitmask\n",
      "appending wave\n"
     ]
    }
   ],
   "source": [
    "t.clear()\n",
    "plt.figure()\n",
    "for i,(o,a) in enumerate(zip(out1,arcec1)) :\n",
    "    print(o.shape)\n",
    "    print(a.wave)\n",
    "    o.add_wave(a.wave)\n",
    "    name = o.header[\"FILE\"].split(\".\")[0]\n",
    "    print(name)\n",
    "    #t.tv(o)\n",
    "    #t.tv(o.wave)\n",
    "    plt.plot(o.wave[10],o.data[10])\n",
    "    o.write(name +'only_sky'+ \"_{:02d}.fits\".format(i))"
   ]
  },
  {
   "cell_type": "markdown",
   "id": "f9fc80a4-f9f2-40ff-a1bd-1b9eb6b91586",
   "metadata": {},
   "source": [
    "As desired, move on to 1D extraction"
   ]
  },
  {
   "cell_type": "markdown",
   "id": "6e17bc7d-5545-4d4e-a965-7f7c9f45bd3f",
   "metadata": {},
   "source": [
    "This cell refines spectral extraction by reloading the spectra module, finding peaks, and extracting specific regions:\n",
    " - `importlib.reload(spectra)`: Reloads the `spectra` module to ensure that the latest changes in the module are active during this execution, particularly useful during development when adjustments are frequently made.\n",
    " - `def model(x): return x*0.`: Initially defines a simple model function that returns zero for any input, effectively setting a baseline or placeholder behavior for further calculations.\n",
    " - `fig=plt.figure()`: Creates a new figure for plotting, which will be used to plot spectral data.\n",
    " - The loop `for i in range(len(out1)):` iterates over all extracted spectra in `out1`.\n",
    "   - `trace1 = spectra.Trace(transpose=False)`: Initializes a new `Trace` object for each spectrum in `out1` with transposition turned off.\n",
    "   - `trace1.rows = [0, out1[i].data.shape[0]]`: Sets the row indices for the trace operation, spanning the entire vertical extent of the spectrum.\n",
    "   - `trace1.index = [0]`: Initializes an index for the trace, usually specifying the starting point or reference for the trace operation.\n",
    "   - `peak, ind = trace1.findpeak(out1[i], thresh=10, sort=True)`: Attempts to find peaks in the spectral data which exceed a threshold value; sorting may prioritize or order the peaks.\n",
    "   - Conditional processing if peaks are found:\n",
    "     - If peaks are identified (`if len(peak) > 0:`), a new model function is defined where it returns a constant value equal to the highest peak.\n",
    "     - `trace1.model = [model]`: Assigns this model to the trace object for use in further extraction.\n",
    "     - `spec=trace1.extract(out1[i], rad=5, back=[[-10,-5],[10,5]], display=t)`: Extracts the spectrum using the new model, specifying radial bounds and background subtraction regions. The `display=t` might be used for visual feedback.\n",
    "     - `plt.figure(fig)`: Ensures that subsequent plots are made on the originally created figure.\n",
    "     - `spec.wave = out1[i].wave[peak]`: Assigns wavelength data to `spec.wave` based on the peak locations, aligning extracted spectral data with its corresponding wavelengths.\n",
    "     - `print(spec.wave[0].shape, spec.data[0].shape)`: Prints the shape of the wave and data arrays for debugging or verification.\n",
    "     - `plt.plot(spec.wave[0], spec.data[0])`: Plots the extracted spectrum.\n",
    "   - If no peaks are found, it prints a message indicating no peak was found for the current slit index.\n",
    "   - The commented out `plt.draw()` suggests that immediate plotting or dynamic updates were considered but are currently disabled.\n"
   ]
  },
  {
   "cell_type": "markdown",
   "id": "59386d79-07fc-4b45-aaf5-4698e005c03b",
   "metadata": {},
   "source": [
    "*Question*\n",
    "- trace1.model = [model] is the trace1 model to the peaks right?"
   ]
  },
  {
   "cell_type": "code",
   "execution_count": 40,
   "id": "4be11be3-d7e4-4a52-ba0f-bd434ac101a1",
   "metadata": {
    "scrolled": true
   },
   "outputs": [
    {
     "name": "stdout",
     "output_type": "stream",
     "text": [
      "looking for peaks using 200 pixels around 2048, threshhold of 10.000000\n",
      "peaks:  []\n",
      "aperture/fiber:  []\n",
      "no peak found for slit:  0\n",
      "looking for peaks using 200 pixels around 2048, threshhold of 10.000000\n",
      "peaks:  [5]\n",
      "aperture/fiber:  [0]\n",
      "  extracting ... \n"
     ]
    },
    {
     "name": "stderr",
     "output_type": "stream",
     "text": [
      "C:\\Users\\abdul\\OneDrive\\Desktop\\Summer_24\\pyvista\\python\\pyvista\\spectra.py:2363: RuntimeWarning: All-NaN slice encountered\n",
      "  spec[i,:] -= np.nanmedian(background,axis=0)*2*rad\n"
     ]
    },
    {
     "name": "stdout",
     "output_type": "stream",
     "text": [
      "  See extraction window(s). Hit space bar to continue....\n",
      "\n",
      "(4096,) (4096,)\n",
      "looking for peaks using 200 pixels around 2048, threshhold of 10.000000\n",
      "peaks:  []\n",
      "aperture/fiber:  []\n",
      "no peak found for slit:  2\n",
      "looking for peaks using 200 pixels around 2048, threshhold of 10.000000\n",
      "peaks:  []\n",
      "aperture/fiber:  []\n",
      "no peak found for slit:  3\n",
      "looking for peaks using 200 pixels around 2048, threshhold of 10.000000\n",
      "peaks:  []\n",
      "aperture/fiber:  []\n",
      "no peak found for slit:  4\n"
     ]
    }
   ],
   "source": [
    "importlib.reload(spectra)\n",
    "def model(x) :\n",
    "    return x*0.\n",
    "\n",
    "fig=plt.figure()\n",
    "for i in range(len(out1)) :\n",
    "    #fig = plt.figure() \n",
    "    trace1 = spectra.Trace(transpose=False)\n",
    "    trace1.rows = [0,out1[i].data.shape[0]]\n",
    "    trace1.index = [0]\n",
    "    peak,ind = trace1.findpeak(out1[i],thresh=10,sort=True)\n",
    "    if len(peak) > 0:\n",
    "        def model(x) :\n",
    "            return x*0. + peak[0]\n",
    "        trace1.model = [model]\n",
    "        spec=trace1.extract(out1[i],rad=5,back=[[-10,-5],[10,5]], display=t) # This line is important because you are extracting sky here.\n",
    "        plt.figure(fig)\n",
    "        spec.wave = out1[i].wave[peak]\n",
    "        print(spec.wave[0].shape,spec.data[0].shape)\n",
    "        plt.plot(spec.wave[0],spec.data[0])\n",
    "        #spec.write(\"spec_without_sky\" + \"_{:02d}.fits\".format(i))\n",
    "    else :\n",
    "        print('no peak found for slit: ',i)\n",
    "    #plt.draw()"
   ]
  },
  {
   "cell_type": "code",
   "execution_count": 41,
   "id": "2589f3e3-cc17-4f73-9e96-d5063ccee335",
   "metadata": {
    "scrolled": true
   },
   "outputs": [
    {
     "name": "stdout",
     "output_type": "stream",
     "text": [
      "  extracting ... \n",
      "  See extraction window(s). Hit space bar to continue....\n",
      "\n",
      "(4096,) (4096,)\n",
      "  extracting ... \n",
      "  See extraction window(s). Hit space bar to continue....\n",
      "\n",
      "(4096,) (4096,)\n",
      "  extracting ... \n",
      "  See extraction window(s). Hit space bar to continue....\n",
      "\n",
      "(4096,) (4096,)\n",
      "  extracting ... \n",
      "  See extraction window(s). Hit space bar to continue....\n",
      "\n",
      "(4096,) (4096,)\n",
      "  extracting ... \n",
      "  See extraction window(s). Hit space bar to continue....\n",
      "\n",
      "(4096,) (4096,)\n"
     ]
    }
   ],
   "source": [
    "importlib.reload(spectra)\n",
    "def model(x) :\n",
    "    return x*0.\n",
    "\n",
    "fig=plt.figure()\n",
    "for i in range(len(out1)) :\n",
    "    #fig = plt.figure() \n",
    "    trace1 = spectra.Trace(transpose=False,)  # type= 'Polynomial1D'\n",
    "    trace1.rows = [0,out1[i].data.shape[0]]\n",
    "    trace1.index = [0]\n",
    "    #peak,ind = trace1.findpeak(out1[i],thresh=200,sort=True)\n",
    "    #if len(peak) > 0:\n",
    "     #   def model(x) :\n",
    "            #return x*0. + peak[0]\n",
    "    trace1.model = [model]\n",
    "    spec=trace1.extract(out1[i],rad=5, display=t) # This line is important because you are extracting sky here.\n",
    "    plt.figure(fig)\n",
    "    spec.wave = out1[i].wave\n",
    "    print(spec.wave[0].shape,spec.data[0].shape)\n",
    "    plt.plot(spec.wave[0],spec.data[0])\n",
    "        #spec.write(\"spec_with_sky\" + \"_{:02d}.fits\".format(i))\n",
    "    #else :\n",
    "        #print('no peak found for slit: ',i)\n",
    "    #plt.draw()"
   ]
  },
  {
   "cell_type": "markdown",
   "id": "c1a6636b-11e2-4afb-a277-b094cb1409f7",
   "metadata": {},
   "source": [
    "Adjusting the calibration using skylines."
   ]
  },
  {
   "cell_type": "markdown",
   "id": "febb6e0a-a913-4045-a330-0294f5ebdd47",
   "metadata": {},
   "source": [
    "This cell performs spectral peak identification and extraction with model adjustments, and reloads necessary modules:\n",
    " - `import copy`: Imports the `copy` module to allow deep copying of objects, which is used to duplicate complex data structures without reference issues.\n",
    " - `importlib.reload(spectra)`: Reloads the `spectra` module, ensuring any updates to the module's code are applied immediately. This is particularly useful during development or iterative testing sessions.\n",
    " - `def model(x): return x*0.`: Defines a baseline model function that outputs zero regardless of input, serving as a default or placeholder model.\n",
    " - `fig = plt.figure()`: Creates a new figure for plotting. This will be used to plot spectral data if needed.\n",
    " - The loop `for i in range(len(out1)):` iterates over all spectra in `out1`.\n",
    "   - `trace3 = spectra.Trace(transpose=False)`: Initializes a new `Trace` object without transposing the data matrix, tailored for spectral analysis.\n",
    "   - `trace3.rows = [0, out1[i].data.shape[0]]`: Specifies the row indices for tracing, covering the entire spectrum's vertical range.\n",
    "   - `trace3.index = [0]`: Sets the starting index for the trace operations, possibly indicating the initial point for spectral processing.\n",
    "   - `peak, ind = trace3.findpeak(out1[i], thresh=10, sort=True)`: Searches for peaks in the spectral data that surpass a threshold intensity, sorting them likely by intensity or significance.\n",
    "   - Conditional processing if peaks are identified:\n",
    "     - If peaks are found (`if len(peak) > 0:`), a custom model function is redefined to return a constant value equal to the highest peak.\n",
    "     - `trace3.model = [model]`: Assigns this new model to the `trace3` object for subsequent extraction operations.\n",
    "     - `spec = trace3.extract(out1[i], rad=4, display=None)`: Performs spectral extraction using the defined model, with a specified radius and without display; adjustments might focus on minimizing background interference.\n",
    "     - `plt.figure(fig)`: Ensures that subsequent plots are made on the originally created figure.\n",
    "     - `spec.wave = out1[i].wave[peak]`: Aligns the extracted spectral data with wavelength information based on detected peaks.\n",
    "     - `swav = copy.deepcopy(wav)`: Creates a deep copy of a wavelength calibration object `wav`, allowing modifications without affecting the original.\n",
    "     - `swav.skyline(spec, thresh=0.5, linear=False, inter=plotinter, file='pyvista/data/sky/skyline.dat')`: Applies a skyline calibration to the spectrum, using parameters to fine-tune the process such as threshold and interpolation.\n",
    "     - Print statements (`print(wav.model)` and `print(swav.model)`) output the model details before and after modifications to track changes.\n",
    " - If no peaks are found, it prints a message indicating the absence of detectable peaks for the current spectrum.\n",
    " - The commented-out lines like `#plt.plot(spec.wave[0], spec.data[0])` and `#plt.draw()` suggest optional plotting or visual updates that are currently disabled for perhaps clarity or performance reasons during debugging.\n"
   ]
  },
  {
   "cell_type": "markdown",
   "id": "a8e9f0e0-6606-4a5d-aa59-edaf4954ef82",
   "metadata": {},
   "source": [
    "*Question*\n",
    "- What are the criteria sued for collecting their skylines or skylines in general? I am using my own skylines."
   ]
  },
  {
   "cell_type": "code",
   "execution_count": 42,
   "id": "77f766d8-da20-4b93-bc18-73303bcfaee3",
   "metadata": {
    "scrolled": true
   },
   "outputs": [
    {
     "ename": "NameError",
     "evalue": "name 'swav' is not defined",
     "output_type": "error",
     "traceback": [
      "\u001b[1;31m---------------------------------------------------------------------------\u001b[0m",
      "\u001b[1;31mNameError\u001b[0m                                 Traceback (most recent call last)",
      "Cell \u001b[1;32mIn[42], line 1\u001b[0m\n\u001b[1;32m----> 1\u001b[0m \u001b[38;5;28mvars\u001b[39m(\u001b[43mswav\u001b[49m)\n",
      "\u001b[1;31mNameError\u001b[0m: name 'swav' is not defined"
     ]
    }
   ],
   "source": [
    "vars(swav)"
   ]
  },
  {
   "cell_type": "code",
   "execution_count": null,
   "id": "b41f7955-331d-4973-a9b8-a2996d933e4e",
   "metadata": {},
   "outputs": [],
   "source": [
    "from astropy.io import ascii, fits"
   ]
  },
  {
   "cell_type": "code",
   "execution_count": null,
   "id": "74538dbb-16e0-479b-8cc7-ebd3614994b8",
   "metadata": {},
   "outputs": [],
   "source": [
    "filename = 'SEG3G2only_sky_00.fits'"
   ]
  },
  {
   "cell_type": "code",
   "execution_count": null,
   "id": "d0a0d196-16f8-4556-a6c0-83e3044e559b",
   "metadata": {},
   "outputs": [],
   "source": [
    "    hdul = fits.open(filename)\n",
    "    #print(hdul[0].header)\n",
    "    hdul.info()"
   ]
  },
  {
   "cell_type": "code",
   "execution_count": null,
   "id": "76951446-4e78-449a-aa34-ffed2dffd81d",
   "metadata": {
    "scrolled": true
   },
   "outputs": [],
   "source": [
    "print(hdul[0].header)"
   ]
  },
  {
   "cell_type": "code",
   "execution_count": null,
   "id": "9eba1be1-cd01-4719-ba46-bd1105804bc4",
   "metadata": {
    "scrolled": true
   },
   "outputs": [],
   "source": [
    "import astropy.io.fits as fits\n",
    "import matplotlib.pyplot as plt\n",
    "\n",
    "# Open the FITS file\n",
    "filename = 'SEG3G2only_sky_00.fits'\n",
    "hdul = fits.open(filename)\n",
    "\n",
    "# Extract the wavelength and flux data\n",
    "flux = hdul[1].data[0]#.flatten()    # Assuming the flux data is in the second HDU\n",
    "wavelength = hdul[4].data[0]  # Assuming the wavelength data is in the fifth HDU\n",
    "\n",
    "# Plot the spectrum\n",
    "plt.figure(figsize=(10, 6))\n",
    "plt.plot(wavelength, flux, label='Spectrum')\n",
    "plt.xlabel('Wavelength')\n",
    "plt.ylabel('Flux')\n",
    "plt.title('Spectrum from FITS file')\n",
    "plt.legend()\n",
    "plt.grid(True)\n",
    "plt.show()\n",
    "\n",
    "# Close the FITS file\n",
    "hdul.close()\n"
   ]
  },
  {
   "cell_type": "code",
   "execution_count": null,
   "id": "21c32d74-2547-4d27-8e0e-3fe6c2de6e21",
   "metadata": {},
   "outputs": [],
   "source": [
    "import astropy.io.fits as fits\n",
    "import matplotlib.pyplot as plt\n",
    "\n",
    "# Open the FITS file\n",
    "filename = 'spec_02.fits'\n",
    "hdul = fits.open(filename)\n",
    "\n",
    "# Extract the flux data from the second HDU\n",
    "flux = hdul[1].data.flatten()  # Assuming the flux data is in the second HDU\n",
    "\n",
    "# Extract the wavelength data from the fifth HDU\n",
    "# Assuming the wavelength data is in the first column and has the same length as the flux data\n",
    "wavelength = hdul[4].data[0]\n",
    "\n",
    "# Ensure the wavelength and flux arrays have the same shape\n",
    "if wavelength.shape[0] != flux.shape[0]:\n",
    "    raise ValueError(f\"The wavelength and flux arrays do not have the same length: {wavelength.shape[0]} vs {flux.shape[0]}\")\n",
    "\n",
    "# Plot the spectrum\n",
    "plt.figure(figsize=(10, 6))\n",
    "plt.plot(wavelength, flux, label='Spectrum')\n",
    "plt.xlabel('Wavelength')\n",
    "plt.ylabel('Flux')\n",
    "plt.title('Spectrum from FITS file')\n",
    "plt.xscale('log')  # Set x-axis to logarithmic scale\n",
    "plt.yscale('log')  # Set y-axis to logarithmic scale\n",
    "plt.legend()\n",
    "plt.grid(True)\n",
    "plt.show()\n",
    "\n",
    "# Close the FITS file\n",
    "hdul.close()\n"
   ]
  },
  {
   "cell_type": "code",
   "execution_count": null,
   "id": "7a44a83d-0ddd-405e-a7eb-eb6b4aa68843",
   "metadata": {},
   "outputs": [],
   "source": [
    "f1 = 'spec_1.fits'"
   ]
  },
  {
   "cell_type": "code",
   "execution_count": null,
   "id": "32a152d3-9387-4ffa-b4d5-65459105a0a0",
   "metadata": {},
   "outputs": [],
   "source": [
    "file = 'spec_with_sky_00.fits'\n",
    "huld = fits.open(file)\n",
    "huld.info()"
   ]
  },
  {
   "cell_type": "code",
   "execution_count": null,
   "id": "321c4165-dc14-4b63-8fee-972957456142",
   "metadata": {
    "scrolled": true
   },
   "outputs": [],
   "source": [
    "huld[0].header"
   ]
  },
  {
   "cell_type": "code",
   "execution_count": null,
   "id": "f61aa2c8-56cf-43cb-8cda-9c95ed0a7666",
   "metadata": {},
   "outputs": [],
   "source": [
    "plt.figure()\n",
    "plt.plot(huld[4].data[0],huld[1].data[0])\n"
   ]
  }
 ],
 "metadata": {
  "kernelspec": {
   "display_name": "Python 3 (ipykernel)",
   "language": "python",
   "name": "python3"
  },
  "language_info": {
   "codemirror_mode": {
    "name": "ipython",
    "version": 3
   },
   "file_extension": ".py",
   "mimetype": "text/x-python",
   "name": "python",
   "nbconvert_exporter": "python",
   "pygments_lexer": "ipython3",
   "version": "3.12.3"
  }
 },
 "nbformat": 4,
 "nbformat_minor": 5
}
